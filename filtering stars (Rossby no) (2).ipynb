{
 "cells": [
  {
   "cell_type": "code",
   "execution_count": 1,
   "metadata": {},
   "outputs": [],
   "source": [
    "#! python -m pip install lightkurve --upgrade;"
   ]
  },
  {
   "cell_type": "code",
   "execution_count": 2,
   "metadata": {},
   "outputs": [],
   "source": [
    "#pip install lightkurve"
   ]
  },
  {
   "cell_type": "code",
   "execution_count": 3,
   "metadata": {},
   "outputs": [],
   "source": [
    "import numpy as np\n",
    "import matplotlib.pyplot as plt\n",
    "from astropy.io import fits           ## To read '.fits' files\n",
    "from astropy.table import Table       ## Not using this for now\n",
    "import scipy.optimize as sci\n",
    "import pandas as pd\n",
    "from IPython.display import display\n",
    "from PIL import Image\n",
    "import lightkurve as lk\n",
    "import scipy as sc"
   ]
  },
  {
   "cell_type": "code",
   "execution_count": 4,
   "metadata": {},
   "outputs": [],
   "source": [
    "## Defining standard astronomical constants to convert to and from relative quantities\n",
    "\n",
    "l_sun = 3.85 * 10 ** 26\n",
    "m_sun = 1.99 * 10 ** 30\n",
    "r_sun = 6.957 * 10 ** 8"
   ]
  },
  {
   "cell_type": "code",
   "execution_count": 5,
   "metadata": {},
   "outputs": [
    {
     "name": "stderr",
     "output_type": "stream",
     "text": [
      "WARNING: VerifyWarning: Invalid keyword for column 10: ASCII table null option (TNULLn) is longer than the column's character width and will be truncated (got '-32768'). [astropy.io.fits.column]\n"
     ]
    },
    {
     "data": {
      "text/plain": [
       "ColDefs(\n",
       "    name = 'TIC'; format = 'I9'; start = 2\n",
       "    name = 'Sec'; format = 'I1'; start = 12\n",
       "    name = 'Nout'; format = 'I2'; start = 14\n",
       "    name = 'Nfl'; format = 'I3'; start = 17\n",
       "    name = 'Amp_mean'; format = 'F8.5'; start = 21\n",
       "    name = 'FWHMdt_mean'; format = 'F8.5'; unit = 'd'; start = 30\n",
       "    name = 'Ebol_mean'; format = 'E9.2'; unit = '10-7J'; start = 39\n",
       "    name = 'MCME_mean'; format = 'E9.2'; unit = 'g'; start = 49\n",
       "    name = 'Tmag'; format = 'F8.5'; unit = 'mag'; start = 59\n",
       "    name = 'Teff'; format = 'I5'; unit = 'K'; start = 68\n",
       "    name = 'Rad'; format = 'F9.6'; unit = 'Rsun'; start = 74\n",
       "    name = 'logg'; format = 'F8.5'; unit = '[cm/s2]'; start = 84\n",
       "    name = 'SpT'; format = 'A6'; start = 93\n",
       "    name = 'Prot'; format = 'F9.6'; unit = 'd'; start = 100\n",
       "    name = 'aFFD'; format = 'F6.3'; start = 110\n",
       "    name = 'bFFD'; format = 'F7.3'; start = 117\n",
       "    name = 'Chem'; format = 'I1'; start = 125\n",
       "    name = 'O3cons'; format = 'I1'; start = 127\n",
       "    name = 'O3perm'; format = 'I1'; start = 129\n",
       "    name = 'Dup'; format = 'I9'; start = 131\n",
       "    name = 'SimbadName'; format = 'A23'; start = 141\n",
       "    name = '_RA'; format = 'F9.5'; unit = 'deg'; start = 165\n",
       "    name = '_DE'; format = 'F9.5'; unit = 'deg'; start = 175\n",
       ")"
      ]
     },
     "execution_count": 5,
     "metadata": {},
     "output_type": "execute_result"
    }
   ],
   "source": [
    "fits.getdata('table_2.fit', ext=1).columns"
   ]
  },
  {
   "cell_type": "code",
   "execution_count": 6,
   "metadata": {},
   "outputs": [],
   "source": [
    "with fits.open('table_2.fit', mode=\"readonly\") as table2:      ## Extracting info from select columns in Table 2\n",
    "    teff = table2[1].data['Teff']                   \n",
    "    r = table2[1].data['Rad']            \n",
    "    ebol = table2[1].data['Ebol_mean']               \n",
    "    amp = table2[1].data['Amp_mean'] \n",
    "    tic = table2[1].data['TIC']\n",
    "    table_2 = table2[1].data\n",
    "    prot = table2[1].data['Prot']\n",
    "    tmag = table2[1].data['Tmag']\n",
    "   "
   ]
  },
  {
   "cell_type": "code",
   "execution_count": 7,
   "metadata": {},
   "outputs": [
    {
     "name": "stdout",
     "output_type": "stream",
     "text": [
      "[11.126  12.551  11.181  ...  9.116   8.4287 10.623 ]\n"
     ]
    }
   ],
   "source": [
    "print((tmag))                ## Checking the first element of Table 2"
   ]
  },
  {
   "cell_type": "code",
   "execution_count": 8,
   "metadata": {},
   "outputs": [],
   "source": [
    "def luminosity (temp, radius):                         # Luminosity in SI units (W)\n",
    "    \n",
    "    l = 5.670374 * (10)**(-8) * 4 * np.pi * (radius * r_sun)**2 * (temp)**4 \n",
    "    return l"
   ]
  },
  {
   "cell_type": "code",
   "execution_count": 9,
   "metadata": {},
   "outputs": [],
   "source": [
    "#luminosity(5772, 1)"
   ]
  },
  {
   "cell_type": "code",
   "execution_count": 10,
   "metadata": {},
   "outputs": [],
   "source": [
    "def lum_to_mass (lum):                                ## Mass-Luminosity conversion (only for M < 0.7 M_sun)\n",
    "    \n",
    "    m = (lum / l_sun /.35)**(1/2.62) * m_sun\n",
    "    return m"
   ]
  },
  {
   "cell_type": "code",
   "execution_count": 11,
   "metadata": {},
   "outputs": [
    {
     "data": {
      "text/plain": [
       "2.9643028859430064e+30"
      ]
     },
     "execution_count": 11,
     "metadata": {},
     "output_type": "execute_result"
    }
   ],
   "source": [
    "lum_to_mass (luminosity(5772, 1))"
   ]
  },
  {
   "cell_type": "code",
   "execution_count": 12,
   "metadata": {},
   "outputs": [],
   "source": [
    "lum = []\n",
    "\n",
    "for (i,j) in zip(teff, r):\n",
    "    \n",
    "    k = luminosity(i,j)\n",
    "    lum.append(k)                ## Creating a list of the derived luminosities\n"
   ]
  },
  {
   "cell_type": "code",
   "execution_count": 13,
   "metadata": {},
   "outputs": [
    {
     "name": "stdout",
     "output_type": "stream",
     "text": [
      "1228\n",
      "1228\n"
     ]
    }
   ],
   "source": [
    "print(len(lum))\n",
    "print(len(r))\n",
    "#print(lum)                  ## List of calulated luminosities"
   ]
  },
  {
   "cell_type": "code",
   "execution_count": 14,
   "metadata": {},
   "outputs": [],
   "source": [
    "lum_array = np.array(lum)\n",
    "index_to_remove = [np.where(lum_array == 0)][0]     ## Finding the index no. of all the elements that have zero luminosity"
   ]
  },
  {
   "cell_type": "code",
   "execution_count": 15,
   "metadata": {},
   "outputs": [
    {
     "name": "stdout",
     "output_type": "stream",
     "text": [
      "170\n"
     ]
    }
   ],
   "source": [
    "#print(index_to_remove[0])              ## List of index no. of all the elements that have incomplete values in Table 2\n",
    "print(len(index_to_remove[0]))\n"
   ]
  },
  {
   "cell_type": "code",
   "execution_count": 16,
   "metadata": {},
   "outputs": [],
   "source": [
    "## Filtering out the elements with incomplete data from select columns of Table 2\n",
    "\n",
    "tic = np.delete(tic, index_to_remove[0])\n",
    "lum = np.delete(lum, index_to_remove[0])\n",
    "teff = np.delete(teff, index_to_remove[0])\n",
    "r = np.delete(r, index_to_remove[0])\n",
    "ebol = np.delete(ebol, index_to_remove[0])\n",
    "amp = np.delete(amp, index_to_remove[0])\n",
    "prot = np.delete(prot, index_to_remove[0])\n",
    "tmag = np.delete(tmag, index_to_remove[0])"
   ]
  },
  {
   "cell_type": "code",
   "execution_count": 17,
   "metadata": {},
   "outputs": [
    {
     "name": "stdout",
     "output_type": "stream",
     "text": [
      "[  2761472   5656273   5676537 ... 441469231 444153368 453101762]\n"
     ]
    }
   ],
   "source": [
    "print(tic)                ## Checking if the values were filtered correctly"
   ]
  },
  {
   "cell_type": "code",
   "execution_count": 18,
   "metadata": {},
   "outputs": [],
   "source": [
    "mass = []\n",
    "\n",
    "for i in lum:\n",
    "    \n",
    "    j = lum_to_mass(i)\n",
    "    mass.append(j)                    ## Creating list of masses using luminosity-mass relation\n",
    "    \n",
    "mass = [x / m_sun for x in mass]      ## Scaling all masses relative to M_sun "
   ]
  },
  {
   "cell_type": "code",
   "execution_count": 19,
   "metadata": {},
   "outputs": [],
   "source": [
    "#print(mass)"
   ]
  },
  {
   "cell_type": "code",
   "execution_count": 20,
   "metadata": {},
   "outputs": [],
   "source": [
    "## Finding index numbers of all elements where mass of the star is greater than 0.6 M_sun\n",
    "\n",
    "mass_array = np.array(mass)\n",
    "index_to_remove = [np.where(mass_array > 0.6)][0]"
   ]
  },
  {
   "cell_type": "code",
   "execution_count": 21,
   "metadata": {},
   "outputs": [],
   "source": [
    "#print(index_to_remove[0]) "
   ]
  },
  {
   "cell_type": "code",
   "execution_count": 22,
   "metadata": {},
   "outputs": [],
   "source": [
    "## Filtering out the elements with mass greater than 0.6 M_sun\n",
    "\n",
    "tic = np.delete(tic, index_to_remove[0])\n",
    "lum = np.delete(lum, index_to_remove[0])\n",
    "teff = np.delete(teff, index_to_remove[0])\n",
    "r = np.delete(r, index_to_remove[0])\n",
    "ebol = np.delete(ebol, index_to_remove[0])\n",
    "amp = np.delete(amp, index_to_remove[0])\n",
    "prot = np.delete(prot, index_to_remove[0])\n",
    "mass = np.delete(mass, index_to_remove[0])\n",
    "tmag = np.delete(tmag, index_to_remove[0])"
   ]
  },
  {
   "cell_type": "code",
   "execution_count": 23,
   "metadata": {},
   "outputs": [],
   "source": [
    "#print((prot))"
   ]
  },
  {
   "cell_type": "code",
   "execution_count": 24,
   "metadata": {},
   "outputs": [],
   "source": [
    "## Finding all the index numbers where period of rotation is 0 (incomplete data)\n",
    "\n",
    "prot_array = np.array(prot)\n",
    "index_to_remove = [np.where(prot_array == 0)][0]"
   ]
  },
  {
   "cell_type": "code",
   "execution_count": 25,
   "metadata": {},
   "outputs": [
    {
     "name": "stdout",
     "output_type": "stream",
     "text": [
      "(array([  5,   9,  13,  21,  25,  30,  32,  34,  37,  38,  40,  43,  44,\n",
      "        46,  47,  49,  52,  55,  63,  65,  70,  72,  78,  79,  81,  83,\n",
      "        85,  87,  96,  98, 101, 102, 105, 107, 109, 111, 114, 115, 116,\n",
      "       119, 130, 132, 133, 134, 136, 138, 140, 142, 144, 149, 151, 156,\n",
      "       157, 158, 162, 164, 165, 167, 178, 183, 184, 185, 187, 189, 190,\n",
      "       194, 196, 198, 201, 205, 210, 212, 214, 218, 220, 221, 224, 225,\n",
      "       228, 229, 231, 234, 235, 238, 240, 241, 247, 251, 253, 256, 263,\n",
      "       266, 267, 269, 280, 283, 284, 290, 294, 298, 301, 304, 309, 314,\n",
      "       315, 320, 321, 322, 323, 328, 329, 337, 341, 346, 348, 350, 352,\n",
      "       369, 371, 381, 382, 384, 393, 396, 405, 411, 418, 419, 426, 430,\n",
      "       432, 438, 439, 442, 444, 449, 452, 458, 460, 468, 470, 472, 479,\n",
      "       480, 486, 488, 489, 490, 493, 494, 495, 496, 500, 501, 502, 517,\n",
      "       523, 525, 530, 531, 534, 536, 537, 545, 547, 548, 549, 550, 554,\n",
      "       561, 563, 566, 573, 575, 578, 581, 582, 587, 588, 591, 592, 598,\n",
      "       599, 603, 609, 610, 611, 612, 613, 619, 622, 624, 629, 630, 634,\n",
      "       636, 637, 638, 644, 649, 650, 651, 655, 656, 657, 659, 661]),)\n"
     ]
    }
   ],
   "source": [
    "print(index_to_remove)"
   ]
  },
  {
   "cell_type": "code",
   "execution_count": 26,
   "metadata": {},
   "outputs": [],
   "source": [
    "## Filtering out the elements with period of rotation equal to 0\n",
    "\n",
    "tic = np.delete(tic, index_to_remove[0])\n",
    "lum = np.delete(lum, index_to_remove[0])\n",
    "teff = np.delete(teff, index_to_remove[0])\n",
    "r = np.delete(r, index_to_remove[0])\n",
    "ebol = np.delete(ebol, index_to_remove[0])\n",
    "amp = np.delete(amp, index_to_remove[0])\n",
    "prot = np.delete(prot, index_to_remove[0])\n",
    "mass = np.delete(mass, index_to_remove[0])\n",
    "tmag = np.delete(tmag, index_to_remove[0])"
   ]
  },
  {
   "cell_type": "code",
   "execution_count": 27,
   "metadata": {},
   "outputs": [],
   "source": [
    "#print((prot))"
   ]
  },
  {
   "cell_type": "code",
   "execution_count": 28,
   "metadata": {},
   "outputs": [],
   "source": [
    "rossby_no = [x / 100 for x in prot]                 ## Rossby No. = Rotation Period / Turnover time ..... Here Turnover Time ~ 100 days for stars of similar mass\n",
    "\n",
    "lum = [x / l_sun for x in lum]                      ## Scaling Luminosity w.r.t. L_sun so it's easier to analyze"
   ]
  },
  {
   "cell_type": "code",
   "execution_count": 29,
   "metadata": {},
   "outputs": [],
   "source": [
    "#print(rossby_no)"
   ]
  },
  {
   "cell_type": "code",
   "execution_count": 30,
   "metadata": {},
   "outputs": [],
   "source": [
    "## Creating a 'dictionary' for the new table with new number of elements and columns\n",
    "\n",
    "dict = {'TESS Input Catalog identifier': tic, 'Tess magnitude': tmag, 'Luminosity (in L_sun)': lum, 'Effective Temp. (in K)': teff, 'Radius (in R_sun)': r, 'Period of Rotation (in days)': prot, 'Rossby Number': rossby_no, 'Bolometric Energy (in erg units)': ebol, 'Relative flare amplitude': amp, 'Mass (in M_sun)': mass}"
   ]
  },
  {
   "cell_type": "code",
   "execution_count": 31,
   "metadata": {},
   "outputs": [],
   "source": [
    "table_2_new = pd.DataFrame(dict)                ## Making a new table with the info in the above box as columns"
   ]
  },
  {
   "cell_type": "code",
   "execution_count": 32,
   "metadata": {},
   "outputs": [
    {
     "data": {
      "text/html": [
       "<div>\n",
       "<style scoped>\n",
       "    .dataframe tbody tr th:only-of-type {\n",
       "        vertical-align: middle;\n",
       "    }\n",
       "\n",
       "    .dataframe tbody tr th {\n",
       "        vertical-align: top;\n",
       "    }\n",
       "\n",
       "    .dataframe thead th {\n",
       "        text-align: right;\n",
       "    }\n",
       "</style>\n",
       "<table border=\"1\" class=\"dataframe\">\n",
       "  <thead>\n",
       "    <tr style=\"text-align: right;\">\n",
       "      <th></th>\n",
       "      <th>TESS Input Catalog identifier</th>\n",
       "      <th>Tess magnitude</th>\n",
       "      <th>Luminosity (in L_sun)</th>\n",
       "      <th>Effective Temp. (in K)</th>\n",
       "      <th>Radius (in R_sun)</th>\n",
       "      <th>Period of Rotation (in days)</th>\n",
       "      <th>Rossby Number</th>\n",
       "      <th>Bolometric Energy (in erg units)</th>\n",
       "      <th>Relative flare amplitude</th>\n",
       "      <th>Mass (in M_sun)</th>\n",
       "    </tr>\n",
       "  </thead>\n",
       "  <tbody>\n",
       "    <tr>\n",
       "      <th>0</th>\n",
       "      <td>2761472</td>\n",
       "      <td>12.55100</td>\n",
       "      <td>0.003575</td>\n",
       "      <td>3041</td>\n",
       "      <td>0.216026</td>\n",
       "      <td>0.958129</td>\n",
       "      <td>0.009581</td>\n",
       "      <td>1.470000e+33</td>\n",
       "      <td>0.75583</td>\n",
       "      <td>0.173843</td>\n",
       "    </tr>\n",
       "    <tr>\n",
       "      <th>1</th>\n",
       "      <td>5656273</td>\n",
       "      <td>9.21070</td>\n",
       "      <td>0.065435</td>\n",
       "      <td>3815</td>\n",
       "      <td>0.587235</td>\n",
       "      <td>0.431193</td>\n",
       "      <td>0.004312</td>\n",
       "      <td>1.060000e+33</td>\n",
       "      <td>0.01613</td>\n",
       "      <td>0.527276</td>\n",
       "    </tr>\n",
       "    <tr>\n",
       "      <th>2</th>\n",
       "      <td>5725904</td>\n",
       "      <td>13.82950</td>\n",
       "      <td>0.004682</td>\n",
       "      <td>3124</td>\n",
       "      <td>0.234268</td>\n",
       "      <td>0.330389</td>\n",
       "      <td>0.003304</td>\n",
       "      <td>1.190000e+33</td>\n",
       "      <td>0.66936</td>\n",
       "      <td>0.192703</td>\n",
       "    </tr>\n",
       "    <tr>\n",
       "      <th>3</th>\n",
       "      <td>5796048</td>\n",
       "      <td>10.80810</td>\n",
       "      <td>0.048189</td>\n",
       "      <td>3621</td>\n",
       "      <td>0.559388</td>\n",
       "      <td>0.555649</td>\n",
       "      <td>0.005556</td>\n",
       "      <td>7.540000e+33</td>\n",
       "      <td>0.13300</td>\n",
       "      <td>0.469167</td>\n",
       "    </tr>\n",
       "    <tr>\n",
       "      <th>4</th>\n",
       "      <td>7151484</td>\n",
       "      <td>9.87974</td>\n",
       "      <td>0.023122</td>\n",
       "      <td>3403</td>\n",
       "      <td>0.438721</td>\n",
       "      <td>1.152180</td>\n",
       "      <td>0.011522</td>\n",
       "      <td>4.130000e+32</td>\n",
       "      <td>0.03822</td>\n",
       "      <td>0.354490</td>\n",
       "    </tr>\n",
       "    <tr>\n",
       "      <th>...</th>\n",
       "      <td>...</td>\n",
       "      <td>...</td>\n",
       "      <td>...</td>\n",
       "      <td>...</td>\n",
       "      <td>...</td>\n",
       "      <td>...</td>\n",
       "      <td>...</td>\n",
       "      <td>...</td>\n",
       "      <td>...</td>\n",
       "      <td>...</td>\n",
       "    </tr>\n",
       "    <tr>\n",
       "      <th>450</th>\n",
       "      <td>431479577</td>\n",
       "      <td>13.55110</td>\n",
       "      <td>0.008920</td>\n",
       "      <td>3147</td>\n",
       "      <td>0.318630</td>\n",
       "      <td>0.596867</td>\n",
       "      <td>0.005969</td>\n",
       "      <td>6.860000e+32</td>\n",
       "      <td>0.15532</td>\n",
       "      <td>0.246443</td>\n",
       "    </tr>\n",
       "    <tr>\n",
       "      <th>451</th>\n",
       "      <td>434097152</td>\n",
       "      <td>12.45770</td>\n",
       "      <td>0.013264</td>\n",
       "      <td>3205</td>\n",
       "      <td>0.374616</td>\n",
       "      <td>4.907685</td>\n",
       "      <td>0.049077</td>\n",
       "      <td>5.670000e+32</td>\n",
       "      <td>0.06628</td>\n",
       "      <td>0.286741</td>\n",
       "    </tr>\n",
       "    <tr>\n",
       "      <th>452</th>\n",
       "      <td>434105094</td>\n",
       "      <td>13.63430</td>\n",
       "      <td>0.001992</td>\n",
       "      <td>2839</td>\n",
       "      <td>0.185013</td>\n",
       "      <td>4.970497</td>\n",
       "      <td>0.049705</td>\n",
       "      <td>2.060000e+32</td>\n",
       "      <td>0.34591</td>\n",
       "      <td>0.139062</td>\n",
       "    </tr>\n",
       "    <tr>\n",
       "      <th>453</th>\n",
       "      <td>441051650</td>\n",
       "      <td>10.82060</td>\n",
       "      <td>0.014210</td>\n",
       "      <td>3326</td>\n",
       "      <td>0.360044</td>\n",
       "      <td>3.500855</td>\n",
       "      <td>0.035009</td>\n",
       "      <td>4.580000e+32</td>\n",
       "      <td>0.05040</td>\n",
       "      <td>0.294379</td>\n",
       "    </tr>\n",
       "    <tr>\n",
       "      <th>454</th>\n",
       "      <td>441461724</td>\n",
       "      <td>12.65250</td>\n",
       "      <td>0.025418</td>\n",
       "      <td>3357</td>\n",
       "      <td>0.472680</td>\n",
       "      <td>3.715193</td>\n",
       "      <td>0.037152</td>\n",
       "      <td>8.440000e+32</td>\n",
       "      <td>0.06045</td>\n",
       "      <td>0.367533</td>\n",
       "    </tr>\n",
       "  </tbody>\n",
       "</table>\n",
       "<p>455 rows × 10 columns</p>\n",
       "</div>"
      ],
      "text/plain": [
       "     TESS Input Catalog identifier  Tess magnitude  Luminosity (in L_sun)  \\\n",
       "0                          2761472        12.55100               0.003575   \n",
       "1                          5656273         9.21070               0.065435   \n",
       "2                          5725904        13.82950               0.004682   \n",
       "3                          5796048        10.80810               0.048189   \n",
       "4                          7151484         9.87974               0.023122   \n",
       "..                             ...             ...                    ...   \n",
       "450                      431479577        13.55110               0.008920   \n",
       "451                      434097152        12.45770               0.013264   \n",
       "452                      434105094        13.63430               0.001992   \n",
       "453                      441051650        10.82060               0.014210   \n",
       "454                      441461724        12.65250               0.025418   \n",
       "\n",
       "     Effective Temp. (in K)  Radius (in R_sun)  Period of Rotation (in days)  \\\n",
       "0                      3041           0.216026                      0.958129   \n",
       "1                      3815           0.587235                      0.431193   \n",
       "2                      3124           0.234268                      0.330389   \n",
       "3                      3621           0.559388                      0.555649   \n",
       "4                      3403           0.438721                      1.152180   \n",
       "..                      ...                ...                           ...   \n",
       "450                    3147           0.318630                      0.596867   \n",
       "451                    3205           0.374616                      4.907685   \n",
       "452                    2839           0.185013                      4.970497   \n",
       "453                    3326           0.360044                      3.500855   \n",
       "454                    3357           0.472680                      3.715193   \n",
       "\n",
       "     Rossby Number  Bolometric Energy (in erg units)  \\\n",
       "0         0.009581                      1.470000e+33   \n",
       "1         0.004312                      1.060000e+33   \n",
       "2         0.003304                      1.190000e+33   \n",
       "3         0.005556                      7.540000e+33   \n",
       "4         0.011522                      4.130000e+32   \n",
       "..             ...                               ...   \n",
       "450       0.005969                      6.860000e+32   \n",
       "451       0.049077                      5.670000e+32   \n",
       "452       0.049705                      2.060000e+32   \n",
       "453       0.035009                      4.580000e+32   \n",
       "454       0.037152                      8.440000e+32   \n",
       "\n",
       "     Relative flare amplitude  Mass (in M_sun)  \n",
       "0                     0.75583         0.173843  \n",
       "1                     0.01613         0.527276  \n",
       "2                     0.66936         0.192703  \n",
       "3                     0.13300         0.469167  \n",
       "4                     0.03822         0.354490  \n",
       "..                        ...              ...  \n",
       "450                   0.15532         0.246443  \n",
       "451                   0.06628         0.286741  \n",
       "452                   0.34591         0.139062  \n",
       "453                   0.05040         0.294379  \n",
       "454                   0.06045         0.367533  \n",
       "\n",
       "[455 rows x 10 columns]"
      ]
     },
     "metadata": {},
     "output_type": "display_data"
    }
   ],
   "source": [
    "display(table_2_new)"
   ]
  },
  {
   "cell_type": "markdown",
   "metadata": {},
   "source": [
    "### Calculating turnover times for all stars with mass < 0.6 M_sun"
   ]
  },
  {
   "cell_type": "code",
   "execution_count": 33,
   "metadata": {},
   "outputs": [
    {
     "name": "stdout",
     "output_type": "stream",
     "text": [
      "1.0\n",
      "455\n"
     ]
    }
   ],
   "source": [
    "print(np.log10(10))\n",
    "print(len(teff))"
   ]
  },
  {
   "cell_type": "code",
   "execution_count": 34,
   "metadata": {},
   "outputs": [
    {
     "name": "stdout",
     "output_type": "stream",
     "text": [
      "3.4473131088235682\n",
      "3.6283889300503116\n",
      "3.509704929969968\n"
     ]
    }
   ],
   "source": [
    "log_teff = [np.log10(x) for x in teff]\n",
    "print(np.min(log_teff))\n",
    "print(np.max(log_teff))\n",
    "print(np.average(log_teff))"
   ]
  },
  {
   "cell_type": "code",
   "execution_count": 35,
   "metadata": {},
   "outputs": [
    {
     "data": {
      "image/jpeg": "[encoded data removed]",
      "text/plain": [
       "<IPython.core.display.Image object>"
      ]
     },
     "metadata": {},
     "output_type": "display_data"
    }
   ],
   "source": [
    "## Note: This is how you can add images to a Jupyter notebook\n",
    "\n",
    "from IPython.display import Image                                 ## Import the package\n",
    "turnovertime_teff = Image(filename='turnover_time-teff.jpg')      ## You will have to upload the image in 'jpg' format to the same folder as the notebook and use this command to import it\n",
    "display(turnovertime_teff)                                        ## This just shows the image"
   ]
  },
  {
   "cell_type": "markdown",
   "metadata": {},
   "source": [
    "Source for image: Kim, Y.-C., and Demarque, P. 1996, ApJ, 457, 340 \n",
    "\n",
    "Since the average $log (T_{eff})$ is around 3.5, the above graph predicts the turnover time ($T_{c}$) to be between 100 and 150 days. Since the calculation of Rossby Number done using 100 days yielded all values less than 0.1, making the turnover time greater than 100 days wouldn't help in filtering out any more stars."
   ]
  },
  {
   "cell_type": "markdown",
   "metadata": {},
   "source": [
    "### Partially Convective / Not-Fully Convective Stars data:"
   ]
  },
  {
   "cell_type": "code",
   "execution_count": 36,
   "metadata": {},
   "outputs": [],
   "source": [
    "## Finding index numbers of all stars with mass less than 0.4 M_sun\n",
    "\n",
    "mass_array = np.array(mass)\n",
    "index_to_remove = [np.where(mass_array < 0.4)][0]"
   ]
  },
  {
   "cell_type": "code",
   "execution_count": 37,
   "metadata": {},
   "outputs": [],
   "source": [
    "## Creating lists of stars with mass between 0.4 M_sun and 0.6 M_sun\n",
    "\n",
    "tic_non_conv = np.delete(tic, index_to_remove[0])\n",
    "lum_non_conv = np.delete(lum, index_to_remove[0])\n",
    "teff_non_conv = np.delete(teff, index_to_remove[0])\n",
    "r_non_conv = np.delete(r, index_to_remove[0])\n",
    "ebol_non_conv = np.delete(ebol, index_to_remove[0])\n",
    "amp_non_conv = np.delete(amp, index_to_remove[0])\n",
    "prot_non_conv = np.delete(prot, index_to_remove[0])\n",
    "mass_non_conv = np.delete(mass, index_to_remove[0])\n",
    "rossby_no_non_conv = np.delete(rossby_no, index_to_remove[0])\n",
    "tmag_non_conv = np.delete(tmag, index_to_remove[0])"
   ]
  },
  {
   "cell_type": "code",
   "execution_count": 38,
   "metadata": {},
   "outputs": [
    {
     "name": "stdout",
     "output_type": "stream",
     "text": [
      "82\n"
     ]
    }
   ],
   "source": [
    "print(len(mass_non_conv))"
   ]
  },
  {
   "cell_type": "code",
   "execution_count": 39,
   "metadata": {},
   "outputs": [],
   "source": [
    "## Calculating Relative Flare Energies from the formula in Scialog_2019 ..... E ~ B^2 L^3 / (8 pi)\n",
    "\n",
    "flare_eng_non_conv = [x**2  for x in amp_non_conv]         ## Flare amplitudes (B) are relaive in Table 2 so units don't really matter here. L ~ 10^8 cm"
   ]
  },
  {
   "cell_type": "code",
   "execution_count": 40,
   "metadata": {},
   "outputs": [
    {
     "data": {
      "text/html": [
       "<div>\n",
       "<style scoped>\n",
       "    .dataframe tbody tr th:only-of-type {\n",
       "        vertical-align: middle;\n",
       "    }\n",
       "\n",
       "    .dataframe tbody tr th {\n",
       "        vertical-align: top;\n",
       "    }\n",
       "\n",
       "    .dataframe thead th {\n",
       "        text-align: right;\n",
       "    }\n",
       "</style>\n",
       "<table border=\"1\" class=\"dataframe\">\n",
       "  <thead>\n",
       "    <tr style=\"text-align: right;\">\n",
       "      <th></th>\n",
       "      <th>TESS Input Catalog identifier</th>\n",
       "      <th>Tess magnitude</th>\n",
       "      <th>Luminosity (in L_sun)</th>\n",
       "      <th>Effective Temp. (in K)</th>\n",
       "      <th>Radius (in R_sun)</th>\n",
       "      <th>Period of Rotation (in days)</th>\n",
       "      <th>Rossby Number</th>\n",
       "      <th>Bolometric Energy (in erg units)</th>\n",
       "      <th>Relative flare amplitude</th>\n",
       "      <th>Mass (in M_sun)</th>\n",
       "      <th>Relative Flare Energies:</th>\n",
       "    </tr>\n",
       "  </thead>\n",
       "  <tbody>\n",
       "    <tr>\n",
       "      <th>0</th>\n",
       "      <td>5656273</td>\n",
       "      <td>9.2107</td>\n",
       "      <td>0.065435</td>\n",
       "      <td>3815</td>\n",
       "      <td>0.587235</td>\n",
       "      <td>0.431193</td>\n",
       "      <td>0.004312</td>\n",
       "      <td>1.060000e+33</td>\n",
       "      <td>0.01613</td>\n",
       "      <td>0.527276</td>\n",
       "      <td>0.000260</td>\n",
       "    </tr>\n",
       "    <tr>\n",
       "      <th>1</th>\n",
       "      <td>5796048</td>\n",
       "      <td>10.8081</td>\n",
       "      <td>0.048189</td>\n",
       "      <td>3621</td>\n",
       "      <td>0.559388</td>\n",
       "      <td>0.555649</td>\n",
       "      <td>0.005556</td>\n",
       "      <td>7.540000e+33</td>\n",
       "      <td>0.13300</td>\n",
       "      <td>0.469167</td>\n",
       "      <td>0.017689</td>\n",
       "    </tr>\n",
       "    <tr>\n",
       "      <th>2</th>\n",
       "      <td>12421477</td>\n",
       "      <td>11.7010</td>\n",
       "      <td>0.043505</td>\n",
       "      <td>3461</td>\n",
       "      <td>0.581786</td>\n",
       "      <td>0.358996</td>\n",
       "      <td>0.003590</td>\n",
       "      <td>4.080000e+33</td>\n",
       "      <td>0.05334</td>\n",
       "      <td>0.451209</td>\n",
       "      <td>0.002845</td>\n",
       "    </tr>\n",
       "    <tr>\n",
       "      <th>3</th>\n",
       "      <td>20892891</td>\n",
       "      <td>11.5143</td>\n",
       "      <td>0.032891</td>\n",
       "      <td>3516</td>\n",
       "      <td>0.490161</td>\n",
       "      <td>4.790643</td>\n",
       "      <td>0.047906</td>\n",
       "      <td>1.760000e+33</td>\n",
       "      <td>0.07501</td>\n",
       "      <td>0.405526</td>\n",
       "      <td>0.005627</td>\n",
       "    </tr>\n",
       "    <tr>\n",
       "      <th>4</th>\n",
       "      <td>25132999</td>\n",
       "      <td>10.8124</td>\n",
       "      <td>0.079914</td>\n",
       "      <td>3945</td>\n",
       "      <td>0.606897</td>\n",
       "      <td>4.920120</td>\n",
       "      <td>0.049201</td>\n",
       "      <td>1.050000e+34</td>\n",
       "      <td>0.10711</td>\n",
       "      <td>0.569080</td>\n",
       "      <td>0.011473</td>\n",
       "    </tr>\n",
       "    <tr>\n",
       "      <th>...</th>\n",
       "      <td>...</td>\n",
       "      <td>...</td>\n",
       "      <td>...</td>\n",
       "      <td>...</td>\n",
       "      <td>...</td>\n",
       "      <td>...</td>\n",
       "      <td>...</td>\n",
       "      <td>...</td>\n",
       "      <td>...</td>\n",
       "      <td>...</td>\n",
       "      <td>...</td>\n",
       "    </tr>\n",
       "    <tr>\n",
       "      <th>77</th>\n",
       "      <td>381977500</td>\n",
       "      <td>14.2431</td>\n",
       "      <td>0.043415</td>\n",
       "      <td>3312</td>\n",
       "      <td>0.634654</td>\n",
       "      <td>2.170426</td>\n",
       "      <td>0.021704</td>\n",
       "      <td>2.460000e+34</td>\n",
       "      <td>0.32554</td>\n",
       "      <td>0.450853</td>\n",
       "      <td>0.105976</td>\n",
       "    </tr>\n",
       "    <tr>\n",
       "      <th>78</th>\n",
       "      <td>394275759</td>\n",
       "      <td>12.0629</td>\n",
       "      <td>0.040006</td>\n",
       "      <td>3433</td>\n",
       "      <td>0.567039</td>\n",
       "      <td>0.933711</td>\n",
       "      <td>0.009337</td>\n",
       "      <td>2.080000e+33</td>\n",
       "      <td>0.04253</td>\n",
       "      <td>0.436999</td>\n",
       "      <td>0.001809</td>\n",
       "    </tr>\n",
       "    <tr>\n",
       "      <th>79</th>\n",
       "      <td>402319281</td>\n",
       "      <td>10.3052</td>\n",
       "      <td>0.070758</td>\n",
       "      <td>3723</td>\n",
       "      <td>0.641207</td>\n",
       "      <td>0.309838</td>\n",
       "      <td>0.003098</td>\n",
       "      <td>3.390000e+33</td>\n",
       "      <td>0.04404</td>\n",
       "      <td>0.543253</td>\n",
       "      <td>0.001940</td>\n",
       "    </tr>\n",
       "    <tr>\n",
       "      <th>80</th>\n",
       "      <td>403237836</td>\n",
       "      <td>10.5282</td>\n",
       "      <td>0.053369</td>\n",
       "      <td>3530</td>\n",
       "      <td>0.619429</td>\n",
       "      <td>0.426865</td>\n",
       "      <td>0.004269</td>\n",
       "      <td>2.660000e+33</td>\n",
       "      <td>0.04244</td>\n",
       "      <td>0.487811</td>\n",
       "      <td>0.001801</td>\n",
       "    </tr>\n",
       "    <tr>\n",
       "      <th>81</th>\n",
       "      <td>409141581</td>\n",
       "      <td>10.8935</td>\n",
       "      <td>0.078017</td>\n",
       "      <td>3900</td>\n",
       "      <td>0.613568</td>\n",
       "      <td>2.717080</td>\n",
       "      <td>0.027171</td>\n",
       "      <td>3.880000e+33</td>\n",
       "      <td>0.03912</td>\n",
       "      <td>0.563886</td>\n",
       "      <td>0.001530</td>\n",
       "    </tr>\n",
       "  </tbody>\n",
       "</table>\n",
       "<p>82 rows × 11 columns</p>\n",
       "</div>"
      ],
      "text/plain": [
       "    TESS Input Catalog identifier  Tess magnitude  Luminosity (in L_sun)  \\\n",
       "0                         5656273          9.2107               0.065435   \n",
       "1                         5796048         10.8081               0.048189   \n",
       "2                        12421477         11.7010               0.043505   \n",
       "3                        20892891         11.5143               0.032891   \n",
       "4                        25132999         10.8124               0.079914   \n",
       "..                            ...             ...                    ...   \n",
       "77                      381977500         14.2431               0.043415   \n",
       "78                      394275759         12.0629               0.040006   \n",
       "79                      402319281         10.3052               0.070758   \n",
       "80                      403237836         10.5282               0.053369   \n",
       "81                      409141581         10.8935               0.078017   \n",
       "\n",
       "    Effective Temp. (in K)  Radius (in R_sun)  Period of Rotation (in days)  \\\n",
       "0                     3815           0.587235                      0.431193   \n",
       "1                     3621           0.559388                      0.555649   \n",
       "2                     3461           0.581786                      0.358996   \n",
       "3                     3516           0.490161                      4.790643   \n",
       "4                     3945           0.606897                      4.920120   \n",
       "..                     ...                ...                           ...   \n",
       "77                    3312           0.634654                      2.170426   \n",
       "78                    3433           0.567039                      0.933711   \n",
       "79                    3723           0.641207                      0.309838   \n",
       "80                    3530           0.619429                      0.426865   \n",
       "81                    3900           0.613568                      2.717080   \n",
       "\n",
       "    Rossby Number  Bolometric Energy (in erg units)  Relative flare amplitude  \\\n",
       "0        0.004312                      1.060000e+33                   0.01613   \n",
       "1        0.005556                      7.540000e+33                   0.13300   \n",
       "2        0.003590                      4.080000e+33                   0.05334   \n",
       "3        0.047906                      1.760000e+33                   0.07501   \n",
       "4        0.049201                      1.050000e+34                   0.10711   \n",
       "..            ...                               ...                       ...   \n",
       "77       0.021704                      2.460000e+34                   0.32554   \n",
       "78       0.009337                      2.080000e+33                   0.04253   \n",
       "79       0.003098                      3.390000e+33                   0.04404   \n",
       "80       0.004269                      2.660000e+33                   0.04244   \n",
       "81       0.027171                      3.880000e+33                   0.03912   \n",
       "\n",
       "    Mass (in M_sun)  Relative Flare Energies:  \n",
       "0          0.527276                  0.000260  \n",
       "1          0.469167                  0.017689  \n",
       "2          0.451209                  0.002845  \n",
       "3          0.405526                  0.005627  \n",
       "4          0.569080                  0.011473  \n",
       "..              ...                       ...  \n",
       "77         0.450853                  0.105976  \n",
       "78         0.436999                  0.001809  \n",
       "79         0.543253                  0.001940  \n",
       "80         0.487811                  0.001801  \n",
       "81         0.563886                  0.001530  \n",
       "\n",
       "[82 rows x 11 columns]"
      ]
     },
     "metadata": {},
     "output_type": "display_data"
    }
   ],
   "source": [
    "## Creating a 'dictionary' for the new table with new number of elements and columns\n",
    "\n",
    "dict_non_conv = {'TESS Input Catalog identifier': tic_non_conv, 'Tess magnitude': tmag_non_conv, 'Luminosity (in L_sun)': lum_non_conv, 'Effective Temp. (in K)': teff_non_conv, 'Radius (in R_sun)': r_non_conv, 'Period of Rotation (in days)': prot_non_conv, 'Rossby Number': rossby_no_non_conv, 'Bolometric Energy (in erg units)': ebol_non_conv, 'Relative flare amplitude': amp_non_conv, 'Mass (in M_sun)': mass_non_conv, 'Relative Flare Energies:': flare_eng_non_conv}\n",
    "\n",
    "table_2_non_conv = pd.DataFrame(dict_non_conv)                ## Making a new table with the info in the above box as columns\n",
    "\n",
    "display(table_2_non_conv)                                     ## Making a table for non-convective stars"
   ]
  },
  {
   "cell_type": "markdown",
   "metadata": {},
   "source": [
    "### Convective Stars data:"
   ]
  },
  {
   "cell_type": "code",
   "execution_count": 41,
   "metadata": {},
   "outputs": [],
   "source": [
    "## Finding index numbers of all stars with mass greater than 0.4 M_sun\n",
    "\n",
    "mass_array = np.array(mass)\n",
    "index_to_remove = [np.where(mass_array >= 0.4)][0]"
   ]
  },
  {
   "cell_type": "code",
   "execution_count": 42,
   "metadata": {},
   "outputs": [],
   "source": [
    "## Creating lists of stars with mass equal to or less than 0.4 M_sun\n",
    "\n",
    "tic_conv = np.delete(tic, index_to_remove[0])\n",
    "lum_conv = np.delete(lum, index_to_remove[0])\n",
    "teff_conv = np.delete(teff, index_to_remove[0])\n",
    "r_conv = np.delete(r, index_to_remove[0])\n",
    "ebol_conv = np.delete(ebol, index_to_remove[0])\n",
    "amp_conv = np.delete(amp, index_to_remove[0])\n",
    "prot_conv = np.delete(prot, index_to_remove[0])\n",
    "mass_conv = np.delete(mass, index_to_remove[0])\n",
    "rossby_no_conv = np.delete(rossby_no, index_to_remove[0])\n",
    "tmag_conv = np.delete(tmag, index_to_remove[0])"
   ]
  },
  {
   "cell_type": "code",
   "execution_count": 43,
   "metadata": {},
   "outputs": [
    {
     "name": "stdout",
     "output_type": "stream",
     "text": [
      "373\n"
     ]
    }
   ],
   "source": [
    "print(len(mass_conv))"
   ]
  },
  {
   "cell_type": "code",
   "execution_count": 44,
   "metadata": {},
   "outputs": [],
   "source": [
    "## Calculating Relative Flare Energies from the formula in Scialog_2019 ..... E ~ B^2 L^3 / (8 pi)\n",
    "\n",
    "flare_eng_conv = [x**2 for x in amp_conv]         ## Flare amplitudes (B) are relaive in Table 2 so units don't really matter here. L ~ 10^8 cm"
   ]
  },
  {
   "cell_type": "code",
   "execution_count": 45,
   "metadata": {},
   "outputs": [
    {
     "data": {
      "text/html": [
       "<div>\n",
       "<style scoped>\n",
       "    .dataframe tbody tr th:only-of-type {\n",
       "        vertical-align: middle;\n",
       "    }\n",
       "\n",
       "    .dataframe tbody tr th {\n",
       "        vertical-align: top;\n",
       "    }\n",
       "\n",
       "    .dataframe thead th {\n",
       "        text-align: right;\n",
       "    }\n",
       "</style>\n",
       "<table border=\"1\" class=\"dataframe\">\n",
       "  <thead>\n",
       "    <tr style=\"text-align: right;\">\n",
       "      <th></th>\n",
       "      <th>TESS Input Catalog identifier</th>\n",
       "      <th>Tess magnitude</th>\n",
       "      <th>Luminosity (in L_sun)</th>\n",
       "      <th>Effective Temp. (in K)</th>\n",
       "      <th>Radius (in R_sun)</th>\n",
       "      <th>Period of Rotation (in days)</th>\n",
       "      <th>Rossby Number</th>\n",
       "      <th>Bolometric Energy (in erg units)</th>\n",
       "      <th>Relative flare amplitude</th>\n",
       "      <th>Mass (in M_sun)</th>\n",
       "      <th>Relative Flare Energies</th>\n",
       "    </tr>\n",
       "  </thead>\n",
       "  <tbody>\n",
       "    <tr>\n",
       "      <th>0</th>\n",
       "      <td>2761472</td>\n",
       "      <td>12.55100</td>\n",
       "      <td>0.003575</td>\n",
       "      <td>3041</td>\n",
       "      <td>0.216026</td>\n",
       "      <td>0.958129</td>\n",
       "      <td>0.009581</td>\n",
       "      <td>1.470000e+33</td>\n",
       "      <td>0.75583</td>\n",
       "      <td>0.173843</td>\n",
       "      <td>0.571279</td>\n",
       "    </tr>\n",
       "    <tr>\n",
       "      <th>1</th>\n",
       "      <td>5725904</td>\n",
       "      <td>13.82950</td>\n",
       "      <td>0.004682</td>\n",
       "      <td>3124</td>\n",
       "      <td>0.234268</td>\n",
       "      <td>0.330389</td>\n",
       "      <td>0.003304</td>\n",
       "      <td>1.190000e+33</td>\n",
       "      <td>0.66936</td>\n",
       "      <td>0.192703</td>\n",
       "      <td>0.448043</td>\n",
       "    </tr>\n",
       "    <tr>\n",
       "      <th>2</th>\n",
       "      <td>7151484</td>\n",
       "      <td>9.87974</td>\n",
       "      <td>0.023122</td>\n",
       "      <td>3403</td>\n",
       "      <td>0.438721</td>\n",
       "      <td>1.152180</td>\n",
       "      <td>0.011522</td>\n",
       "      <td>4.130000e+32</td>\n",
       "      <td>0.03822</td>\n",
       "      <td>0.354490</td>\n",
       "      <td>0.001461</td>\n",
       "    </tr>\n",
       "    <tr>\n",
       "      <th>3</th>\n",
       "      <td>12423835</td>\n",
       "      <td>12.99490</td>\n",
       "      <td>0.010283</td>\n",
       "      <td>3190</td>\n",
       "      <td>0.332948</td>\n",
       "      <td>2.844444</td>\n",
       "      <td>0.028444</td>\n",
       "      <td>3.130000e+33</td>\n",
       "      <td>0.28766</td>\n",
       "      <td>0.260188</td>\n",
       "      <td>0.082748</td>\n",
       "    </tr>\n",
       "    <tr>\n",
       "      <th>4</th>\n",
       "      <td>12471629</td>\n",
       "      <td>11.71260</td>\n",
       "      <td>0.018809</td>\n",
       "      <td>3213</td>\n",
       "      <td>0.443879</td>\n",
       "      <td>2.229400</td>\n",
       "      <td>0.022294</td>\n",
       "      <td>4.640000e+32</td>\n",
       "      <td>0.03139</td>\n",
       "      <td>0.327631</td>\n",
       "      <td>0.000985</td>\n",
       "    </tr>\n",
       "    <tr>\n",
       "      <th>...</th>\n",
       "      <td>...</td>\n",
       "      <td>...</td>\n",
       "      <td>...</td>\n",
       "      <td>...</td>\n",
       "      <td>...</td>\n",
       "      <td>...</td>\n",
       "      <td>...</td>\n",
       "      <td>...</td>\n",
       "      <td>...</td>\n",
       "      <td>...</td>\n",
       "      <td>...</td>\n",
       "    </tr>\n",
       "    <tr>\n",
       "      <th>368</th>\n",
       "      <td>431479577</td>\n",
       "      <td>13.55110</td>\n",
       "      <td>0.008920</td>\n",
       "      <td>3147</td>\n",
       "      <td>0.318630</td>\n",
       "      <td>0.596867</td>\n",
       "      <td>0.005969</td>\n",
       "      <td>6.860000e+32</td>\n",
       "      <td>0.15532</td>\n",
       "      <td>0.246443</td>\n",
       "      <td>0.024124</td>\n",
       "    </tr>\n",
       "    <tr>\n",
       "      <th>369</th>\n",
       "      <td>434097152</td>\n",
       "      <td>12.45770</td>\n",
       "      <td>0.013264</td>\n",
       "      <td>3205</td>\n",
       "      <td>0.374616</td>\n",
       "      <td>4.907685</td>\n",
       "      <td>0.049077</td>\n",
       "      <td>5.670000e+32</td>\n",
       "      <td>0.06628</td>\n",
       "      <td>0.286741</td>\n",
       "      <td>0.004393</td>\n",
       "    </tr>\n",
       "    <tr>\n",
       "      <th>370</th>\n",
       "      <td>434105094</td>\n",
       "      <td>13.63430</td>\n",
       "      <td>0.001992</td>\n",
       "      <td>2839</td>\n",
       "      <td>0.185013</td>\n",
       "      <td>4.970497</td>\n",
       "      <td>0.049705</td>\n",
       "      <td>2.060000e+32</td>\n",
       "      <td>0.34591</td>\n",
       "      <td>0.139062</td>\n",
       "      <td>0.119654</td>\n",
       "    </tr>\n",
       "    <tr>\n",
       "      <th>371</th>\n",
       "      <td>441051650</td>\n",
       "      <td>10.82060</td>\n",
       "      <td>0.014210</td>\n",
       "      <td>3326</td>\n",
       "      <td>0.360044</td>\n",
       "      <td>3.500855</td>\n",
       "      <td>0.035009</td>\n",
       "      <td>4.580000e+32</td>\n",
       "      <td>0.05040</td>\n",
       "      <td>0.294379</td>\n",
       "      <td>0.002540</td>\n",
       "    </tr>\n",
       "    <tr>\n",
       "      <th>372</th>\n",
       "      <td>441461724</td>\n",
       "      <td>12.65250</td>\n",
       "      <td>0.025418</td>\n",
       "      <td>3357</td>\n",
       "      <td>0.472680</td>\n",
       "      <td>3.715193</td>\n",
       "      <td>0.037152</td>\n",
       "      <td>8.440000e+32</td>\n",
       "      <td>0.06045</td>\n",
       "      <td>0.367533</td>\n",
       "      <td>0.003654</td>\n",
       "    </tr>\n",
       "  </tbody>\n",
       "</table>\n",
       "<p>373 rows × 11 columns</p>\n",
       "</div>"
      ],
      "text/plain": [
       "     TESS Input Catalog identifier  Tess magnitude  Luminosity (in L_sun)  \\\n",
       "0                          2761472        12.55100               0.003575   \n",
       "1                          5725904        13.82950               0.004682   \n",
       "2                          7151484         9.87974               0.023122   \n",
       "3                         12423835        12.99490               0.010283   \n",
       "4                         12471629        11.71260               0.018809   \n",
       "..                             ...             ...                    ...   \n",
       "368                      431479577        13.55110               0.008920   \n",
       "369                      434097152        12.45770               0.013264   \n",
       "370                      434105094        13.63430               0.001992   \n",
       "371                      441051650        10.82060               0.014210   \n",
       "372                      441461724        12.65250               0.025418   \n",
       "\n",
       "     Effective Temp. (in K)  Radius (in R_sun)  Period of Rotation (in days)  \\\n",
       "0                      3041           0.216026                      0.958129   \n",
       "1                      3124           0.234268                      0.330389   \n",
       "2                      3403           0.438721                      1.152180   \n",
       "3                      3190           0.332948                      2.844444   \n",
       "4                      3213           0.443879                      2.229400   \n",
       "..                      ...                ...                           ...   \n",
       "368                    3147           0.318630                      0.596867   \n",
       "369                    3205           0.374616                      4.907685   \n",
       "370                    2839           0.185013                      4.970497   \n",
       "371                    3326           0.360044                      3.500855   \n",
       "372                    3357           0.472680                      3.715193   \n",
       "\n",
       "     Rossby Number  Bolometric Energy (in erg units)  \\\n",
       "0         0.009581                      1.470000e+33   \n",
       "1         0.003304                      1.190000e+33   \n",
       "2         0.011522                      4.130000e+32   \n",
       "3         0.028444                      3.130000e+33   \n",
       "4         0.022294                      4.640000e+32   \n",
       "..             ...                               ...   \n",
       "368       0.005969                      6.860000e+32   \n",
       "369       0.049077                      5.670000e+32   \n",
       "370       0.049705                      2.060000e+32   \n",
       "371       0.035009                      4.580000e+32   \n",
       "372       0.037152                      8.440000e+32   \n",
       "\n",
       "     Relative flare amplitude  Mass (in M_sun)  Relative Flare Energies  \n",
       "0                     0.75583         0.173843                 0.571279  \n",
       "1                     0.66936         0.192703                 0.448043  \n",
       "2                     0.03822         0.354490                 0.001461  \n",
       "3                     0.28766         0.260188                 0.082748  \n",
       "4                     0.03139         0.327631                 0.000985  \n",
       "..                        ...              ...                      ...  \n",
       "368                   0.15532         0.246443                 0.024124  \n",
       "369                   0.06628         0.286741                 0.004393  \n",
       "370                   0.34591         0.139062                 0.119654  \n",
       "371                   0.05040         0.294379                 0.002540  \n",
       "372                   0.06045         0.367533                 0.003654  \n",
       "\n",
       "[373 rows x 11 columns]"
      ]
     },
     "metadata": {},
     "output_type": "display_data"
    }
   ],
   "source": [
    "## Creating a 'dictionary' for the new table with new number of elements and columns\n",
    "\n",
    "dict_conv = {'TESS Input Catalog identifier': tic_conv, 'Tess magnitude': tmag_conv, 'Luminosity (in L_sun)': lum_conv, 'Effective Temp. (in K)': teff_conv, 'Radius (in R_sun)': r_conv, 'Period of Rotation (in days)': prot_conv, 'Rossby Number': rossby_no_conv, 'Bolometric Energy (in erg units)': ebol_conv, 'Relative flare amplitude': amp_conv, 'Mass (in M_sun)': mass_conv, 'Relative Flare Energies': flare_eng_conv}\n",
    "\n",
    "table_2_conv = pd.DataFrame(dict_conv)                ## Making a new table with the info in the above box as columns\n",
    "\n",
    "display(table_2_conv)                                 ## Making a table for convective stars"
   ]
  },
  {
   "cell_type": "markdown",
   "metadata": {},
   "source": [
    "### KS Test p-values "
   ]
  },
  {
   "cell_type": "code",
   "execution_count": 46,
   "metadata": {},
   "outputs": [
    {
     "name": "stdout",
     "output_type": "stream",
     "text": [
      "KstestResult(statistic=0.5862486104753809, pvalue=1.9634191726805532e-22)\n"
     ]
    },
    {
     "data": {
      "text/plain": [
       "Text(0, 0.5, 'Relative Flare Energies')"
      ]
     },
     "execution_count": 46,
     "metadata": {},
     "output_type": "execute_result"
    },
    {
     "data": {
      "image/png": "[encoded data removed]",
      "text/plain": [
       "<Figure size 432x288 with 1 Axes>"
      ]
     },
     "metadata": {
      "needs_background": "light"
     },
     "output_type": "display_data"
    }
   ],
   "source": [
    "#conv_list = flare_eng_conv.sort()\n",
    "#non_conv_list = flare_eng_non_conv.sort()\n",
    "\n",
    "print(sc.stats.ks_2samp(flare_eng_conv, flare_eng_non_conv))\n",
    "\n",
    "plt.plot( tmag_conv, flare_eng_conv, '.')          ## Blue\n",
    "plt.plot( tmag_non_conv,flare_eng_non_conv, '.')   ## Orange\n",
    "plt.yscale('log')\n",
    "#plt.xlim(11,13.1)\n",
    "plt.xlabel('TESS Magnitude')\n",
    "plt.ylabel('Relative Flare Energies')"
   ]
  },
  {
   "cell_type": "code",
   "execution_count": 47,
   "metadata": {},
   "outputs": [],
   "source": [
    "tess_conv_array = np.array(tmag_conv)\n",
    "index_to_remove = [np.where((tess_conv_array <= 11) | (tess_conv_array >= 13))][0]\n",
    "\n",
    "new_tmag_conv = np.delete(tmag_conv, index_to_remove[0])\n",
    "new_flare_eng_conv = np.delete(flare_eng_conv, index_to_remove[0])"
   ]
  },
  {
   "cell_type": "code",
   "execution_count": 48,
   "metadata": {},
   "outputs": [
    {
     "name": "stdout",
     "output_type": "stream",
     "text": [
      "170\n",
      "373\n"
     ]
    }
   ],
   "source": [
    "print(len(new_tmag_conv))\n",
    "print(len(tmag_conv))"
   ]
  },
  {
   "cell_type": "code",
   "execution_count": 49,
   "metadata": {},
   "outputs": [],
   "source": [
    "tess_non_conv_array = np.array(tmag_non_conv)\n",
    "index_to_remove = [np.where((tess_non_conv_array <= 11) | (tess_non_conv_array >= 13))][0]\n",
    "\n",
    "new_tmag_non_conv = np.delete(tmag_non_conv, index_to_remove[0])\n",
    "new_flare_eng_non_conv = np.delete(flare_eng_non_conv, index_to_remove[0])"
   ]
  },
  {
   "cell_type": "code",
   "execution_count": 50,
   "metadata": {},
   "outputs": [
    {
     "name": "stdout",
     "output_type": "stream",
     "text": [
      "[11.701  11.5143 11.6985 12.9768 12.5781 11.4002 11.6704 11.9629 12.1152\n",
      " 12.525  11.1395 11.1395 12.4736 11.1364 11.7342 12.1827 12.5616 12.1607\n",
      " 11.2686 11.2111 12.2972 11.6603 12.7568 12.6205 11.2456 11.2551 11.0673\n",
      " 12.7553 11.4982 11.154  12.4103 11.422  11.3804 11.6977 11.1681 11.4831\n",
      " 11.1946 12.1585 11.6752 12.0403 11.8214 11.5931 12.3629 11.231  12.0629]\n",
      "82\n"
     ]
    }
   ],
   "source": [
    "print((new_tmag_non_conv))\n",
    "print(len(tmag_non_conv))"
   ]
  },
  {
   "cell_type": "code",
   "execution_count": 51,
   "metadata": {},
   "outputs": [
    {
     "data": {
      "text/plain": [
       "Text(0, 0.5, 'Relative Flare Energies')"
      ]
     },
     "execution_count": 51,
     "metadata": {},
     "output_type": "execute_result"
    },
    {
     "data": {
      "image/png": "[encoded data removed]",
      "text/plain": [
       "<Figure size 432x288 with 1 Axes>"
      ]
     },
     "metadata": {
      "needs_background": "light"
     },
     "output_type": "display_data"
    }
   ],
   "source": [
    "plt.plot( new_tmag_conv, new_flare_eng_conv, '.')            ## Blue\n",
    "plt.plot( new_tmag_non_conv, new_flare_eng_non_conv, '.')    ## Orange\n",
    "plt.yscale('log')\n",
    "plt.xlabel('TESS Magnitude')\n",
    "plt.ylabel('Relative Flare Energies')"
   ]
  },
  {
   "cell_type": "code",
   "execution_count": 52,
   "metadata": {},
   "outputs": [
    {
     "data": {
      "text/plain": [
       "Text(0, 0.5, 'CDF')"
      ]
     },
     "execution_count": 52,
     "metadata": {},
     "output_type": "execute_result"
    },
    {
     "data": {
      "image/png": "[encoded data removed]",
      "text/plain": [
       "<Figure size 432x288 with 1 Axes>"
      ]
     },
     "metadata": {
      "needs_background": "light"
     },
     "output_type": "display_data"
    }
   ],
   "source": [
    "## using basic principles to plot cdf\n",
    "\n",
    "sorted_conv = np.sort(new_flare_eng_conv)\n",
    "sorted_non_conv = np.sort(new_flare_eng_non_conv)\n",
    "\n",
    "cdf_conv = np.arange(len(new_flare_eng_conv)) / (len(new_flare_eng_conv) - 1)\n",
    "cdf_non_conv = np.arange(len(new_flare_eng_non_conv)) / (len(new_flare_eng_non_conv) - 1)\n",
    "\n",
    "plt.plot(sorted_conv, cdf_conv)                ## Blue\n",
    "plt.plot(sorted_non_conv, cdf_non_conv)        ## Orange\n",
    "plt.xlabel('Relative Flare Energy')\n",
    "plt.ylabel('CDF')"
   ]
  },
  {
   "cell_type": "code",
   "execution_count": 53,
   "metadata": {},
   "outputs": [
    {
     "data": {
      "text/plain": [
       "Text(0, 0.5, 'CDF')"
      ]
     },
     "execution_count": 53,
     "metadata": {},
     "output_type": "execute_result"
    },
    {
     "data": {
      "image/png": "[encoded data removed]",
      "text/plain": [
       "<Figure size 432x288 with 1 Axes>"
      ]
     },
     "metadata": {
      "needs_background": "light"
     },
     "output_type": "display_data"
    }
   ],
   "source": [
    "## using pre-made functions to find cdf\n",
    "\n",
    "def cdf(a):\n",
    "    x, counts = np.unique(a, return_counts=True)\n",
    "    cusum = np.cumsum(counts)\n",
    "    return x, cusum / cusum[-1]\n",
    "\n",
    "def plot_cdf(a):\n",
    "    x, y = cdf(a)\n",
    "    x = np.insert(x, 0, x[0])\n",
    "    y = np.insert(y, 0, 0.)\n",
    "    plt.plot(x, y)\n",
    "    \n",
    "plot_cdf(new_flare_eng_conv)          ## Blue\n",
    "plot_cdf(new_flare_eng_non_conv)      ## Orange\n",
    "plt.xlabel('Relative Flare Energy')\n",
    "plt.ylabel('CDF')\n",
    "#plt.xlim(0,0.1)"
   ]
  },
  {
   "cell_type": "code",
   "execution_count": 54,
   "metadata": {},
   "outputs": [
    {
     "name": "stdout",
     "output_type": "stream",
     "text": [
      "0.4823529411764706\n"
     ]
    }
   ],
   "source": [
    "## 2 value KS TEST\n",
    "\n",
    "print(sc.stats.ks_2samp(new_flare_eng_conv, new_flare_eng_non_conv)[0])"
   ]
  },
  {
   "cell_type": "markdown",
   "metadata": {},
   "source": [
    "### Using Lightkurve to get lightcurves of stars (to find spot filling factor)"
   ]
  },
  {
   "cell_type": "code",
   "execution_count": 55,
   "metadata": {},
   "outputs": [
    {
     "name": "stderr",
     "output_type": "stream",
     "text": [
      "/home/idies/miniconda3/envs/py38/lib/python3.8/site-packages/lightkurve/search.py:346: LightkurveWarning: Warning: 5 files available to download. Only the first file has been downloaded. Please use `download_all()` or specify additional criteria (e.g. quarter, campaign, or sector) to limit your search.\n",
      "  warnings.warn(\n"
     ]
    },
    {
     "data": {
      "image/png": "[encoded data removed]",
      "text/plain": [
       "<Figure size 848.5x400 with 2 Axes>"
      ]
     },
     "metadata": {},
     "output_type": "display_data"
    }
   ],
   "source": [
    "from lightkurve import search_targetpixelfile\n",
    "pixelfile = search_targetpixelfile(\"TIC 2761472\",).download();\n",
    "pixelfile.plot(frame=1);"
   ]
  },
  {
   "cell_type": "code",
   "execution_count": 56,
   "metadata": {},
   "outputs": [
    {
     "name": "stdout",
     "output_type": "stream",
     "text": [
      "[1354.11354767 1354.11493661 1354.11632555 ... 1381.51666648 1381.51805536\n",
      " 1381.51944424]\n",
      "[2636.739  2652.173  2662.6116 ... 2693.0515 2633.0037 2605.127 ] electron / s\n"
     ]
    },
    {
     "data": {
      "text/plain": [
       "(2350.0, 2800.0)"
      ]
     },
     "execution_count": 56,
     "metadata": {},
     "output_type": "execute_result"
    },
    {
     "data": {
      "image/png": "[encoded data removed]",
      "text/plain": [
       "<Figure size 848.5x400 with 1 Axes>"
      ]
     },
     "metadata": {},
     "output_type": "display_data"
    }
   ],
   "source": [
    "lc = pixelfile.to_lightcurve(aperture_mask='all');\n",
    "print(lc.time)\n",
    "print(lc.flux)\n",
    "lc.plot();\n",
    "\n",
    "plt.ylim(2350,2800)"
   ]
  },
  {
   "cell_type": "code",
   "execution_count": 57,
   "metadata": {},
   "outputs": [
    {
     "name": "stdout",
     "output_type": "stream",
     "text": [
      "2640.527099609375 electron / s\n",
      "2634.5029296875 electron / s\n"
     ]
    }
   ],
   "source": [
    "print(np.average(lc.flux))\n",
    "print(np.median(lc.flux))"
   ]
  },
  {
   "cell_type": "markdown",
   "metadata": {},
   "source": [
    "### Looping to get ${\\delta}f$ for each star in fully convective list"
   ]
  },
  {
   "cell_type": "code",
   "execution_count": 58,
   "metadata": {},
   "outputs": [
    {
     "name": "stderr",
     "output_type": "stream",
     "text": [
      "/home/idies/miniconda3/envs/py38/lib/python3.8/site-packages/lightkurve/search.py:346: LightkurveWarning: Warning: 3 files available to download. Only the first file has been downloaded. Please use `download_all()` or specify additional criteria (e.g. quarter, campaign, or sector) to limit your search.\n",
      "  warnings.warn(\n",
      "/home/idies/miniconda3/envs/py38/lib/python3.8/site-packages/lightkurve/search.py:346: LightkurveWarning: Warning: 3 files available to download. Only the first file has been downloaded. Please use `download_all()` or specify additional criteria (e.g. quarter, campaign, or sector) to limit your search.\n",
      "  warnings.warn(\n",
      "/home/idies/miniconda3/envs/py38/lib/python3.8/site-packages/lightkurve/search.py:346: LightkurveWarning: Warning: 2 files available to download. Only the first file has been downloaded. Please use `download_all()` or specify additional criteria (e.g. quarter, campaign, or sector) to limit your search.\n",
      "  warnings.warn(\n",
      "/home/idies/miniconda3/envs/py38/lib/python3.8/site-packages/lightkurve/search.py:346: LightkurveWarning: Warning: 23 files available to download. Only the first file has been downloaded. Please use `download_all()` or specify additional criteria (e.g. quarter, campaign, or sector) to limit your search.\n",
      "  warnings.warn(\n",
      "/home/idies/miniconda3/envs/py38/lib/python3.8/site-packages/lightkurve/search.py:346: LightkurveWarning: Warning: 34 files available to download. Only the first file has been downloaded. Please use `download_all()` or specify additional criteria (e.g. quarter, campaign, or sector) to limit your search.\n",
      "  warnings.warn(\n",
      "/home/idies/miniconda3/envs/py38/lib/python3.8/site-packages/lightkurve/search.py:346: LightkurveWarning: Warning: 24 files available to download. Only the first file has been downloaded. Please use `download_all()` or specify additional criteria (e.g. quarter, campaign, or sector) to limit your search.\n",
      "  warnings.warn(\n",
      "/home/idies/miniconda3/envs/py38/lib/python3.8/site-packages/lightkurve/search.py:346: LightkurveWarning: Warning: 2 files available to download. Only the first file has been downloaded. Please use `download_all()` or specify additional criteria (e.g. quarter, campaign, or sector) to limit your search.\n",
      "  warnings.warn(\n",
      "/home/idies/miniconda3/envs/py38/lib/python3.8/site-packages/lightkurve/search.py:346: LightkurveWarning: Warning: 2 files available to download. Only the first file has been downloaded. Please use `download_all()` or specify additional criteria (e.g. quarter, campaign, or sector) to limit your search.\n",
      "  warnings.warn(\n",
      "/home/idies/miniconda3/envs/py38/lib/python3.8/site-packages/lightkurve/search.py:346: LightkurveWarning: Warning: 2 files available to download. Only the first file has been downloaded. Please use `download_all()` or specify additional criteria (e.g. quarter, campaign, or sector) to limit your search.\n",
      "  warnings.warn(\n",
      "/home/idies/miniconda3/envs/py38/lib/python3.8/site-packages/lightkurve/search.py:346: LightkurveWarning: Warning: 2 files available to download. Only the first file has been downloaded. Please use `download_all()` or specify additional criteria (e.g. quarter, campaign, or sector) to limit your search.\n",
      "  warnings.warn(\n",
      "/home/idies/miniconda3/envs/py38/lib/python3.8/site-packages/lightkurve/search.py:346: LightkurveWarning: Warning: 2 files available to download. Only the first file has been downloaded. Please use `download_all()` or specify additional criteria (e.g. quarter, campaign, or sector) to limit your search.\n",
      "  warnings.warn(\n",
      "/home/idies/miniconda3/envs/py38/lib/python3.8/site-packages/lightkurve/search.py:346: LightkurveWarning: Warning: 34 files available to download. Only the first file has been downloaded. Please use `download_all()` or specify additional criteria (e.g. quarter, campaign, or sector) to limit your search.\n",
      "  warnings.warn(\n",
      "/home/idies/miniconda3/envs/py38/lib/python3.8/site-packages/lightkurve/search.py:346: LightkurveWarning: Warning: 23 files available to download. Only the first file has been downloaded. Please use `download_all()` or specify additional criteria (e.g. quarter, campaign, or sector) to limit your search.\n",
      "  warnings.warn(\n",
      "/home/idies/miniconda3/envs/py38/lib/python3.8/site-packages/lightkurve/search.py:346: LightkurveWarning: Warning: 34 files available to download. Only the first file has been downloaded. Please use `download_all()` or specify additional criteria (e.g. quarter, campaign, or sector) to limit your search.\n",
      "  warnings.warn(\n",
      "/home/idies/miniconda3/envs/py38/lib/python3.8/site-packages/lightkurve/search.py:346: LightkurveWarning: Warning: 13 files available to download. Only the first file has been downloaded. Please use `download_all()` or specify additional criteria (e.g. quarter, campaign, or sector) to limit your search.\n",
      "  warnings.warn(\n",
      "/home/idies/miniconda3/envs/py38/lib/python3.8/site-packages/lightkurve/search.py:346: LightkurveWarning: Warning: 2 files available to download. Only the first file has been downloaded. Please use `download_all()` or specify additional criteria (e.g. quarter, campaign, or sector) to limit your search.\n",
      "  warnings.warn(\n",
      "/home/idies/miniconda3/envs/py38/lib/python3.8/site-packages/lightkurve/search.py:346: LightkurveWarning: Warning: 15 files available to download. Only the first file has been downloaded. Please use `download_all()` or specify additional criteria (e.g. quarter, campaign, or sector) to limit your search.\n",
      "  warnings.warn(\n",
      "/home/idies/miniconda3/envs/py38/lib/python3.8/site-packages/lightkurve/search.py:346: LightkurveWarning: Warning: 26 files available to download. Only the first file has been downloaded. Please use `download_all()` or specify additional criteria (e.g. quarter, campaign, or sector) to limit your search.\n",
      "  warnings.warn(\n",
      "/home/idies/miniconda3/envs/py38/lib/python3.8/site-packages/lightkurve/search.py:346: LightkurveWarning: Warning: 20 files available to download. Only the first file has been downloaded. Please use `download_all()` or specify additional criteria (e.g. quarter, campaign, or sector) to limit your search.\n",
      "  warnings.warn(\n",
      "/home/idies/miniconda3/envs/py38/lib/python3.8/site-packages/lightkurve/search.py:346: LightkurveWarning: Warning: 24 files available to download. Only the first file has been downloaded. Please use `download_all()` or specify additional criteria (e.g. quarter, campaign, or sector) to limit your search.\n",
      "  warnings.warn(\n",
      "/home/idies/miniconda3/envs/py38/lib/python3.8/site-packages/lightkurve/search.py:346: LightkurveWarning: Warning: 30 files available to download. Only the first file has been downloaded. Please use `download_all()` or specify additional criteria (e.g. quarter, campaign, or sector) to limit your search.\n",
      "  warnings.warn(\n",
      "/home/idies/miniconda3/envs/py38/lib/python3.8/site-packages/lightkurve/search.py:346: LightkurveWarning: Warning: 33 files available to download. Only the first file has been downloaded. Please use `download_all()` or specify additional criteria (e.g. quarter, campaign, or sector) to limit your search.\n",
      "  warnings.warn(\n",
      "/home/idies/miniconda3/envs/py38/lib/python3.8/site-packages/lightkurve/search.py:346: LightkurveWarning: Warning: 17 files available to download. Only the first file has been downloaded. Please use `download_all()` or specify additional criteria (e.g. quarter, campaign, or sector) to limit your search.\n",
      "  warnings.warn(\n",
      "/home/idies/miniconda3/envs/py38/lib/python3.8/site-packages/lightkurve/search.py:346: LightkurveWarning: Warning: 19 files available to download. Only the first file has been downloaded. Please use `download_all()` or specify additional criteria (e.g. quarter, campaign, or sector) to limit your search.\n",
      "  warnings.warn(\n",
      "/home/idies/miniconda3/envs/py38/lib/python3.8/site-packages/lightkurve/search.py:346: LightkurveWarning: Warning: 2 files available to download. Only the first file has been downloaded. Please use `download_all()` or specify additional criteria (e.g. quarter, campaign, or sector) to limit your search.\n",
      "  warnings.warn(\n",
      "/home/idies/miniconda3/envs/py38/lib/python3.8/site-packages/lightkurve/search.py:346: LightkurveWarning: Warning: 24 files available to download. Only the first file has been downloaded. Please use `download_all()` or specify additional criteria (e.g. quarter, campaign, or sector) to limit your search.\n",
      "  warnings.warn(\n",
      "/home/idies/miniconda3/envs/py38/lib/python3.8/site-packages/lightkurve/search.py:346: LightkurveWarning: Warning: 13 files available to download. Only the first file has been downloaded. Please use `download_all()` or specify additional criteria (e.g. quarter, campaign, or sector) to limit your search.\n",
      "  warnings.warn(\n",
      "/home/idies/miniconda3/envs/py38/lib/python3.8/site-packages/lightkurve/search.py:346: LightkurveWarning: Warning: 24 files available to download. Only the first file has been downloaded. Please use `download_all()` or specify additional criteria (e.g. quarter, campaign, or sector) to limit your search.\n",
      "  warnings.warn(\n",
      "/home/idies/miniconda3/envs/py38/lib/python3.8/site-packages/lightkurve/search.py:346: LightkurveWarning: Warning: 4 files available to download. Only the first file has been downloaded. Please use `download_all()` or specify additional criteria (e.g. quarter, campaign, or sector) to limit your search.\n",
      "  warnings.warn(\n",
      "/home/idies/miniconda3/envs/py38/lib/python3.8/site-packages/lightkurve/search.py:346: LightkurveWarning: Warning: 23 files available to download. Only the first file has been downloaded. Please use `download_all()` or specify additional criteria (e.g. quarter, campaign, or sector) to limit your search.\n",
      "  warnings.warn(\n",
      "/home/idies/miniconda3/envs/py38/lib/python3.8/site-packages/lightkurve/search.py:346: LightkurveWarning: Warning: 19 files available to download. Only the first file has been downloaded. Please use `download_all()` or specify additional criteria (e.g. quarter, campaign, or sector) to limit your search.\n",
      "  warnings.warn(\n",
      "/home/idies/miniconda3/envs/py38/lib/python3.8/site-packages/lightkurve/search.py:346: LightkurveWarning: Warning: 6 files available to download. Only the first file has been downloaded. Please use `download_all()` or specify additional criteria (e.g. quarter, campaign, or sector) to limit your search.\n",
      "  warnings.warn(\n",
      "/home/idies/miniconda3/envs/py38/lib/python3.8/site-packages/lightkurve/search.py:346: LightkurveWarning: Warning: 2 files available to download. Only the first file has been downloaded. Please use `download_all()` or specify additional criteria (e.g. quarter, campaign, or sector) to limit your search.\n",
      "  warnings.warn(\n",
      "/home/idies/miniconda3/envs/py38/lib/python3.8/site-packages/lightkurve/search.py:346: LightkurveWarning: Warning: 3 files available to download. Only the first file has been downloaded. Please use `download_all()` or specify additional criteria (e.g. quarter, campaign, or sector) to limit your search.\n",
      "  warnings.warn(\n",
      "/home/idies/miniconda3/envs/py38/lib/python3.8/site-packages/lightkurve/search.py:346: LightkurveWarning: Warning: 3 files available to download. Only the first file has been downloaded. Please use `download_all()` or specify additional criteria (e.g. quarter, campaign, or sector) to limit your search.\n",
      "  warnings.warn(\n",
      "/home/idies/miniconda3/envs/py38/lib/python3.8/site-packages/lightkurve/search.py:346: LightkurveWarning: Warning: 2 files available to download. Only the first file has been downloaded. Please use `download_all()` or specify additional criteria (e.g. quarter, campaign, or sector) to limit your search.\n",
      "  warnings.warn(\n",
      "/home/idies/miniconda3/envs/py38/lib/python3.8/site-packages/lightkurve/search.py:346: LightkurveWarning: Warning: 2 files available to download. Only the first file has been downloaded. Please use `download_all()` or specify additional criteria (e.g. quarter, campaign, or sector) to limit your search.\n",
      "  warnings.warn(\n",
      "/home/idies/miniconda3/envs/py38/lib/python3.8/site-packages/lightkurve/search.py:346: LightkurveWarning: Warning: 2 files available to download. Only the first file has been downloaded. Please use `download_all()` or specify additional criteria (e.g. quarter, campaign, or sector) to limit your search.\n",
      "  warnings.warn(\n",
      "/home/idies/miniconda3/envs/py38/lib/python3.8/site-packages/lightkurve/search.py:346: LightkurveWarning: Warning: 5 files available to download. Only the first file has been downloaded. Please use `download_all()` or specify additional criteria (e.g. quarter, campaign, or sector) to limit your search.\n",
      "  warnings.warn(\n",
      "/home/idies/miniconda3/envs/py38/lib/python3.8/site-packages/lightkurve/search.py:346: LightkurveWarning: Warning: 4 files available to download. Only the first file has been downloaded. Please use `download_all()` or specify additional criteria (e.g. quarter, campaign, or sector) to limit your search.\n",
      "  warnings.warn(\n",
      "/home/idies/miniconda3/envs/py38/lib/python3.8/site-packages/lightkurve/search.py:346: LightkurveWarning: Warning: 5 files available to download. Only the first file has been downloaded. Please use `download_all()` or specify additional criteria (e.g. quarter, campaign, or sector) to limit your search.\n",
      "  warnings.warn(\n",
      "/home/idies/miniconda3/envs/py38/lib/python3.8/site-packages/lightkurve/search.py:346: LightkurveWarning: Warning: 4 files available to download. Only the first file has been downloaded. Please use `download_all()` or specify additional criteria (e.g. quarter, campaign, or sector) to limit your search.\n",
      "  warnings.warn(\n",
      "/home/idies/miniconda3/envs/py38/lib/python3.8/site-packages/lightkurve/search.py:346: LightkurveWarning: Warning: 2 files available to download. Only the first file has been downloaded. Please use `download_all()` or specify additional criteria (e.g. quarter, campaign, or sector) to limit your search.\n",
      "  warnings.warn(\n",
      "/home/idies/miniconda3/envs/py38/lib/python3.8/site-packages/lightkurve/search.py:346: LightkurveWarning: Warning: 22 files available to download. Only the first file has been downloaded. Please use `download_all()` or specify additional criteria (e.g. quarter, campaign, or sector) to limit your search.\n",
      "  warnings.warn(\n",
      "/home/idies/miniconda3/envs/py38/lib/python3.8/site-packages/lightkurve/search.py:346: LightkurveWarning: Warning: 2 files available to download. Only the first file has been downloaded. Please use `download_all()` or specify additional criteria (e.g. quarter, campaign, or sector) to limit your search.\n",
      "  warnings.warn(\n",
      "/home/idies/miniconda3/envs/py38/lib/python3.8/site-packages/lightkurve/search.py:346: LightkurveWarning: Warning: 2 files available to download. Only the first file has been downloaded. Please use `download_all()` or specify additional criteria (e.g. quarter, campaign, or sector) to limit your search.\n",
      "  warnings.warn(\n",
      "/home/idies/miniconda3/envs/py38/lib/python3.8/site-packages/lightkurve/search.py:346: LightkurveWarning: Warning: 2 files available to download. Only the first file has been downloaded. Please use `download_all()` or specify additional criteria (e.g. quarter, campaign, or sector) to limit your search.\n",
      "  warnings.warn(\n",
      "/home/idies/miniconda3/envs/py38/lib/python3.8/site-packages/lightkurve/search.py:346: LightkurveWarning: Warning: 2 files available to download. Only the first file has been downloaded. Please use `download_all()` or specify additional criteria (e.g. quarter, campaign, or sector) to limit your search.\n",
      "  warnings.warn(\n",
      "/home/idies/miniconda3/envs/py38/lib/python3.8/site-packages/lightkurve/search.py:346: LightkurveWarning: Warning: 3 files available to download. Only the first file has been downloaded. Please use `download_all()` or specify additional criteria (e.g. quarter, campaign, or sector) to limit your search.\n",
      "  warnings.warn(\n",
      "/home/idies/miniconda3/envs/py38/lib/python3.8/site-packages/lightkurve/search.py:346: LightkurveWarning: Warning: 4 files available to download. Only the first file has been downloaded. Please use `download_all()` or specify additional criteria (e.g. quarter, campaign, or sector) to limit your search.\n",
      "  warnings.warn(\n",
      "/home/idies/miniconda3/envs/py38/lib/python3.8/site-packages/lightkurve/search.py:346: LightkurveWarning: Warning: 2 files available to download. Only the first file has been downloaded. Please use `download_all()` or specify additional criteria (e.g. quarter, campaign, or sector) to limit your search.\n",
      "  warnings.warn(\n",
      "/home/idies/miniconda3/envs/py38/lib/python3.8/site-packages/lightkurve/search.py:346: LightkurveWarning: Warning: 2 files available to download. Only the first file has been downloaded. Please use `download_all()` or specify additional criteria (e.g. quarter, campaign, or sector) to limit your search.\n",
      "  warnings.warn(\n",
      "/home/idies/miniconda3/envs/py38/lib/python3.8/site-packages/lightkurve/search.py:346: LightkurveWarning: Warning: 2 files available to download. Only the first file has been downloaded. Please use `download_all()` or specify additional criteria (e.g. quarter, campaign, or sector) to limit your search.\n",
      "  warnings.warn(\n",
      "/home/idies/miniconda3/envs/py38/lib/python3.8/site-packages/lightkurve/search.py:346: LightkurveWarning: Warning: 2 files available to download. Only the first file has been downloaded. Please use `download_all()` or specify additional criteria (e.g. quarter, campaign, or sector) to limit your search.\n",
      "  warnings.warn(\n",
      "/home/idies/miniconda3/envs/py38/lib/python3.8/site-packages/lightkurve/search.py:346: LightkurveWarning: Warning: 2 files available to download. Only the first file has been downloaded. Please use `download_all()` or specify additional criteria (e.g. quarter, campaign, or sector) to limit your search.\n",
      "  warnings.warn(\n",
      "/home/idies/miniconda3/envs/py38/lib/python3.8/site-packages/lightkurve/search.py:346: LightkurveWarning: Warning: 2 files available to download. Only the first file has been downloaded. Please use `download_all()` or specify additional criteria (e.g. quarter, campaign, or sector) to limit your search.\n",
      "  warnings.warn(\n",
      "/home/idies/miniconda3/envs/py38/lib/python3.8/site-packages/lightkurve/search.py:346: LightkurveWarning: Warning: 2 files available to download. Only the first file has been downloaded. Please use `download_all()` or specify additional criteria (e.g. quarter, campaign, or sector) to limit your search.\n",
      "  warnings.warn(\n",
      "/home/idies/miniconda3/envs/py38/lib/python3.8/site-packages/lightkurve/search.py:346: LightkurveWarning: Warning: 2 files available to download. Only the first file has been downloaded. Please use `download_all()` or specify additional criteria (e.g. quarter, campaign, or sector) to limit your search.\n",
      "  warnings.warn(\n",
      "/home/idies/miniconda3/envs/py38/lib/python3.8/site-packages/lightkurve/search.py:346: LightkurveWarning: Warning: 3 files available to download. Only the first file has been downloaded. Please use `download_all()` or specify additional criteria (e.g. quarter, campaign, or sector) to limit your search.\n",
      "  warnings.warn(\n",
      "/home/idies/miniconda3/envs/py38/lib/python3.8/site-packages/lightkurve/search.py:346: LightkurveWarning: Warning: 3 files available to download. Only the first file has been downloaded. Please use `download_all()` or specify additional criteria (e.g. quarter, campaign, or sector) to limit your search.\n",
      "  warnings.warn(\n",
      "/home/idies/miniconda3/envs/py38/lib/python3.8/site-packages/lightkurve/search.py:346: LightkurveWarning: Warning: 3 files available to download. Only the first file has been downloaded. Please use `download_all()` or specify additional criteria (e.g. quarter, campaign, or sector) to limit your search.\n",
      "  warnings.warn(\n",
      "/home/idies/miniconda3/envs/py38/lib/python3.8/site-packages/lightkurve/search.py:346: LightkurveWarning: Warning: 3 files available to download. Only the first file has been downloaded. Please use `download_all()` or specify additional criteria (e.g. quarter, campaign, or sector) to limit your search.\n",
      "  warnings.warn(\n",
      "/home/idies/miniconda3/envs/py38/lib/python3.8/site-packages/lightkurve/search.py:346: LightkurveWarning: Warning: 2 files available to download. Only the first file has been downloaded. Please use `download_all()` or specify additional criteria (e.g. quarter, campaign, or sector) to limit your search.\n",
      "  warnings.warn(\n",
      "/home/idies/miniconda3/envs/py38/lib/python3.8/site-packages/lightkurve/search.py:346: LightkurveWarning: Warning: 24 files available to download. Only the first file has been downloaded. Please use `download_all()` or specify additional criteria (e.g. quarter, campaign, or sector) to limit your search.\n",
      "  warnings.warn(\n",
      "/home/idies/miniconda3/envs/py38/lib/python3.8/site-packages/lightkurve/search.py:346: LightkurveWarning: Warning: 24 files available to download. Only the first file has been downloaded. Please use `download_all()` or specify additional criteria (e.g. quarter, campaign, or sector) to limit your search.\n",
      "  warnings.warn(\n",
      "/home/idies/miniconda3/envs/py38/lib/python3.8/site-packages/lightkurve/search.py:346: LightkurveWarning: Warning: 29 files available to download. Only the first file has been downloaded. Please use `download_all()` or specify additional criteria (e.g. quarter, campaign, or sector) to limit your search.\n",
      "  warnings.warn(\n",
      "/home/idies/miniconda3/envs/py38/lib/python3.8/site-packages/lightkurve/search.py:346: LightkurveWarning: Warning: 25 files available to download. Only the first file has been downloaded. Please use `download_all()` or specify additional criteria (e.g. quarter, campaign, or sector) to limit your search.\n",
      "  warnings.warn(\n",
      "/home/idies/miniconda3/envs/py38/lib/python3.8/site-packages/lightkurve/search.py:346: LightkurveWarning: Warning: 27 files available to download. Only the first file has been downloaded. Please use `download_all()` or specify additional criteria (e.g. quarter, campaign, or sector) to limit your search.\n",
      "  warnings.warn(\n",
      "/home/idies/miniconda3/envs/py38/lib/python3.8/site-packages/lightkurve/search.py:346: LightkurveWarning: Warning: 21 files available to download. Only the first file has been downloaded. Please use `download_all()` or specify additional criteria (e.g. quarter, campaign, or sector) to limit your search.\n",
      "  warnings.warn(\n",
      "/home/idies/miniconda3/envs/py38/lib/python3.8/site-packages/lightkurve/search.py:346: LightkurveWarning: Warning: 24 files available to download. Only the first file has been downloaded. Please use `download_all()` or specify additional criteria (e.g. quarter, campaign, or sector) to limit your search.\n",
      "  warnings.warn(\n",
      "/home/idies/miniconda3/envs/py38/lib/python3.8/site-packages/lightkurve/search.py:346: LightkurveWarning: Warning: 2 files available to download. Only the first file has been downloaded. Please use `download_all()` or specify additional criteria (e.g. quarter, campaign, or sector) to limit your search.\n",
      "  warnings.warn(\n",
      "/home/idies/miniconda3/envs/py38/lib/python3.8/site-packages/lightkurve/search.py:346: LightkurveWarning: Warning: 28 files available to download. Only the first file has been downloaded. Please use `download_all()` or specify additional criteria (e.g. quarter, campaign, or sector) to limit your search.\n",
      "  warnings.warn(\n",
      "/home/idies/miniconda3/envs/py38/lib/python3.8/site-packages/lightkurve/search.py:346: LightkurveWarning: Warning: 30 files available to download. Only the first file has been downloaded. Please use `download_all()` or specify additional criteria (e.g. quarter, campaign, or sector) to limit your search.\n",
      "  warnings.warn(\n",
      "/home/idies/miniconda3/envs/py38/lib/python3.8/site-packages/lightkurve/search.py:346: LightkurveWarning: Warning: 2 files available to download. Only the first file has been downloaded. Please use `download_all()` or specify additional criteria (e.g. quarter, campaign, or sector) to limit your search.\n",
      "  warnings.warn(\n",
      "/home/idies/miniconda3/envs/py38/lib/python3.8/site-packages/lightkurve/search.py:346: LightkurveWarning: Warning: 23 files available to download. Only the first file has been downloaded. Please use `download_all()` or specify additional criteria (e.g. quarter, campaign, or sector) to limit your search.\n",
      "  warnings.warn(\n",
      "/home/idies/miniconda3/envs/py38/lib/python3.8/site-packages/lightkurve/search.py:346: LightkurveWarning: Warning: 12 files available to download. Only the first file has been downloaded. Please use `download_all()` or specify additional criteria (e.g. quarter, campaign, or sector) to limit your search.\n",
      "  warnings.warn(\n",
      "/home/idies/miniconda3/envs/py38/lib/python3.8/site-packages/lightkurve/search.py:346: LightkurveWarning: Warning: 29 files available to download. Only the first file has been downloaded. Please use `download_all()` or specify additional criteria (e.g. quarter, campaign, or sector) to limit your search.\n",
      "  warnings.warn(\n",
      "/home/idies/miniconda3/envs/py38/lib/python3.8/site-packages/lightkurve/search.py:346: LightkurveWarning: Warning: 32 files available to download. Only the first file has been downloaded. Please use `download_all()` or specify additional criteria (e.g. quarter, campaign, or sector) to limit your search.\n",
      "  warnings.warn(\n",
      "/home/idies/miniconda3/envs/py38/lib/python3.8/site-packages/lightkurve/search.py:346: LightkurveWarning: Warning: 2 files available to download. Only the first file has been downloaded. Please use `download_all()` or specify additional criteria (e.g. quarter, campaign, or sector) to limit your search.\n",
      "  warnings.warn(\n",
      "/home/idies/miniconda3/envs/py38/lib/python3.8/site-packages/lightkurve/search.py:346: LightkurveWarning: Warning: 2 files available to download. Only the first file has been downloaded. Please use `download_all()` or specify additional criteria (e.g. quarter, campaign, or sector) to limit your search.\n",
      "  warnings.warn(\n",
      "/home/idies/miniconda3/envs/py38/lib/python3.8/site-packages/lightkurve/search.py:346: LightkurveWarning: Warning: 3 files available to download. Only the first file has been downloaded. Please use `download_all()` or specify additional criteria (e.g. quarter, campaign, or sector) to limit your search.\n",
      "  warnings.warn(\n",
      "/home/idies/miniconda3/envs/py38/lib/python3.8/site-packages/lightkurve/search.py:346: LightkurveWarning: Warning: 3 files available to download. Only the first file has been downloaded. Please use `download_all()` or specify additional criteria (e.g. quarter, campaign, or sector) to limit your search.\n",
      "  warnings.warn(\n",
      "/home/idies/miniconda3/envs/py38/lib/python3.8/site-packages/lightkurve/search.py:346: LightkurveWarning: Warning: 3 files available to download. Only the first file has been downloaded. Please use `download_all()` or specify additional criteria (e.g. quarter, campaign, or sector) to limit your search.\n",
      "  warnings.warn(\n",
      "/home/idies/miniconda3/envs/py38/lib/python3.8/site-packages/lightkurve/search.py:346: LightkurveWarning: Warning: 2 files available to download. Only the first file has been downloaded. Please use `download_all()` or specify additional criteria (e.g. quarter, campaign, or sector) to limit your search.\n",
      "  warnings.warn(\n",
      "/home/idies/miniconda3/envs/py38/lib/python3.8/site-packages/lightkurve/search.py:346: LightkurveWarning: Warning: 2 files available to download. Only the first file has been downloaded. Please use `download_all()` or specify additional criteria (e.g. quarter, campaign, or sector) to limit your search.\n",
      "  warnings.warn(\n",
      "/home/idies/miniconda3/envs/py38/lib/python3.8/site-packages/lightkurve/search.py:346: LightkurveWarning: Warning: 4 files available to download. Only the first file has been downloaded. Please use `download_all()` or specify additional criteria (e.g. quarter, campaign, or sector) to limit your search.\n",
      "  warnings.warn(\n",
      "/home/idies/miniconda3/envs/py38/lib/python3.8/site-packages/lightkurve/search.py:346: LightkurveWarning: Warning: 12 files available to download. Only the first file has been downloaded. Please use `download_all()` or specify additional criteria (e.g. quarter, campaign, or sector) to limit your search.\n",
      "  warnings.warn(\n",
      "/home/idies/miniconda3/envs/py38/lib/python3.8/site-packages/lightkurve/search.py:346: LightkurveWarning: Warning: 22 files available to download. Only the first file has been downloaded. Please use `download_all()` or specify additional criteria (e.g. quarter, campaign, or sector) to limit your search.\n",
      "  warnings.warn(\n",
      "/home/idies/miniconda3/envs/py38/lib/python3.8/site-packages/lightkurve/search.py:346: LightkurveWarning: Warning: 25 files available to download. Only the first file has been downloaded. Please use `download_all()` or specify additional criteria (e.g. quarter, campaign, or sector) to limit your search.\n",
      "  warnings.warn(\n",
      "/home/idies/miniconda3/envs/py38/lib/python3.8/site-packages/lightkurve/search.py:346: LightkurveWarning: Warning: 24 files available to download. Only the first file has been downloaded. Please use `download_all()` or specify additional criteria (e.g. quarter, campaign, or sector) to limit your search.\n",
      "  warnings.warn(\n",
      "/home/idies/miniconda3/envs/py38/lib/python3.8/site-packages/lightkurve/search.py:346: LightkurveWarning: Warning: 3 files available to download. Only the first file has been downloaded. Please use `download_all()` or specify additional criteria (e.g. quarter, campaign, or sector) to limit your search.\n",
      "  warnings.warn(\n",
      "/home/idies/miniconda3/envs/py38/lib/python3.8/site-packages/lightkurve/search.py:346: LightkurveWarning: Warning: 20 files available to download. Only the first file has been downloaded. Please use `download_all()` or specify additional criteria (e.g. quarter, campaign, or sector) to limit your search.\n",
      "  warnings.warn(\n",
      "/home/idies/miniconda3/envs/py38/lib/python3.8/site-packages/lightkurve/search.py:346: LightkurveWarning: Warning: 24 files available to download. Only the first file has been downloaded. Please use `download_all()` or specify additional criteria (e.g. quarter, campaign, or sector) to limit your search.\n",
      "  warnings.warn(\n",
      "/home/idies/miniconda3/envs/py38/lib/python3.8/site-packages/lightkurve/search.py:346: LightkurveWarning: Warning: 23 files available to download. Only the first file has been downloaded. Please use `download_all()` or specify additional criteria (e.g. quarter, campaign, or sector) to limit your search.\n",
      "  warnings.warn(\n",
      "/home/idies/miniconda3/envs/py38/lib/python3.8/site-packages/lightkurve/search.py:346: LightkurveWarning: Warning: 22 files available to download. Only the first file has been downloaded. Please use `download_all()` or specify additional criteria (e.g. quarter, campaign, or sector) to limit your search.\n",
      "  warnings.warn(\n",
      "/home/idies/miniconda3/envs/py38/lib/python3.8/site-packages/lightkurve/search.py:346: LightkurveWarning: Warning: 31 files available to download. Only the first file has been downloaded. Please use `download_all()` or specify additional criteria (e.g. quarter, campaign, or sector) to limit your search.\n",
      "  warnings.warn(\n",
      "/home/idies/miniconda3/envs/py38/lib/python3.8/site-packages/lightkurve/search.py:346: LightkurveWarning: Warning: 22 files available to download. Only the first file has been downloaded. Please use `download_all()` or specify additional criteria (e.g. quarter, campaign, or sector) to limit your search.\n",
      "  warnings.warn(\n",
      "/home/idies/miniconda3/envs/py38/lib/python3.8/site-packages/lightkurve/search.py:346: LightkurveWarning: Warning: 23 files available to download. Only the first file has been downloaded. Please use `download_all()` or specify additional criteria (e.g. quarter, campaign, or sector) to limit your search.\n",
      "  warnings.warn(\n",
      "/home/idies/miniconda3/envs/py38/lib/python3.8/site-packages/lightkurve/search.py:346: LightkurveWarning: Warning: 2 files available to download. Only the first file has been downloaded. Please use `download_all()` or specify additional criteria (e.g. quarter, campaign, or sector) to limit your search.\n",
      "  warnings.warn(\n",
      "/home/idies/miniconda3/envs/py38/lib/python3.8/site-packages/lightkurve/search.py:346: LightkurveWarning: Warning: 3 files available to download. Only the first file has been downloaded. Please use `download_all()` or specify additional criteria (e.g. quarter, campaign, or sector) to limit your search.\n",
      "  warnings.warn(\n",
      "/home/idies/miniconda3/envs/py38/lib/python3.8/site-packages/lightkurve/search.py:346: LightkurveWarning: Warning: 3 files available to download. Only the first file has been downloaded. Please use `download_all()` or specify additional criteria (e.g. quarter, campaign, or sector) to limit your search.\n",
      "  warnings.warn(\n",
      "/home/idies/miniconda3/envs/py38/lib/python3.8/site-packages/lightkurve/search.py:346: LightkurveWarning: Warning: 9 files available to download. Only the first file has been downloaded. Please use `download_all()` or specify additional criteria (e.g. quarter, campaign, or sector) to limit your search.\n",
      "  warnings.warn(\n",
      "/home/idies/miniconda3/envs/py38/lib/python3.8/site-packages/lightkurve/search.py:346: LightkurveWarning: Warning: 6 files available to download. Only the first file has been downloaded. Please use `download_all()` or specify additional criteria (e.g. quarter, campaign, or sector) to limit your search.\n",
      "  warnings.warn(\n",
      "/home/idies/miniconda3/envs/py38/lib/python3.8/site-packages/lightkurve/search.py:346: LightkurveWarning: Warning: 6 files available to download. Only the first file has been downloaded. Please use `download_all()` or specify additional criteria (e.g. quarter, campaign, or sector) to limit your search.\n",
      "  warnings.warn(\n",
      "/home/idies/miniconda3/envs/py38/lib/python3.8/site-packages/lightkurve/search.py:346: LightkurveWarning: Warning: 2 files available to download. Only the first file has been downloaded. Please use `download_all()` or specify additional criteria (e.g. quarter, campaign, or sector) to limit your search.\n",
      "  warnings.warn(\n",
      "/home/idies/miniconda3/envs/py38/lib/python3.8/site-packages/lightkurve/search.py:346: LightkurveWarning: Warning: 3 files available to download. Only the first file has been downloaded. Please use `download_all()` or specify additional criteria (e.g. quarter, campaign, or sector) to limit your search.\n",
      "  warnings.warn(\n",
      "/home/idies/miniconda3/envs/py38/lib/python3.8/site-packages/lightkurve/search.py:346: LightkurveWarning: Warning: 5 files available to download. Only the first file has been downloaded. Please use `download_all()` or specify additional criteria (e.g. quarter, campaign, or sector) to limit your search.\n",
      "  warnings.warn(\n",
      "/home/idies/miniconda3/envs/py38/lib/python3.8/site-packages/lightkurve/search.py:346: LightkurveWarning: Warning: 3 files available to download. Only the first file has been downloaded. Please use `download_all()` or specify additional criteria (e.g. quarter, campaign, or sector) to limit your search.\n",
      "  warnings.warn(\n",
      "/home/idies/miniconda3/envs/py38/lib/python3.8/site-packages/lightkurve/search.py:346: LightkurveWarning: Warning: 3 files available to download. Only the first file has been downloaded. Please use `download_all()` or specify additional criteria (e.g. quarter, campaign, or sector) to limit your search.\n",
      "  warnings.warn(\n",
      "/home/idies/miniconda3/envs/py38/lib/python3.8/site-packages/lightkurve/search.py:346: LightkurveWarning: Warning: 4 files available to download. Only the first file has been downloaded. Please use `download_all()` or specify additional criteria (e.g. quarter, campaign, or sector) to limit your search.\n",
      "  warnings.warn(\n",
      "/home/idies/miniconda3/envs/py38/lib/python3.8/site-packages/lightkurve/search.py:346: LightkurveWarning: Warning: 6 files available to download. Only the first file has been downloaded. Please use `download_all()` or specify additional criteria (e.g. quarter, campaign, or sector) to limit your search.\n",
      "  warnings.warn(\n",
      "/home/idies/miniconda3/envs/py38/lib/python3.8/site-packages/lightkurve/search.py:346: LightkurveWarning: Warning: 4 files available to download. Only the first file has been downloaded. Please use `download_all()` or specify additional criteria (e.g. quarter, campaign, or sector) to limit your search.\n",
      "  warnings.warn(\n",
      "/home/idies/miniconda3/envs/py38/lib/python3.8/site-packages/lightkurve/search.py:346: LightkurveWarning: Warning: 6 files available to download. Only the first file has been downloaded. Please use `download_all()` or specify additional criteria (e.g. quarter, campaign, or sector) to limit your search.\n",
      "  warnings.warn(\n",
      "/home/idies/miniconda3/envs/py38/lib/python3.8/site-packages/lightkurve/search.py:346: LightkurveWarning: Warning: 6 files available to download. Only the first file has been downloaded. Please use `download_all()` or specify additional criteria (e.g. quarter, campaign, or sector) to limit your search.\n",
      "  warnings.warn(\n",
      "/home/idies/miniconda3/envs/py38/lib/python3.8/site-packages/lightkurve/search.py:346: LightkurveWarning: Warning: 3 files available to download. Only the first file has been downloaded. Please use `download_all()` or specify additional criteria (e.g. quarter, campaign, or sector) to limit your search.\n",
      "  warnings.warn(\n",
      "/home/idies/miniconda3/envs/py38/lib/python3.8/site-packages/lightkurve/search.py:346: LightkurveWarning: Warning: 4 files available to download. Only the first file has been downloaded. Please use `download_all()` or specify additional criteria (e.g. quarter, campaign, or sector) to limit your search.\n",
      "  warnings.warn(\n",
      "/home/idies/miniconda3/envs/py38/lib/python3.8/site-packages/lightkurve/search.py:346: LightkurveWarning: Warning: 4 files available to download. Only the first file has been downloaded. Please use `download_all()` or specify additional criteria (e.g. quarter, campaign, or sector) to limit your search.\n",
      "  warnings.warn(\n",
      "/home/idies/miniconda3/envs/py38/lib/python3.8/site-packages/lightkurve/search.py:346: LightkurveWarning: Warning: 2 files available to download. Only the first file has been downloaded. Please use `download_all()` or specify additional criteria (e.g. quarter, campaign, or sector) to limit your search.\n",
      "  warnings.warn(\n",
      "/home/idies/miniconda3/envs/py38/lib/python3.8/site-packages/lightkurve/search.py:346: LightkurveWarning: Warning: 6 files available to download. Only the first file has been downloaded. Please use `download_all()` or specify additional criteria (e.g. quarter, campaign, or sector) to limit your search.\n",
      "  warnings.warn(\n",
      "/home/idies/miniconda3/envs/py38/lib/python3.8/site-packages/lightkurve/search.py:346: LightkurveWarning: Warning: 6 files available to download. Only the first file has been downloaded. Please use `download_all()` or specify additional criteria (e.g. quarter, campaign, or sector) to limit your search.\n",
      "  warnings.warn(\n",
      "/home/idies/miniconda3/envs/py38/lib/python3.8/site-packages/lightkurve/search.py:346: LightkurveWarning: Warning: 4 files available to download. Only the first file has been downloaded. Please use `download_all()` or specify additional criteria (e.g. quarter, campaign, or sector) to limit your search.\n",
      "  warnings.warn(\n",
      "/home/idies/miniconda3/envs/py38/lib/python3.8/site-packages/lightkurve/search.py:346: LightkurveWarning: Warning: 2 files available to download. Only the first file has been downloaded. Please use `download_all()` or specify additional criteria (e.g. quarter, campaign, or sector) to limit your search.\n",
      "  warnings.warn(\n",
      "/home/idies/miniconda3/envs/py38/lib/python3.8/site-packages/lightkurve/search.py:346: LightkurveWarning: Warning: 3 files available to download. Only the first file has been downloaded. Please use `download_all()` or specify additional criteria (e.g. quarter, campaign, or sector) to limit your search.\n",
      "  warnings.warn(\n",
      "/home/idies/miniconda3/envs/py38/lib/python3.8/site-packages/lightkurve/search.py:346: LightkurveWarning: Warning: 3 files available to download. Only the first file has been downloaded. Please use `download_all()` or specify additional criteria (e.g. quarter, campaign, or sector) to limit your search.\n",
      "  warnings.warn(\n",
      "/home/idies/miniconda3/envs/py38/lib/python3.8/site-packages/lightkurve/search.py:346: LightkurveWarning: Warning: 4 files available to download. Only the first file has been downloaded. Please use `download_all()` or specify additional criteria (e.g. quarter, campaign, or sector) to limit your search.\n",
      "  warnings.warn(\n",
      "/home/idies/miniconda3/envs/py38/lib/python3.8/site-packages/lightkurve/search.py:346: LightkurveWarning: Warning: 2 files available to download. Only the first file has been downloaded. Please use `download_all()` or specify additional criteria (e.g. quarter, campaign, or sector) to limit your search.\n",
      "  warnings.warn(\n",
      "/home/idies/miniconda3/envs/py38/lib/python3.8/site-packages/lightkurve/search.py:346: LightkurveWarning: Warning: 2 files available to download. Only the first file has been downloaded. Please use `download_all()` or specify additional criteria (e.g. quarter, campaign, or sector) to limit your search.\n",
      "  warnings.warn(\n",
      "/home/idies/miniconda3/envs/py38/lib/python3.8/site-packages/lightkurve/search.py:346: LightkurveWarning: Warning: 4 files available to download. Only the first file has been downloaded. Please use `download_all()` or specify additional criteria (e.g. quarter, campaign, or sector) to limit your search.\n",
      "  warnings.warn(\n",
      "/home/idies/miniconda3/envs/py38/lib/python3.8/site-packages/lightkurve/search.py:346: LightkurveWarning: Warning: 4 files available to download. Only the first file has been downloaded. Please use `download_all()` or specify additional criteria (e.g. quarter, campaign, or sector) to limit your search.\n",
      "  warnings.warn(\n",
      "/home/idies/miniconda3/envs/py38/lib/python3.8/site-packages/lightkurve/search.py:346: LightkurveWarning: Warning: 4 files available to download. Only the first file has been downloaded. Please use `download_all()` or specify additional criteria (e.g. quarter, campaign, or sector) to limit your search.\n",
      "  warnings.warn(\n",
      "/home/idies/miniconda3/envs/py38/lib/python3.8/site-packages/lightkurve/search.py:346: LightkurveWarning: Warning: 2 files available to download. Only the first file has been downloaded. Please use `download_all()` or specify additional criteria (e.g. quarter, campaign, or sector) to limit your search.\n",
      "  warnings.warn(\n",
      "/home/idies/miniconda3/envs/py38/lib/python3.8/site-packages/lightkurve/search.py:346: LightkurveWarning: Warning: 3 files available to download. Only the first file has been downloaded. Please use `download_all()` or specify additional criteria (e.g. quarter, campaign, or sector) to limit your search.\n",
      "  warnings.warn(\n",
      "/home/idies/miniconda3/envs/py38/lib/python3.8/site-packages/lightkurve/search.py:346: LightkurveWarning: Warning: 5 files available to download. Only the first file has been downloaded. Please use `download_all()` or specify additional criteria (e.g. quarter, campaign, or sector) to limit your search.\n",
      "  warnings.warn(\n",
      "/home/idies/miniconda3/envs/py38/lib/python3.8/site-packages/lightkurve/search.py:346: LightkurveWarning: Warning: 2 files available to download. Only the first file has been downloaded. Please use `download_all()` or specify additional criteria (e.g. quarter, campaign, or sector) to limit your search.\n",
      "  warnings.warn(\n",
      "/home/idies/miniconda3/envs/py38/lib/python3.8/site-packages/lightkurve/search.py:346: LightkurveWarning: Warning: 2 files available to download. Only the first file has been downloaded. Please use `download_all()` or specify additional criteria (e.g. quarter, campaign, or sector) to limit your search.\n",
      "  warnings.warn(\n",
      "/home/idies/miniconda3/envs/py38/lib/python3.8/site-packages/lightkurve/search.py:346: LightkurveWarning: Warning: 4 files available to download. Only the first file has been downloaded. Please use `download_all()` or specify additional criteria (e.g. quarter, campaign, or sector) to limit your search.\n",
      "  warnings.warn(\n",
      "/home/idies/miniconda3/envs/py38/lib/python3.8/site-packages/lightkurve/search.py:346: LightkurveWarning: Warning: 4 files available to download. Only the first file has been downloaded. Please use `download_all()` or specify additional criteria (e.g. quarter, campaign, or sector) to limit your search.\n",
      "  warnings.warn(\n",
      "/home/idies/miniconda3/envs/py38/lib/python3.8/site-packages/lightkurve/search.py:346: LightkurveWarning: Warning: 19 files available to download. Only the first file has been downloaded. Please use `download_all()` or specify additional criteria (e.g. quarter, campaign, or sector) to limit your search.\n",
      "  warnings.warn(\n",
      "/home/idies/miniconda3/envs/py38/lib/python3.8/site-packages/lightkurve/search.py:346: LightkurveWarning: Warning: 8 files available to download. Only the first file has been downloaded. Please use `download_all()` or specify additional criteria (e.g. quarter, campaign, or sector) to limit your search.\n",
      "  warnings.warn(\n",
      "/home/idies/miniconda3/envs/py38/lib/python3.8/site-packages/lightkurve/search.py:346: LightkurveWarning: Warning: 23 files available to download. Only the first file has been downloaded. Please use `download_all()` or specify additional criteria (e.g. quarter, campaign, or sector) to limit your search.\n",
      "  warnings.warn(\n",
      "/home/idies/miniconda3/envs/py38/lib/python3.8/site-packages/lightkurve/search.py:346: LightkurveWarning: Warning: 34 files available to download. Only the first file has been downloaded. Please use `download_all()` or specify additional criteria (e.g. quarter, campaign, or sector) to limit your search.\n",
      "  warnings.warn(\n",
      "/home/idies/miniconda3/envs/py38/lib/python3.8/site-packages/lightkurve/search.py:346: LightkurveWarning: Warning: 21 files available to download. Only the first file has been downloaded. Please use `download_all()` or specify additional criteria (e.g. quarter, campaign, or sector) to limit your search.\n",
      "  warnings.warn(\n",
      "/home/idies/miniconda3/envs/py38/lib/python3.8/site-packages/lightkurve/search.py:346: LightkurveWarning: Warning: 21 files available to download. Only the first file has been downloaded. Please use `download_all()` or specify additional criteria (e.g. quarter, campaign, or sector) to limit your search.\n",
      "  warnings.warn(\n",
      "/home/idies/miniconda3/envs/py38/lib/python3.8/site-packages/lightkurve/search.py:346: LightkurveWarning: Warning: 13 files available to download. Only the first file has been downloaded. Please use `download_all()` or specify additional criteria (e.g. quarter, campaign, or sector) to limit your search.\n",
      "  warnings.warn(\n",
      "/home/idies/miniconda3/envs/py38/lib/python3.8/site-packages/lightkurve/search.py:346: LightkurveWarning: Warning: 6 files available to download. Only the first file has been downloaded. Please use `download_all()` or specify additional criteria (e.g. quarter, campaign, or sector) to limit your search.\n",
      "  warnings.warn(\n",
      "/home/idies/miniconda3/envs/py38/lib/python3.8/site-packages/lightkurve/search.py:346: LightkurveWarning: Warning: 6 files available to download. Only the first file has been downloaded. Please use `download_all()` or specify additional criteria (e.g. quarter, campaign, or sector) to limit your search.\n",
      "  warnings.warn(\n",
      "/home/idies/miniconda3/envs/py38/lib/python3.8/site-packages/lightkurve/search.py:346: LightkurveWarning: Warning: 6 files available to download. Only the first file has been downloaded. Please use `download_all()` or specify additional criteria (e.g. quarter, campaign, or sector) to limit your search.\n",
      "  warnings.warn(\n",
      "/home/idies/miniconda3/envs/py38/lib/python3.8/site-packages/lightkurve/search.py:346: LightkurveWarning: Warning: 5 files available to download. Only the first file has been downloaded. Please use `download_all()` or specify additional criteria (e.g. quarter, campaign, or sector) to limit your search.\n",
      "  warnings.warn(\n",
      "/home/idies/miniconda3/envs/py38/lib/python3.8/site-packages/lightkurve/search.py:346: LightkurveWarning: Warning: 3 files available to download. Only the first file has been downloaded. Please use `download_all()` or specify additional criteria (e.g. quarter, campaign, or sector) to limit your search.\n",
      "  warnings.warn(\n",
      "/home/idies/miniconda3/envs/py38/lib/python3.8/site-packages/lightkurve/search.py:346: LightkurveWarning: Warning: 2 files available to download. Only the first file has been downloaded. Please use `download_all()` or specify additional criteria (e.g. quarter, campaign, or sector) to limit your search.\n",
      "  warnings.warn(\n",
      "/home/idies/miniconda3/envs/py38/lib/python3.8/site-packages/lightkurve/search.py:346: LightkurveWarning: Warning: 2 files available to download. Only the first file has been downloaded. Please use `download_all()` or specify additional criteria (e.g. quarter, campaign, or sector) to limit your search.\n",
      "  warnings.warn(\n",
      "/home/idies/miniconda3/envs/py38/lib/python3.8/site-packages/lightkurve/search.py:346: LightkurveWarning: Warning: 2 files available to download. Only the first file has been downloaded. Please use `download_all()` or specify additional criteria (e.g. quarter, campaign, or sector) to limit your search.\n",
      "  warnings.warn(\n",
      "/home/idies/miniconda3/envs/py38/lib/python3.8/site-packages/lightkurve/search.py:346: LightkurveWarning: Warning: 4 files available to download. Only the first file has been downloaded. Please use `download_all()` or specify additional criteria (e.g. quarter, campaign, or sector) to limit your search.\n",
      "  warnings.warn(\n",
      "/home/idies/miniconda3/envs/py38/lib/python3.8/site-packages/lightkurve/search.py:346: LightkurveWarning: Warning: 4 files available to download. Only the first file has been downloaded. Please use `download_all()` or specify additional criteria (e.g. quarter, campaign, or sector) to limit your search.\n",
      "  warnings.warn(\n",
      "/home/idies/miniconda3/envs/py38/lib/python3.8/site-packages/lightkurve/search.py:346: LightkurveWarning: Warning: 4 files available to download. Only the first file has been downloaded. Please use `download_all()` or specify additional criteria (e.g. quarter, campaign, or sector) to limit your search.\n",
      "  warnings.warn(\n",
      "/home/idies/miniconda3/envs/py38/lib/python3.8/site-packages/lightkurve/search.py:346: LightkurveWarning: Warning: 4 files available to download. Only the first file has been downloaded. Please use `download_all()` or specify additional criteria (e.g. quarter, campaign, or sector) to limit your search.\n",
      "  warnings.warn(\n",
      "/home/idies/miniconda3/envs/py38/lib/python3.8/site-packages/lightkurve/search.py:346: LightkurveWarning: Warning: 5 files available to download. Only the first file has been downloaded. Please use `download_all()` or specify additional criteria (e.g. quarter, campaign, or sector) to limit your search.\n",
      "  warnings.warn(\n",
      "/home/idies/miniconda3/envs/py38/lib/python3.8/site-packages/lightkurve/search.py:346: LightkurveWarning: Warning: 3 files available to download. Only the first file has been downloaded. Please use `download_all()` or specify additional criteria (e.g. quarter, campaign, or sector) to limit your search.\n",
      "  warnings.warn(\n",
      "/home/idies/miniconda3/envs/py38/lib/python3.8/site-packages/lightkurve/search.py:346: LightkurveWarning: Warning: 4 files available to download. Only the first file has been downloaded. Please use `download_all()` or specify additional criteria (e.g. quarter, campaign, or sector) to limit your search.\n",
      "  warnings.warn(\n",
      "/home/idies/miniconda3/envs/py38/lib/python3.8/site-packages/lightkurve/search.py:346: LightkurveWarning: Warning: 2 files available to download. Only the first file has been downloaded. Please use `download_all()` or specify additional criteria (e.g. quarter, campaign, or sector) to limit your search.\n",
      "  warnings.warn(\n",
      "/home/idies/miniconda3/envs/py38/lib/python3.8/site-packages/lightkurve/search.py:346: LightkurveWarning: Warning: 2 files available to download. Only the first file has been downloaded. Please use `download_all()` or specify additional criteria (e.g. quarter, campaign, or sector) to limit your search.\n",
      "  warnings.warn(\n",
      "/home/idies/miniconda3/envs/py38/lib/python3.8/site-packages/lightkurve/search.py:346: LightkurveWarning: Warning: 4 files available to download. Only the first file has been downloaded. Please use `download_all()` or specify additional criteria (e.g. quarter, campaign, or sector) to limit your search.\n",
      "  warnings.warn(\n",
      "/home/idies/miniconda3/envs/py38/lib/python3.8/site-packages/lightkurve/search.py:346: LightkurveWarning: Warning: 6 files available to download. Only the first file has been downloaded. Please use `download_all()` or specify additional criteria (e.g. quarter, campaign, or sector) to limit your search.\n",
      "  warnings.warn(\n",
      "/home/idies/miniconda3/envs/py38/lib/python3.8/site-packages/lightkurve/search.py:346: LightkurveWarning: Warning: 2 files available to download. Only the first file has been downloaded. Please use `download_all()` or specify additional criteria (e.g. quarter, campaign, or sector) to limit your search.\n",
      "  warnings.warn(\n",
      "/home/idies/miniconda3/envs/py38/lib/python3.8/site-packages/lightkurve/search.py:346: LightkurveWarning: Warning: 3 files available to download. Only the first file has been downloaded. Please use `download_all()` or specify additional criteria (e.g. quarter, campaign, or sector) to limit your search.\n",
      "  warnings.warn(\n",
      "/home/idies/miniconda3/envs/py38/lib/python3.8/site-packages/lightkurve/search.py:346: LightkurveWarning: Warning: 6 files available to download. Only the first file has been downloaded. Please use `download_all()` or specify additional criteria (e.g. quarter, campaign, or sector) to limit your search.\n",
      "  warnings.warn(\n",
      "/home/idies/miniconda3/envs/py38/lib/python3.8/site-packages/lightkurve/search.py:346: LightkurveWarning: Warning: 3 files available to download. Only the first file has been downloaded. Please use `download_all()` or specify additional criteria (e.g. quarter, campaign, or sector) to limit your search.\n",
      "  warnings.warn(\n",
      "/home/idies/miniconda3/envs/py38/lib/python3.8/site-packages/lightkurve/search.py:346: LightkurveWarning: Warning: 5 files available to download. Only the first file has been downloaded. Please use `download_all()` or specify additional criteria (e.g. quarter, campaign, or sector) to limit your search.\n",
      "  warnings.warn(\n",
      "/home/idies/miniconda3/envs/py38/lib/python3.8/site-packages/lightkurve/search.py:346: LightkurveWarning: Warning: 4 files available to download. Only the first file has been downloaded. Please use `download_all()` or specify additional criteria (e.g. quarter, campaign, or sector) to limit your search.\n",
      "  warnings.warn(\n",
      "/home/idies/miniconda3/envs/py38/lib/python3.8/site-packages/lightkurve/search.py:346: LightkurveWarning: Warning: 3 files available to download. Only the first file has been downloaded. Please use `download_all()` or specify additional criteria (e.g. quarter, campaign, or sector) to limit your search.\n",
      "  warnings.warn(\n",
      "/home/idies/miniconda3/envs/py38/lib/python3.8/site-packages/lightkurve/search.py:346: LightkurveWarning: Warning: 2 files available to download. Only the first file has been downloaded. Please use `download_all()` or specify additional criteria (e.g. quarter, campaign, or sector) to limit your search.\n",
      "  warnings.warn(\n",
      "/home/idies/miniconda3/envs/py38/lib/python3.8/site-packages/lightkurve/search.py:346: LightkurveWarning: Warning: 6 files available to download. Only the first file has been downloaded. Please use `download_all()` or specify additional criteria (e.g. quarter, campaign, or sector) to limit your search.\n",
      "  warnings.warn(\n",
      "/home/idies/miniconda3/envs/py38/lib/python3.8/site-packages/lightkurve/search.py:346: LightkurveWarning: Warning: 5 files available to download. Only the first file has been downloaded. Please use `download_all()` or specify additional criteria (e.g. quarter, campaign, or sector) to limit your search.\n",
      "  warnings.warn(\n",
      "/home/idies/miniconda3/envs/py38/lib/python3.8/site-packages/lightkurve/search.py:346: LightkurveWarning: Warning: 5 files available to download. Only the first file has been downloaded. Please use `download_all()` or specify additional criteria (e.g. quarter, campaign, or sector) to limit your search.\n",
      "  warnings.warn(\n",
      "/home/idies/miniconda3/envs/py38/lib/python3.8/site-packages/lightkurve/search.py:346: LightkurveWarning: Warning: 4 files available to download. Only the first file has been downloaded. Please use `download_all()` or specify additional criteria (e.g. quarter, campaign, or sector) to limit your search.\n",
      "  warnings.warn(\n",
      "/home/idies/miniconda3/envs/py38/lib/python3.8/site-packages/lightkurve/search.py:346: LightkurveWarning: Warning: 4 files available to download. Only the first file has been downloaded. Please use `download_all()` or specify additional criteria (e.g. quarter, campaign, or sector) to limit your search.\n",
      "  warnings.warn(\n",
      "/home/idies/miniconda3/envs/py38/lib/python3.8/site-packages/lightkurve/search.py:346: LightkurveWarning: Warning: 4 files available to download. Only the first file has been downloaded. Please use `download_all()` or specify additional criteria (e.g. quarter, campaign, or sector) to limit your search.\n",
      "  warnings.warn(\n",
      "/home/idies/miniconda3/envs/py38/lib/python3.8/site-packages/lightkurve/search.py:346: LightkurveWarning: Warning: 3 files available to download. Only the first file has been downloaded. Please use `download_all()` or specify additional criteria (e.g. quarter, campaign, or sector) to limit your search.\n",
      "  warnings.warn(\n",
      "/home/idies/miniconda3/envs/py38/lib/python3.8/site-packages/lightkurve/search.py:346: LightkurveWarning: Warning: 6 files available to download. Only the first file has been downloaded. Please use `download_all()` or specify additional criteria (e.g. quarter, campaign, or sector) to limit your search.\n",
      "  warnings.warn(\n",
      "/home/idies/miniconda3/envs/py38/lib/python3.8/site-packages/lightkurve/search.py:346: LightkurveWarning: Warning: 4 files available to download. Only the first file has been downloaded. Please use `download_all()` or specify additional criteria (e.g. quarter, campaign, or sector) to limit your search.\n",
      "  warnings.warn(\n",
      "/home/idies/miniconda3/envs/py38/lib/python3.8/site-packages/lightkurve/search.py:346: LightkurveWarning: Warning: 5 files available to download. Only the first file has been downloaded. Please use `download_all()` or specify additional criteria (e.g. quarter, campaign, or sector) to limit your search.\n",
      "  warnings.warn(\n",
      "/home/idies/miniconda3/envs/py38/lib/python3.8/site-packages/lightkurve/search.py:346: LightkurveWarning: Warning: 6 files available to download. Only the first file has been downloaded. Please use `download_all()` or specify additional criteria (e.g. quarter, campaign, or sector) to limit your search.\n",
      "  warnings.warn(\n",
      "/home/idies/miniconda3/envs/py38/lib/python3.8/site-packages/lightkurve/search.py:346: LightkurveWarning: Warning: 4 files available to download. Only the first file has been downloaded. Please use `download_all()` or specify additional criteria (e.g. quarter, campaign, or sector) to limit your search.\n",
      "  warnings.warn(\n",
      "/home/idies/miniconda3/envs/py38/lib/python3.8/site-packages/lightkurve/search.py:346: LightkurveWarning: Warning: 10 files available to download. Only the first file has been downloaded. Please use `download_all()` or specify additional criteria (e.g. quarter, campaign, or sector) to limit your search.\n",
      "  warnings.warn(\n",
      "/home/idies/miniconda3/envs/py38/lib/python3.8/site-packages/lightkurve/search.py:346: LightkurveWarning: Warning: 10 files available to download. Only the first file has been downloaded. Please use `download_all()` or specify additional criteria (e.g. quarter, campaign, or sector) to limit your search.\n",
      "  warnings.warn(\n",
      "/home/idies/miniconda3/envs/py38/lib/python3.8/site-packages/lightkurve/search.py:346: LightkurveWarning: Warning: 18 files available to download. Only the first file has been downloaded. Please use `download_all()` or specify additional criteria (e.g. quarter, campaign, or sector) to limit your search.\n",
      "  warnings.warn(\n",
      "/home/idies/miniconda3/envs/py38/lib/python3.8/site-packages/lightkurve/search.py:346: LightkurveWarning: Warning: 5 files available to download. Only the first file has been downloaded. Please use `download_all()` or specify additional criteria (e.g. quarter, campaign, or sector) to limit your search.\n",
      "  warnings.warn(\n",
      "/home/idies/miniconda3/envs/py38/lib/python3.8/site-packages/lightkurve/search.py:346: LightkurveWarning: Warning: 15 files available to download. Only the first file has been downloaded. Please use `download_all()` or specify additional criteria (e.g. quarter, campaign, or sector) to limit your search.\n",
      "  warnings.warn(\n",
      "/home/idies/miniconda3/envs/py38/lib/python3.8/site-packages/lightkurve/search.py:346: LightkurveWarning: Warning: 2 files available to download. Only the first file has been downloaded. Please use `download_all()` or specify additional criteria (e.g. quarter, campaign, or sector) to limit your search.\n",
      "  warnings.warn(\n",
      "/home/idies/miniconda3/envs/py38/lib/python3.8/site-packages/lightkurve/search.py:346: LightkurveWarning: Warning: 6 files available to download. Only the first file has been downloaded. Please use `download_all()` or specify additional criteria (e.g. quarter, campaign, or sector) to limit your search.\n",
      "  warnings.warn(\n",
      "/home/idies/miniconda3/envs/py38/lib/python3.8/site-packages/lightkurve/search.py:346: LightkurveWarning: Warning: 2 files available to download. Only the first file has been downloaded. Please use `download_all()` or specify additional criteria (e.g. quarter, campaign, or sector) to limit your search.\n",
      "  warnings.warn(\n",
      "/home/idies/miniconda3/envs/py38/lib/python3.8/site-packages/lightkurve/search.py:346: LightkurveWarning: Warning: 2 files available to download. Only the first file has been downloaded. Please use `download_all()` or specify additional criteria (e.g. quarter, campaign, or sector) to limit your search.\n",
      "  warnings.warn(\n",
      "/home/idies/miniconda3/envs/py38/lib/python3.8/site-packages/lightkurve/search.py:346: LightkurveWarning: Warning: 3 files available to download. Only the first file has been downloaded. Please use `download_all()` or specify additional criteria (e.g. quarter, campaign, or sector) to limit your search.\n",
      "  warnings.warn(\n",
      "/home/idies/miniconda3/envs/py38/lib/python3.8/site-packages/lightkurve/search.py:346: LightkurveWarning: Warning: 6 files available to download. Only the first file has been downloaded. Please use `download_all()` or specify additional criteria (e.g. quarter, campaign, or sector) to limit your search.\n",
      "  warnings.warn(\n",
      "/home/idies/miniconda3/envs/py38/lib/python3.8/site-packages/lightkurve/search.py:346: LightkurveWarning: Warning: 2 files available to download. Only the first file has been downloaded. Please use `download_all()` or specify additional criteria (e.g. quarter, campaign, or sector) to limit your search.\n",
      "  warnings.warn(\n",
      "/home/idies/miniconda3/envs/py38/lib/python3.8/site-packages/lightkurve/search.py:346: LightkurveWarning: Warning: 25 files available to download. Only the first file has been downloaded. Please use `download_all()` or specify additional criteria (e.g. quarter, campaign, or sector) to limit your search.\n",
      "  warnings.warn(\n",
      "/home/idies/miniconda3/envs/py38/lib/python3.8/site-packages/lightkurve/search.py:346: LightkurveWarning: Warning: 24 files available to download. Only the first file has been downloaded. Please use `download_all()` or specify additional criteria (e.g. quarter, campaign, or sector) to limit your search.\n",
      "  warnings.warn(\n",
      "/home/idies/miniconda3/envs/py38/lib/python3.8/site-packages/lightkurve/search.py:346: LightkurveWarning: Warning: 17 files available to download. Only the first file has been downloaded. Please use `download_all()` or specify additional criteria (e.g. quarter, campaign, or sector) to limit your search.\n",
      "  warnings.warn(\n",
      "/home/idies/miniconda3/envs/py38/lib/python3.8/site-packages/lightkurve/search.py:346: LightkurveWarning: Warning: 25 files available to download. Only the first file has been downloaded. Please use `download_all()` or specify additional criteria (e.g. quarter, campaign, or sector) to limit your search.\n",
      "  warnings.warn(\n",
      "/home/idies/miniconda3/envs/py38/lib/python3.8/site-packages/lightkurve/search.py:346: LightkurveWarning: Warning: 24 files available to download. Only the first file has been downloaded. Please use `download_all()` or specify additional criteria (e.g. quarter, campaign, or sector) to limit your search.\n",
      "  warnings.warn(\n",
      "/home/idies/miniconda3/envs/py38/lib/python3.8/site-packages/lightkurve/search.py:346: LightkurveWarning: Warning: 15 files available to download. Only the first file has been downloaded. Please use `download_all()` or specify additional criteria (e.g. quarter, campaign, or sector) to limit your search.\n",
      "  warnings.warn(\n",
      "/home/idies/miniconda3/envs/py38/lib/python3.8/site-packages/lightkurve/search.py:346: LightkurveWarning: Warning: 10 files available to download. Only the first file has been downloaded. Please use `download_all()` or specify additional criteria (e.g. quarter, campaign, or sector) to limit your search.\n",
      "  warnings.warn(\n",
      "/home/idies/miniconda3/envs/py38/lib/python3.8/site-packages/lightkurve/search.py:346: LightkurveWarning: Warning: 4 files available to download. Only the first file has been downloaded. Please use `download_all()` or specify additional criteria (e.g. quarter, campaign, or sector) to limit your search.\n",
      "  warnings.warn(\n",
      "/home/idies/miniconda3/envs/py38/lib/python3.8/site-packages/lightkurve/search.py:346: LightkurveWarning: Warning: 4 files available to download. Only the first file has been downloaded. Please use `download_all()` or specify additional criteria (e.g. quarter, campaign, or sector) to limit your search.\n",
      "  warnings.warn(\n",
      "/home/idies/miniconda3/envs/py38/lib/python3.8/site-packages/lightkurve/search.py:346: LightkurveWarning: Warning: 2 files available to download. Only the first file has been downloaded. Please use `download_all()` or specify additional criteria (e.g. quarter, campaign, or sector) to limit your search.\n",
      "  warnings.warn(\n",
      "/home/idies/miniconda3/envs/py38/lib/python3.8/site-packages/lightkurve/search.py:346: LightkurveWarning: Warning: 3 files available to download. Only the first file has been downloaded. Please use `download_all()` or specify additional criteria (e.g. quarter, campaign, or sector) to limit your search.\n",
      "  warnings.warn(\n",
      "/home/idies/miniconda3/envs/py38/lib/python3.8/site-packages/lightkurve/search.py:346: LightkurveWarning: Warning: 4 files available to download. Only the first file has been downloaded. Please use `download_all()` or specify additional criteria (e.g. quarter, campaign, or sector) to limit your search.\n",
      "  warnings.warn(\n",
      "/home/idies/miniconda3/envs/py38/lib/python3.8/site-packages/lightkurve/search.py:346: LightkurveWarning: Warning: 12 files available to download. Only the first file has been downloaded. Please use `download_all()` or specify additional criteria (e.g. quarter, campaign, or sector) to limit your search.\n",
      "  warnings.warn(\n",
      "/home/idies/miniconda3/envs/py38/lib/python3.8/site-packages/lightkurve/search.py:346: LightkurveWarning: Warning: 2 files available to download. Only the first file has been downloaded. Please use `download_all()` or specify additional criteria (e.g. quarter, campaign, or sector) to limit your search.\n",
      "  warnings.warn(\n",
      "/home/idies/miniconda3/envs/py38/lib/python3.8/site-packages/lightkurve/search.py:346: LightkurveWarning: Warning: 5 files available to download. Only the first file has been downloaded. Please use `download_all()` or specify additional criteria (e.g. quarter, campaign, or sector) to limit your search.\n",
      "  warnings.warn(\n",
      "/home/idies/miniconda3/envs/py38/lib/python3.8/site-packages/lightkurve/search.py:346: LightkurveWarning: Warning: 3 files available to download. Only the first file has been downloaded. Please use `download_all()` or specify additional criteria (e.g. quarter, campaign, or sector) to limit your search.\n",
      "  warnings.warn(\n",
      "/home/idies/miniconda3/envs/py38/lib/python3.8/site-packages/lightkurve/search.py:346: LightkurveWarning: Warning: 2 files available to download. Only the first file has been downloaded. Please use `download_all()` or specify additional criteria (e.g. quarter, campaign, or sector) to limit your search.\n",
      "  warnings.warn(\n",
      "/home/idies/miniconda3/envs/py38/lib/python3.8/site-packages/lightkurve/search.py:346: LightkurveWarning: Warning: 3 files available to download. Only the first file has been downloaded. Please use `download_all()` or specify additional criteria (e.g. quarter, campaign, or sector) to limit your search.\n",
      "  warnings.warn(\n",
      "/home/idies/miniconda3/envs/py38/lib/python3.8/site-packages/lightkurve/search.py:346: LightkurveWarning: Warning: 4 files available to download. Only the first file has been downloaded. Please use `download_all()` or specify additional criteria (e.g. quarter, campaign, or sector) to limit your search.\n",
      "  warnings.warn(\n",
      "/home/idies/miniconda3/envs/py38/lib/python3.8/site-packages/lightkurve/search.py:346: LightkurveWarning: Warning: 20 files available to download. Only the first file has been downloaded. Please use `download_all()` or specify additional criteria (e.g. quarter, campaign, or sector) to limit your search.\n",
      "  warnings.warn(\n",
      "/home/idies/miniconda3/envs/py38/lib/python3.8/site-packages/lightkurve/search.py:346: LightkurveWarning: Warning: 10 files available to download. Only the first file has been downloaded. Please use `download_all()` or specify additional criteria (e.g. quarter, campaign, or sector) to limit your search.\n",
      "  warnings.warn(\n",
      "/home/idies/miniconda3/envs/py38/lib/python3.8/site-packages/lightkurve/search.py:346: LightkurveWarning: Warning: 11 files available to download. Only the first file has been downloaded. Please use `download_all()` or specify additional criteria (e.g. quarter, campaign, or sector) to limit your search.\n",
      "  warnings.warn(\n",
      "/home/idies/miniconda3/envs/py38/lib/python3.8/site-packages/lightkurve/search.py:346: LightkurveWarning: Warning: 15 files available to download. Only the first file has been downloaded. Please use `download_all()` or specify additional criteria (e.g. quarter, campaign, or sector) to limit your search.\n",
      "  warnings.warn(\n",
      "/home/idies/miniconda3/envs/py38/lib/python3.8/site-packages/lightkurve/search.py:346: LightkurveWarning: Warning: 23 files available to download. Only the first file has been downloaded. Please use `download_all()` or specify additional criteria (e.g. quarter, campaign, or sector) to limit your search.\n",
      "  warnings.warn(\n",
      "/home/idies/miniconda3/envs/py38/lib/python3.8/site-packages/lightkurve/search.py:346: LightkurveWarning: Warning: 23 files available to download. Only the first file has been downloaded. Please use `download_all()` or specify additional criteria (e.g. quarter, campaign, or sector) to limit your search.\n",
      "  warnings.warn(\n",
      "/home/idies/miniconda3/envs/py38/lib/python3.8/site-packages/lightkurve/search.py:346: LightkurveWarning: Warning: 32 files available to download. Only the first file has been downloaded. Please use `download_all()` or specify additional criteria (e.g. quarter, campaign, or sector) to limit your search.\n",
      "  warnings.warn(\n",
      "/home/idies/miniconda3/envs/py38/lib/python3.8/site-packages/lightkurve/search.py:346: LightkurveWarning: Warning: 6 files available to download. Only the first file has been downloaded. Please use `download_all()` or specify additional criteria (e.g. quarter, campaign, or sector) to limit your search.\n",
      "  warnings.warn(\n",
      "/home/idies/miniconda3/envs/py38/lib/python3.8/site-packages/lightkurve/search.py:346: LightkurveWarning: Warning: 4 files available to download. Only the first file has been downloaded. Please use `download_all()` or specify additional criteria (e.g. quarter, campaign, or sector) to limit your search.\n",
      "  warnings.warn(\n",
      "/home/idies/miniconda3/envs/py38/lib/python3.8/site-packages/lightkurve/search.py:346: LightkurveWarning: Warning: 4 files available to download. Only the first file has been downloaded. Please use `download_all()` or specify additional criteria (e.g. quarter, campaign, or sector) to limit your search.\n",
      "  warnings.warn(\n",
      "/home/idies/miniconda3/envs/py38/lib/python3.8/site-packages/lightkurve/search.py:346: LightkurveWarning: Warning: 2 files available to download. Only the first file has been downloaded. Please use `download_all()` or specify additional criteria (e.g. quarter, campaign, or sector) to limit your search.\n",
      "  warnings.warn(\n",
      "/home/idies/miniconda3/envs/py38/lib/python3.8/site-packages/lightkurve/search.py:346: LightkurveWarning: Warning: 3 files available to download. Only the first file has been downloaded. Please use `download_all()` or specify additional criteria (e.g. quarter, campaign, or sector) to limit your search.\n",
      "  warnings.warn(\n",
      "/home/idies/miniconda3/envs/py38/lib/python3.8/site-packages/lightkurve/search.py:346: LightkurveWarning: Warning: 2 files available to download. Only the first file has been downloaded. Please use `download_all()` or specify additional criteria (e.g. quarter, campaign, or sector) to limit your search.\n",
      "  warnings.warn(\n",
      "/home/idies/miniconda3/envs/py38/lib/python3.8/site-packages/lightkurve/search.py:346: LightkurveWarning: Warning: 5 files available to download. Only the first file has been downloaded. Please use `download_all()` or specify additional criteria (e.g. quarter, campaign, or sector) to limit your search.\n",
      "  warnings.warn(\n",
      "/home/idies/miniconda3/envs/py38/lib/python3.8/site-packages/lightkurve/search.py:346: LightkurveWarning: Warning: 2 files available to download. Only the first file has been downloaded. Please use `download_all()` or specify additional criteria (e.g. quarter, campaign, or sector) to limit your search.\n",
      "  warnings.warn(\n",
      "/home/idies/miniconda3/envs/py38/lib/python3.8/site-packages/lightkurve/search.py:346: LightkurveWarning: Warning: 2 files available to download. Only the first file has been downloaded. Please use `download_all()` or specify additional criteria (e.g. quarter, campaign, or sector) to limit your search.\n",
      "  warnings.warn(\n",
      "/home/idies/miniconda3/envs/py38/lib/python3.8/site-packages/lightkurve/search.py:346: LightkurveWarning: Warning: 12 files available to download. Only the first file has been downloaded. Please use `download_all()` or specify additional criteria (e.g. quarter, campaign, or sector) to limit your search.\n",
      "  warnings.warn(\n",
      "/home/idies/miniconda3/envs/py38/lib/python3.8/site-packages/lightkurve/search.py:346: LightkurveWarning: Warning: 6 files available to download. Only the first file has been downloaded. Please use `download_all()` or specify additional criteria (e.g. quarter, campaign, or sector) to limit your search.\n",
      "  warnings.warn(\n",
      "/home/idies/miniconda3/envs/py38/lib/python3.8/site-packages/lightkurve/search.py:346: LightkurveWarning: Warning: 4 files available to download. Only the first file has been downloaded. Please use `download_all()` or specify additional criteria (e.g. quarter, campaign, or sector) to limit your search.\n",
      "  warnings.warn(\n",
      "/home/idies/miniconda3/envs/py38/lib/python3.8/site-packages/lightkurve/search.py:346: LightkurveWarning: Warning: 2 files available to download. Only the first file has been downloaded. Please use `download_all()` or specify additional criteria (e.g. quarter, campaign, or sector) to limit your search.\n",
      "  warnings.warn(\n",
      "/home/idies/miniconda3/envs/py38/lib/python3.8/site-packages/lightkurve/search.py:346: LightkurveWarning: Warning: 3 files available to download. Only the first file has been downloaded. Please use `download_all()` or specify additional criteria (e.g. quarter, campaign, or sector) to limit your search.\n",
      "  warnings.warn(\n",
      "/home/idies/miniconda3/envs/py38/lib/python3.8/site-packages/lightkurve/search.py:346: LightkurveWarning: Warning: 5 files available to download. Only the first file has been downloaded. Please use `download_all()` or specify additional criteria (e.g. quarter, campaign, or sector) to limit your search.\n",
      "  warnings.warn(\n",
      "/home/idies/miniconda3/envs/py38/lib/python3.8/site-packages/lightkurve/search.py:346: LightkurveWarning: Warning: 4 files available to download. Only the first file has been downloaded. Please use `download_all()` or specify additional criteria (e.g. quarter, campaign, or sector) to limit your search.\n",
      "  warnings.warn(\n",
      "/home/idies/miniconda3/envs/py38/lib/python3.8/site-packages/lightkurve/search.py:346: LightkurveWarning: Warning: 3 files available to download. Only the first file has been downloaded. Please use `download_all()` or specify additional criteria (e.g. quarter, campaign, or sector) to limit your search.\n",
      "  warnings.warn(\n",
      "/home/idies/miniconda3/envs/py38/lib/python3.8/site-packages/lightkurve/search.py:346: LightkurveWarning: Warning: 3 files available to download. Only the first file has been downloaded. Please use `download_all()` or specify additional criteria (e.g. quarter, campaign, or sector) to limit your search.\n",
      "  warnings.warn(\n",
      "/home/idies/miniconda3/envs/py38/lib/python3.8/site-packages/lightkurve/search.py:346: LightkurveWarning: Warning: 17 files available to download. Only the first file has been downloaded. Please use `download_all()` or specify additional criteria (e.g. quarter, campaign, or sector) to limit your search.\n",
      "  warnings.warn(\n",
      "/home/idies/miniconda3/envs/py38/lib/python3.8/site-packages/lightkurve/search.py:346: LightkurveWarning: Warning: 17 files available to download. Only the first file has been downloaded. Please use `download_all()` or specify additional criteria (e.g. quarter, campaign, or sector) to limit your search.\n",
      "  warnings.warn(\n",
      "/home/idies/miniconda3/envs/py38/lib/python3.8/site-packages/lightkurve/search.py:346: LightkurveWarning: Warning: 23 files available to download. Only the first file has been downloaded. Please use `download_all()` or specify additional criteria (e.g. quarter, campaign, or sector) to limit your search.\n",
      "  warnings.warn(\n",
      "/home/idies/miniconda3/envs/py38/lib/python3.8/site-packages/lightkurve/search.py:346: LightkurveWarning: Warning: 2 files available to download. Only the first file has been downloaded. Please use `download_all()` or specify additional criteria (e.g. quarter, campaign, or sector) to limit your search.\n",
      "  warnings.warn(\n",
      "/home/idies/miniconda3/envs/py38/lib/python3.8/site-packages/lightkurve/search.py:346: LightkurveWarning: Warning: 2 files available to download. Only the first file has been downloaded. Please use `download_all()` or specify additional criteria (e.g. quarter, campaign, or sector) to limit your search.\n",
      "  warnings.warn(\n",
      "/home/idies/miniconda3/envs/py38/lib/python3.8/site-packages/lightkurve/search.py:346: LightkurveWarning: Warning: 2 files available to download. Only the first file has been downloaded. Please use `download_all()` or specify additional criteria (e.g. quarter, campaign, or sector) to limit your search.\n",
      "  warnings.warn(\n",
      "/home/idies/miniconda3/envs/py38/lib/python3.8/site-packages/lightkurve/search.py:346: LightkurveWarning: Warning: 11 files available to download. Only the first file has been downloaded. Please use `download_all()` or specify additional criteria (e.g. quarter, campaign, or sector) to limit your search.\n",
      "  warnings.warn(\n",
      "/home/idies/miniconda3/envs/py38/lib/python3.8/site-packages/lightkurve/search.py:346: LightkurveWarning: Warning: 22 files available to download. Only the first file has been downloaded. Please use `download_all()` or specify additional criteria (e.g. quarter, campaign, or sector) to limit your search.\n",
      "  warnings.warn(\n",
      "/home/idies/miniconda3/envs/py38/lib/python3.8/site-packages/lightkurve/search.py:346: LightkurveWarning: Warning: 15 files available to download. Only the first file has been downloaded. Please use `download_all()` or specify additional criteria (e.g. quarter, campaign, or sector) to limit your search.\n",
      "  warnings.warn(\n",
      "/home/idies/miniconda3/envs/py38/lib/python3.8/site-packages/lightkurve/search.py:346: LightkurveWarning: Warning: 6 files available to download. Only the first file has been downloaded. Please use `download_all()` or specify additional criteria (e.g. quarter, campaign, or sector) to limit your search.\n",
      "  warnings.warn(\n",
      "/home/idies/miniconda3/envs/py38/lib/python3.8/site-packages/lightkurve/search.py:346: LightkurveWarning: Warning: 24 files available to download. Only the first file has been downloaded. Please use `download_all()` or specify additional criteria (e.g. quarter, campaign, or sector) to limit your search.\n",
      "  warnings.warn(\n",
      "/home/idies/miniconda3/envs/py38/lib/python3.8/site-packages/lightkurve/search.py:346: LightkurveWarning: Warning: 25 files available to download. Only the first file has been downloaded. Please use `download_all()` or specify additional criteria (e.g. quarter, campaign, or sector) to limit your search.\n",
      "  warnings.warn(\n",
      "/home/idies/miniconda3/envs/py38/lib/python3.8/site-packages/lightkurve/search.py:346: LightkurveWarning: Warning: 2 files available to download. Only the first file has been downloaded. Please use `download_all()` or specify additional criteria (e.g. quarter, campaign, or sector) to limit your search.\n",
      "  warnings.warn(\n",
      "/home/idies/miniconda3/envs/py38/lib/python3.8/site-packages/lightkurve/search.py:346: LightkurveWarning: Warning: 2 files available to download. Only the first file has been downloaded. Please use `download_all()` or specify additional criteria (e.g. quarter, campaign, or sector) to limit your search.\n",
      "  warnings.warn(\n",
      "/home/idies/miniconda3/envs/py38/lib/python3.8/site-packages/lightkurve/search.py:346: LightkurveWarning: Warning: 2 files available to download. Only the first file has been downloaded. Please use `download_all()` or specify additional criteria (e.g. quarter, campaign, or sector) to limit your search.\n",
      "  warnings.warn(\n",
      "/home/idies/miniconda3/envs/py38/lib/python3.8/site-packages/lightkurve/search.py:346: LightkurveWarning: Warning: 3 files available to download. Only the first file has been downloaded. Please use `download_all()` or specify additional criteria (e.g. quarter, campaign, or sector) to limit your search.\n",
      "  warnings.warn(\n",
      "/home/idies/miniconda3/envs/py38/lib/python3.8/site-packages/lightkurve/search.py:346: LightkurveWarning: Warning: 2 files available to download. Only the first file has been downloaded. Please use `download_all()` or specify additional criteria (e.g. quarter, campaign, or sector) to limit your search.\n",
      "  warnings.warn(\n",
      "/home/idies/miniconda3/envs/py38/lib/python3.8/site-packages/lightkurve/search.py:346: LightkurveWarning: Warning: 17 files available to download. Only the first file has been downloaded. Please use `download_all()` or specify additional criteria (e.g. quarter, campaign, or sector) to limit your search.\n",
      "  warnings.warn(\n",
      "/home/idies/miniconda3/envs/py38/lib/python3.8/site-packages/lightkurve/search.py:346: LightkurveWarning: Warning: 18 files available to download. Only the first file has been downloaded. Please use `download_all()` or specify additional criteria (e.g. quarter, campaign, or sector) to limit your search.\n",
      "  warnings.warn(\n",
      "/home/idies/miniconda3/envs/py38/lib/python3.8/site-packages/lightkurve/search.py:346: LightkurveWarning: Warning: 14 files available to download. Only the first file has been downloaded. Please use `download_all()` or specify additional criteria (e.g. quarter, campaign, or sector) to limit your search.\n",
      "  warnings.warn(\n",
      "/home/idies/miniconda3/envs/py38/lib/python3.8/site-packages/lightkurve/search.py:346: LightkurveWarning: Warning: 12 files available to download. Only the first file has been downloaded. Please use `download_all()` or specify additional criteria (e.g. quarter, campaign, or sector) to limit your search.\n",
      "  warnings.warn(\n",
      "/home/idies/miniconda3/envs/py38/lib/python3.8/site-packages/lightkurve/search.py:346: LightkurveWarning: Warning: 10 files available to download. Only the first file has been downloaded. Please use `download_all()` or specify additional criteria (e.g. quarter, campaign, or sector) to limit your search.\n",
      "  warnings.warn(\n",
      "/home/idies/miniconda3/envs/py38/lib/python3.8/site-packages/lightkurve/search.py:346: LightkurveWarning: Warning: 11 files available to download. Only the first file has been downloaded. Please use `download_all()` or specify additional criteria (e.g. quarter, campaign, or sector) to limit your search.\n",
      "  warnings.warn(\n",
      "/home/idies/miniconda3/envs/py38/lib/python3.8/site-packages/lightkurve/search.py:346: LightkurveWarning: Warning: 10 files available to download. Only the first file has been downloaded. Please use `download_all()` or specify additional criteria (e.g. quarter, campaign, or sector) to limit your search.\n",
      "  warnings.warn(\n",
      "/home/idies/miniconda3/envs/py38/lib/python3.8/site-packages/lightkurve/search.py:346: LightkurveWarning: Warning: 24 files available to download. Only the first file has been downloaded. Please use `download_all()` or specify additional criteria (e.g. quarter, campaign, or sector) to limit your search.\n",
      "  warnings.warn(\n",
      "/home/idies/miniconda3/envs/py38/lib/python3.8/site-packages/lightkurve/search.py:346: LightkurveWarning: Warning: 12 files available to download. Only the first file has been downloaded. Please use `download_all()` or specify additional criteria (e.g. quarter, campaign, or sector) to limit your search.\n",
      "  warnings.warn(\n",
      "/home/idies/miniconda3/envs/py38/lib/python3.8/site-packages/lightkurve/search.py:346: LightkurveWarning: Warning: 13 files available to download. Only the first file has been downloaded. Please use `download_all()` or specify additional criteria (e.g. quarter, campaign, or sector) to limit your search.\n",
      "  warnings.warn(\n",
      "/home/idies/miniconda3/envs/py38/lib/python3.8/site-packages/lightkurve/search.py:346: LightkurveWarning: Warning: 2 files available to download. Only the first file has been downloaded. Please use `download_all()` or specify additional criteria (e.g. quarter, campaign, or sector) to limit your search.\n",
      "  warnings.warn(\n",
      "/home/idies/miniconda3/envs/py38/lib/python3.8/site-packages/lightkurve/search.py:346: LightkurveWarning: Warning: 8 files available to download. Only the first file has been downloaded. Please use `download_all()` or specify additional criteria (e.g. quarter, campaign, or sector) to limit your search.\n",
      "  warnings.warn(\n",
      "/home/idies/miniconda3/envs/py38/lib/python3.8/site-packages/lightkurve/search.py:346: LightkurveWarning: Warning: 9 files available to download. Only the first file has been downloaded. Please use `download_all()` or specify additional criteria (e.g. quarter, campaign, or sector) to limit your search.\n",
      "  warnings.warn(\n",
      "/home/idies/miniconda3/envs/py38/lib/python3.8/site-packages/lightkurve/search.py:346: LightkurveWarning: Warning: 9 files available to download. Only the first file has been downloaded. Please use `download_all()` or specify additional criteria (e.g. quarter, campaign, or sector) to limit your search.\n",
      "  warnings.warn(\n",
      "/home/idies/miniconda3/envs/py38/lib/python3.8/site-packages/lightkurve/search.py:346: LightkurveWarning: Warning: 3 files available to download. Only the first file has been downloaded. Please use `download_all()` or specify additional criteria (e.g. quarter, campaign, or sector) to limit your search.\n",
      "  warnings.warn(\n",
      "/home/idies/miniconda3/envs/py38/lib/python3.8/site-packages/lightkurve/search.py:346: LightkurveWarning: Warning: 3 files available to download. Only the first file has been downloaded. Please use `download_all()` or specify additional criteria (e.g. quarter, campaign, or sector) to limit your search.\n",
      "  warnings.warn(\n",
      "/home/idies/miniconda3/envs/py38/lib/python3.8/site-packages/lightkurve/search.py:346: LightkurveWarning: Warning: 3 files available to download. Only the first file has been downloaded. Please use `download_all()` or specify additional criteria (e.g. quarter, campaign, or sector) to limit your search.\n",
      "  warnings.warn(\n",
      "/home/idies/miniconda3/envs/py38/lib/python3.8/site-packages/lightkurve/search.py:346: LightkurveWarning: Warning: 2 files available to download. Only the first file has been downloaded. Please use `download_all()` or specify additional criteria (e.g. quarter, campaign, or sector) to limit your search.\n",
      "  warnings.warn(\n",
      "/home/idies/miniconda3/envs/py38/lib/python3.8/site-packages/lightkurve/search.py:346: LightkurveWarning: Warning: 4 files available to download. Only the first file has been downloaded. Please use `download_all()` or specify additional criteria (e.g. quarter, campaign, or sector) to limit your search.\n",
      "  warnings.warn(\n",
      "/home/idies/miniconda3/envs/py38/lib/python3.8/site-packages/lightkurve/search.py:346: LightkurveWarning: Warning: 24 files available to download. Only the first file has been downloaded. Please use `download_all()` or specify additional criteria (e.g. quarter, campaign, or sector) to limit your search.\n",
      "  warnings.warn(\n",
      "/home/idies/miniconda3/envs/py38/lib/python3.8/site-packages/lightkurve/search.py:346: LightkurveWarning: Warning: 2 files available to download. Only the first file has been downloaded. Please use `download_all()` or specify additional criteria (e.g. quarter, campaign, or sector) to limit your search.\n",
      "  warnings.warn(\n",
      "/home/idies/miniconda3/envs/py38/lib/python3.8/site-packages/lightkurve/search.py:346: LightkurveWarning: Warning: 13 files available to download. Only the first file has been downloaded. Please use `download_all()` or specify additional criteria (e.g. quarter, campaign, or sector) to limit your search.\n",
      "  warnings.warn(\n",
      "/home/idies/miniconda3/envs/py38/lib/python3.8/site-packages/lightkurve/search.py:346: LightkurveWarning: Warning: 23 files available to download. Only the first file has been downloaded. Please use `download_all()` or specify additional criteria (e.g. quarter, campaign, or sector) to limit your search.\n",
      "  warnings.warn(\n",
      "/home/idies/miniconda3/envs/py38/lib/python3.8/site-packages/lightkurve/search.py:346: LightkurveWarning: Warning: 24 files available to download. Only the first file has been downloaded. Please use `download_all()` or specify additional criteria (e.g. quarter, campaign, or sector) to limit your search.\n",
      "  warnings.warn(\n",
      "/home/idies/miniconda3/envs/py38/lib/python3.8/site-packages/lightkurve/search.py:346: LightkurveWarning: Warning: 2 files available to download. Only the first file has been downloaded. Please use `download_all()` or specify additional criteria (e.g. quarter, campaign, or sector) to limit your search.\n",
      "  warnings.warn(\n",
      "/home/idies/miniconda3/envs/py38/lib/python3.8/site-packages/lightkurve/search.py:346: LightkurveWarning: Warning: 3 files available to download. Only the first file has been downloaded. Please use `download_all()` or specify additional criteria (e.g. quarter, campaign, or sector) to limit your search.\n",
      "  warnings.warn(\n",
      "/home/idies/miniconda3/envs/py38/lib/python3.8/site-packages/lightkurve/search.py:346: LightkurveWarning: Warning: 4 files available to download. Only the first file has been downloaded. Please use `download_all()` or specify additional criteria (e.g. quarter, campaign, or sector) to limit your search.\n",
      "  warnings.warn(\n",
      "/home/idies/miniconda3/envs/py38/lib/python3.8/site-packages/lightkurve/search.py:346: LightkurveWarning: Warning: 7 files available to download. Only the first file has been downloaded. Please use `download_all()` or specify additional criteria (e.g. quarter, campaign, or sector) to limit your search.\n",
      "  warnings.warn(\n",
      "/home/idies/miniconda3/envs/py38/lib/python3.8/site-packages/lightkurve/search.py:346: LightkurveWarning: Warning: 5 files available to download. Only the first file has been downloaded. Please use `download_all()` or specify additional criteria (e.g. quarter, campaign, or sector) to limit your search.\n",
      "  warnings.warn(\n",
      "/home/idies/miniconda3/envs/py38/lib/python3.8/site-packages/lightkurve/search.py:346: LightkurveWarning: Warning: 25 files available to download. Only the first file has been downloaded. Please use `download_all()` or specify additional criteria (e.g. quarter, campaign, or sector) to limit your search.\n",
      "  warnings.warn(\n",
      "/home/idies/miniconda3/envs/py38/lib/python3.8/site-packages/lightkurve/search.py:346: LightkurveWarning: Warning: 2 files available to download. Only the first file has been downloaded. Please use `download_all()` or specify additional criteria (e.g. quarter, campaign, or sector) to limit your search.\n",
      "  warnings.warn(\n",
      "/home/idies/miniconda3/envs/py38/lib/python3.8/site-packages/lightkurve/search.py:346: LightkurveWarning: Warning: 23 files available to download. Only the first file has been downloaded. Please use `download_all()` or specify additional criteria (e.g. quarter, campaign, or sector) to limit your search.\n",
      "  warnings.warn(\n",
      "/home/idies/miniconda3/envs/py38/lib/python3.8/site-packages/lightkurve/search.py:346: LightkurveWarning: Warning: 23 files available to download. Only the first file has been downloaded. Please use `download_all()` or specify additional criteria (e.g. quarter, campaign, or sector) to limit your search.\n",
      "  warnings.warn(\n",
      "/home/idies/miniconda3/envs/py38/lib/python3.8/site-packages/lightkurve/search.py:346: LightkurveWarning: Warning: 10 files available to download. Only the first file has been downloaded. Please use `download_all()` or specify additional criteria (e.g. quarter, campaign, or sector) to limit your search.\n",
      "  warnings.warn(\n",
      "/home/idies/miniconda3/envs/py38/lib/python3.8/site-packages/lightkurve/search.py:346: LightkurveWarning: Warning: 13 files available to download. Only the first file has been downloaded. Please use `download_all()` or specify additional criteria (e.g. quarter, campaign, or sector) to limit your search.\n",
      "  warnings.warn(\n",
      "/home/idies/miniconda3/envs/py38/lib/python3.8/site-packages/lightkurve/search.py:346: LightkurveWarning: Warning: 5 files available to download. Only the first file has been downloaded. Please use `download_all()` or specify additional criteria (e.g. quarter, campaign, or sector) to limit your search.\n",
      "  warnings.warn(\n",
      "/home/idies/miniconda3/envs/py38/lib/python3.8/site-packages/lightkurve/search.py:346: LightkurveWarning: Warning: 18 files available to download. Only the first file has been downloaded. Please use `download_all()` or specify additional criteria (e.g. quarter, campaign, or sector) to limit your search.\n",
      "  warnings.warn(\n",
      "/home/idies/miniconda3/envs/py38/lib/python3.8/site-packages/lightkurve/search.py:346: LightkurveWarning: Warning: 20 files available to download. Only the first file has been downloaded. Please use `download_all()` or specify additional criteria (e.g. quarter, campaign, or sector) to limit your search.\n",
      "  warnings.warn(\n",
      "/home/idies/miniconda3/envs/py38/lib/python3.8/site-packages/lightkurve/search.py:346: LightkurveWarning: Warning: 13 files available to download. Only the first file has been downloaded. Please use `download_all()` or specify additional criteria (e.g. quarter, campaign, or sector) to limit your search.\n",
      "  warnings.warn(\n",
      "/home/idies/miniconda3/envs/py38/lib/python3.8/site-packages/lightkurve/search.py:346: LightkurveWarning: Warning: 5 files available to download. Only the first file has been downloaded. Please use `download_all()` or specify additional criteria (e.g. quarter, campaign, or sector) to limit your search.\n",
      "  warnings.warn(\n",
      "/home/idies/miniconda3/envs/py38/lib/python3.8/site-packages/lightkurve/search.py:346: LightkurveWarning: Warning: 6 files available to download. Only the first file has been downloaded. Please use `download_all()` or specify additional criteria (e.g. quarter, campaign, or sector) to limit your search.\n",
      "  warnings.warn(\n",
      "/home/idies/miniconda3/envs/py38/lib/python3.8/site-packages/lightkurve/search.py:346: LightkurveWarning: Warning: 3 files available to download. Only the first file has been downloaded. Please use `download_all()` or specify additional criteria (e.g. quarter, campaign, or sector) to limit your search.\n",
      "  warnings.warn(\n",
      "/home/idies/miniconda3/envs/py38/lib/python3.8/site-packages/lightkurve/search.py:346: LightkurveWarning: Warning: 11 files available to download. Only the first file has been downloaded. Please use `download_all()` or specify additional criteria (e.g. quarter, campaign, or sector) to limit your search.\n",
      "  warnings.warn(\n",
      "/home/idies/miniconda3/envs/py38/lib/python3.8/site-packages/lightkurve/search.py:346: LightkurveWarning: Warning: 2 files available to download. Only the first file has been downloaded. Please use `download_all()` or specify additional criteria (e.g. quarter, campaign, or sector) to limit your search.\n",
      "  warnings.warn(\n",
      "/home/idies/miniconda3/envs/py38/lib/python3.8/site-packages/lightkurve/search.py:346: LightkurveWarning: Warning: 2 files available to download. Only the first file has been downloaded. Please use `download_all()` or specify additional criteria (e.g. quarter, campaign, or sector) to limit your search.\n",
      "  warnings.warn(\n",
      "/home/idies/miniconda3/envs/py38/lib/python3.8/site-packages/lightkurve/search.py:346: LightkurveWarning: Warning: 5 files available to download. Only the first file has been downloaded. Please use `download_all()` or specify additional criteria (e.g. quarter, campaign, or sector) to limit your search.\n",
      "  warnings.warn(\n",
      "/home/idies/miniconda3/envs/py38/lib/python3.8/site-packages/lightkurve/search.py:346: LightkurveWarning: Warning: 3 files available to download. Only the first file has been downloaded. Please use `download_all()` or specify additional criteria (e.g. quarter, campaign, or sector) to limit your search.\n",
      "  warnings.warn(\n",
      "/home/idies/miniconda3/envs/py38/lib/python3.8/site-packages/lightkurve/search.py:346: LightkurveWarning: Warning: 2 files available to download. Only the first file has been downloaded. Please use `download_all()` or specify additional criteria (e.g. quarter, campaign, or sector) to limit your search.\n",
      "  warnings.warn(\n",
      "/home/idies/miniconda3/envs/py38/lib/python3.8/site-packages/lightkurve/search.py:346: LightkurveWarning: Warning: 6 files available to download. Only the first file has been downloaded. Please use `download_all()` or specify additional criteria (e.g. quarter, campaign, or sector) to limit your search.\n",
      "  warnings.warn(\n",
      "/home/idies/miniconda3/envs/py38/lib/python3.8/site-packages/lightkurve/search.py:346: LightkurveWarning: Warning: 3 files available to download. Only the first file has been downloaded. Please use `download_all()` or specify additional criteria (e.g. quarter, campaign, or sector) to limit your search.\n",
      "  warnings.warn(\n",
      "/home/idies/miniconda3/envs/py38/lib/python3.8/site-packages/lightkurve/search.py:346: LightkurveWarning: Warning: 2 files available to download. Only the first file has been downloaded. Please use `download_all()` or specify additional criteria (e.g. quarter, campaign, or sector) to limit your search.\n",
      "  warnings.warn(\n",
      "/home/idies/miniconda3/envs/py38/lib/python3.8/site-packages/lightkurve/search.py:346: LightkurveWarning: Warning: 4 files available to download. Only the first file has been downloaded. Please use `download_all()` or specify additional criteria (e.g. quarter, campaign, or sector) to limit your search.\n",
      "  warnings.warn(\n",
      "/home/idies/miniconda3/envs/py38/lib/python3.8/site-packages/lightkurve/search.py:346: LightkurveWarning: Warning: 2 files available to download. Only the first file has been downloaded. Please use `download_all()` or specify additional criteria (e.g. quarter, campaign, or sector) to limit your search.\n",
      "  warnings.warn(\n",
      "/home/idies/miniconda3/envs/py38/lib/python3.8/site-packages/lightkurve/search.py:346: LightkurveWarning: Warning: 2 files available to download. Only the first file has been downloaded. Please use `download_all()` or specify additional criteria (e.g. quarter, campaign, or sector) to limit your search.\n",
      "  warnings.warn(\n"
     ]
    },
    {
     "name": "stdout",
     "output_type": "stream",
     "text": [
      "122.70117\n",
      "924.83246\n"
     ]
    }
   ],
   "source": [
    "delta_f_conv = []\n",
    "avg_flux_conv = []\n",
    "std_conv = []\n",
    "median_conv = []\n",
    "tic_conv = [str(x) for x in tic_conv]\n",
    "\n",
    "for i in tic_conv:\n",
    "\n",
    "    TIC = i # Input TIC\n",
    "\n",
    "    # Search for the lightkurve\n",
    "\n",
    "    search_result = lk.search_lightcurve('TIC ' + TIC, mission='TESS',author='SPOC')\n",
    "\n",
    "    # Download all available TESS lightcurves (i.e. from different sectors)\n",
    "    lc = search_result.download()\n",
    "\n",
    "    # Combine the different lightkurves\n",
    "\n",
    "    #lc = lc_collection.stitch()\n",
    "\n",
    "    # Normalize the lightcurve\n",
    "\n",
    "    lc = lc.normalize()\n",
    "\n",
    "    # Get out a flux and time array\n",
    "\n",
    "    timeArray = lc['time'].value # these are numpy arrays\n",
    "    fluxArray = lc['sap_flux'].value\n",
    "    fluxArray = fluxArray[np.logical_not(np.isnan(fluxArray))]\n",
    "    \n",
    "    \n",
    "    # Filter out the last 450 data points to avoid running into flares and other irregularities\n",
    "\n",
    "    #timeArray = timeArray[-500:-50:]\n",
    "    #fluxArray = fluxArray[-500:-50:]\n",
    "    \n",
    "    std = np.std(fluxArray)\n",
    "    mean = np.average(fluxArray)\n",
    "    median = np.median(fluxArray)\n",
    "    \n",
    "    flux = np.array(fluxArray)\n",
    "    index_to_remove = [np.where((flux >= mean + 3 * std) & (flux <= mean - 3* std))][0]     ## Removing all points that lie outside of 3 sigma\n",
    "    \n",
    "    timeArray = np.delete(timeArray, index_to_remove[0])\n",
    "    fluxArray = np.delete(fluxArray, index_to_remove[0])\n",
    "\n",
    "    # Get the average, min and max values\n",
    "\n",
    "    fluxMin = np.min(fluxArray)\n",
    "    fluxMax = np.max(fluxArray)\n",
    "    fluxWidth = fluxMax - fluxMin\n",
    "    fluxAvg = np.average(fluxArray)\n",
    "    \n",
    "    # Append to the list that has data for all stars\n",
    "    \n",
    "    delta_f_conv.append(fluxWidth)\n",
    "    avg_flux_conv.append(fluxAvg)\n",
    "    std_conv.append(std)\n",
    "    median_conv.append(median)\n",
    "\n",
    "print(fluxWidth)\n",
    "print(fluxAvg)"
   ]
  },
  {
   "cell_type": "code",
   "execution_count": 59,
   "metadata": {},
   "outputs": [],
   "source": [
    "#print((delta_f_conv))\n",
    "#print(std_conv)"
   ]
  },
  {
   "cell_type": "code",
   "execution_count": 60,
   "metadata": {},
   "outputs": [
    {
     "data": {
      "image/png": "[encoded data removed]",
      "text/plain": [
       "<Figure size 432x288 with 1 Axes>"
      ]
     },
     "metadata": {
      "needs_background": "light"
     },
     "output_type": "display_data"
    }
   ],
   "source": [
    "ratio_conv = [x / y for x,y in zip(std_conv, median_conv)]       ## Standard deviation / median ratio\n",
    "plt.plot(tmag_conv, ratio_conv, '.')\n",
    "plt.xlabel('TESS Magnitude')\n",
    "plt.ylabel('Fractional Variation (std dev / median)')\n",
    "plt.yscale(\"log\")"
   ]
  },
  {
   "cell_type": "markdown",
   "metadata": {},
   "source": [
    "### Looping to get ${\\delta}f$ for each star in partially convective list"
   ]
  },
  {
   "cell_type": "code",
   "execution_count": 61,
   "metadata": {},
   "outputs": [
    {
     "name": "stderr",
     "output_type": "stream",
     "text": [
      "/home/idies/miniconda3/envs/py38/lib/python3.8/site-packages/lightkurve/search.py:346: LightkurveWarning: Warning: 3 files available to download. Only the first file has been downloaded. Please use `download_all()` or specify additional criteria (e.g. quarter, campaign, or sector) to limit your search.\n",
      "  warnings.warn(\n",
      "/home/idies/miniconda3/envs/py38/lib/python3.8/site-packages/lightkurve/search.py:346: LightkurveWarning: Warning: 5 files available to download. Only the first file has been downloaded. Please use `download_all()` or specify additional criteria (e.g. quarter, campaign, or sector) to limit your search.\n",
      "  warnings.warn(\n",
      "/home/idies/miniconda3/envs/py38/lib/python3.8/site-packages/lightkurve/search.py:346: LightkurveWarning: Warning: 3 files available to download. Only the first file has been downloaded. Please use `download_all()` or specify additional criteria (e.g. quarter, campaign, or sector) to limit your search.\n",
      "  warnings.warn(\n",
      "/home/idies/miniconda3/envs/py38/lib/python3.8/site-packages/lightkurve/search.py:346: LightkurveWarning: Warning: 3 files available to download. Only the first file has been downloaded. Please use `download_all()` or specify additional criteria (e.g. quarter, campaign, or sector) to limit your search.\n",
      "  warnings.warn(\n",
      "/home/idies/miniconda3/envs/py38/lib/python3.8/site-packages/lightkurve/search.py:346: LightkurveWarning: Warning: 32 files available to download. Only the first file has been downloaded. Please use `download_all()` or specify additional criteria (e.g. quarter, campaign, or sector) to limit your search.\n",
      "  warnings.warn(\n",
      "/home/idies/miniconda3/envs/py38/lib/python3.8/site-packages/lightkurve/search.py:346: LightkurveWarning: Warning: 35 files available to download. Only the first file has been downloaded. Please use `download_all()` or specify additional criteria (e.g. quarter, campaign, or sector) to limit your search.\n",
      "  warnings.warn(\n",
      "/home/idies/miniconda3/envs/py38/lib/python3.8/site-packages/lightkurve/search.py:346: LightkurveWarning: Warning: 28 files available to download. Only the first file has been downloaded. Please use `download_all()` or specify additional criteria (e.g. quarter, campaign, or sector) to limit your search.\n",
      "  warnings.warn(\n",
      "/home/idies/miniconda3/envs/py38/lib/python3.8/site-packages/lightkurve/search.py:346: LightkurveWarning: Warning: 34 files available to download. Only the first file has been downloaded. Please use `download_all()` or specify additional criteria (e.g. quarter, campaign, or sector) to limit your search.\n",
      "  warnings.warn(\n",
      "/home/idies/miniconda3/envs/py38/lib/python3.8/site-packages/lightkurve/search.py:346: LightkurveWarning: Warning: 24 files available to download. Only the first file has been downloaded. Please use `download_all()` or specify additional criteria (e.g. quarter, campaign, or sector) to limit your search.\n",
      "  warnings.warn(\n",
      "/home/idies/miniconda3/envs/py38/lib/python3.8/site-packages/lightkurve/search.py:346: LightkurveWarning: Warning: 33 files available to download. Only the first file has been downloaded. Please use `download_all()` or specify additional criteria (e.g. quarter, campaign, or sector) to limit your search.\n",
      "  warnings.warn(\n",
      "/home/idies/miniconda3/envs/py38/lib/python3.8/site-packages/lightkurve/search.py:346: LightkurveWarning: Warning: 2 files available to download. Only the first file has been downloaded. Please use `download_all()` or specify additional criteria (e.g. quarter, campaign, or sector) to limit your search.\n",
      "  warnings.warn(\n",
      "/home/idies/miniconda3/envs/py38/lib/python3.8/site-packages/lightkurve/search.py:346: LightkurveWarning: Warning: 31 files available to download. Only the first file has been downloaded. Please use `download_all()` or specify additional criteria (e.g. quarter, campaign, or sector) to limit your search.\n",
      "  warnings.warn(\n",
      "/home/idies/miniconda3/envs/py38/lib/python3.8/site-packages/lightkurve/search.py:346: LightkurveWarning: Warning: 3 files available to download. Only the first file has been downloaded. Please use `download_all()` or specify additional criteria (e.g. quarter, campaign, or sector) to limit your search.\n",
      "  warnings.warn(\n",
      "/home/idies/miniconda3/envs/py38/lib/python3.8/site-packages/lightkurve/search.py:346: LightkurveWarning: Warning: 3 files available to download. Only the first file has been downloaded. Please use `download_all()` or specify additional criteria (e.g. quarter, campaign, or sector) to limit your search.\n",
      "  warnings.warn(\n",
      "/home/idies/miniconda3/envs/py38/lib/python3.8/site-packages/lightkurve/search.py:346: LightkurveWarning: Warning: 2 files available to download. Only the first file has been downloaded. Please use `download_all()` or specify additional criteria (e.g. quarter, campaign, or sector) to limit your search.\n",
      "  warnings.warn(\n",
      "/home/idies/miniconda3/envs/py38/lib/python3.8/site-packages/lightkurve/search.py:346: LightkurveWarning: Warning: 3 files available to download. Only the first file has been downloaded. Please use `download_all()` or specify additional criteria (e.g. quarter, campaign, or sector) to limit your search.\n",
      "  warnings.warn(\n",
      "/home/idies/miniconda3/envs/py38/lib/python3.8/site-packages/lightkurve/search.py:346: LightkurveWarning: Warning: 2 files available to download. Only the first file has been downloaded. Please use `download_all()` or specify additional criteria (e.g. quarter, campaign, or sector) to limit your search.\n",
      "  warnings.warn(\n",
      "/home/idies/miniconda3/envs/py38/lib/python3.8/site-packages/lightkurve/search.py:346: LightkurveWarning: Warning: 3 files available to download. Only the first file has been downloaded. Please use `download_all()` or specify additional criteria (e.g. quarter, campaign, or sector) to limit your search.\n",
      "  warnings.warn(\n",
      "/home/idies/miniconda3/envs/py38/lib/python3.8/site-packages/lightkurve/search.py:346: LightkurveWarning: Warning: 2 files available to download. Only the first file has been downloaded. Please use `download_all()` or specify additional criteria (e.g. quarter, campaign, or sector) to limit your search.\n",
      "  warnings.warn(\n",
      "/home/idies/miniconda3/envs/py38/lib/python3.8/site-packages/lightkurve/search.py:346: LightkurveWarning: Warning: 3 files available to download. Only the first file has been downloaded. Please use `download_all()` or specify additional criteria (e.g. quarter, campaign, or sector) to limit your search.\n",
      "  warnings.warn(\n",
      "/home/idies/miniconda3/envs/py38/lib/python3.8/site-packages/lightkurve/search.py:346: LightkurveWarning: Warning: 33 files available to download. Only the first file has been downloaded. Please use `download_all()` or specify additional criteria (e.g. quarter, campaign, or sector) to limit your search.\n",
      "  warnings.warn(\n",
      "/home/idies/miniconda3/envs/py38/lib/python3.8/site-packages/lightkurve/search.py:346: LightkurveWarning: Warning: 3 files available to download. Only the first file has been downloaded. Please use `download_all()` or specify additional criteria (e.g. quarter, campaign, or sector) to limit your search.\n",
      "  warnings.warn(\n",
      "/home/idies/miniconda3/envs/py38/lib/python3.8/site-packages/lightkurve/search.py:346: LightkurveWarning: Warning: 23 files available to download. Only the first file has been downloaded. Please use `download_all()` or specify additional criteria (e.g. quarter, campaign, or sector) to limit your search.\n",
      "  warnings.warn(\n",
      "/home/idies/miniconda3/envs/py38/lib/python3.8/site-packages/lightkurve/search.py:346: LightkurveWarning: Warning: 6 files available to download. Only the first file has been downloaded. Please use `download_all()` or specify additional criteria (e.g. quarter, campaign, or sector) to limit your search.\n",
      "  warnings.warn(\n",
      "/home/idies/miniconda3/envs/py38/lib/python3.8/site-packages/lightkurve/search.py:346: LightkurveWarning: Warning: 6 files available to download. Only the first file has been downloaded. Please use `download_all()` or specify additional criteria (e.g. quarter, campaign, or sector) to limit your search.\n",
      "  warnings.warn(\n",
      "/home/idies/miniconda3/envs/py38/lib/python3.8/site-packages/lightkurve/search.py:346: LightkurveWarning: Warning: 21 files available to download. Only the first file has been downloaded. Please use `download_all()` or specify additional criteria (e.g. quarter, campaign, or sector) to limit your search.\n",
      "  warnings.warn(\n",
      "/home/idies/miniconda3/envs/py38/lib/python3.8/site-packages/lightkurve/search.py:346: LightkurveWarning: Warning: 4 files available to download. Only the first file has been downloaded. Please use `download_all()` or specify additional criteria (e.g. quarter, campaign, or sector) to limit your search.\n",
      "  warnings.warn(\n",
      "/home/idies/miniconda3/envs/py38/lib/python3.8/site-packages/lightkurve/search.py:346: LightkurveWarning: Warning: 4 files available to download. Only the first file has been downloaded. Please use `download_all()` or specify additional criteria (e.g. quarter, campaign, or sector) to limit your search.\n",
      "  warnings.warn(\n",
      "/home/idies/miniconda3/envs/py38/lib/python3.8/site-packages/lightkurve/search.py:346: LightkurveWarning: Warning: 2 files available to download. Only the first file has been downloaded. Please use `download_all()` or specify additional criteria (e.g. quarter, campaign, or sector) to limit your search.\n",
      "  warnings.warn(\n",
      "/home/idies/miniconda3/envs/py38/lib/python3.8/site-packages/lightkurve/search.py:346: LightkurveWarning: Warning: 4 files available to download. Only the first file has been downloaded. Please use `download_all()` or specify additional criteria (e.g. quarter, campaign, or sector) to limit your search.\n",
      "  warnings.warn(\n",
      "/home/idies/miniconda3/envs/py38/lib/python3.8/site-packages/lightkurve/search.py:346: LightkurveWarning: Warning: 3 files available to download. Only the first file has been downloaded. Please use `download_all()` or specify additional criteria (e.g. quarter, campaign, or sector) to limit your search.\n",
      "  warnings.warn(\n",
      "/home/idies/miniconda3/envs/py38/lib/python3.8/site-packages/lightkurve/search.py:346: LightkurveWarning: Warning: 2 files available to download. Only the first file has been downloaded. Please use `download_all()` or specify additional criteria (e.g. quarter, campaign, or sector) to limit your search.\n",
      "  warnings.warn(\n",
      "/home/idies/miniconda3/envs/py38/lib/python3.8/site-packages/lightkurve/search.py:346: LightkurveWarning: Warning: 4 files available to download. Only the first file has been downloaded. Please use `download_all()` or specify additional criteria (e.g. quarter, campaign, or sector) to limit your search.\n",
      "  warnings.warn(\n",
      "/home/idies/miniconda3/envs/py38/lib/python3.8/site-packages/lightkurve/search.py:346: LightkurveWarning: Warning: 2 files available to download. Only the first file has been downloaded. Please use `download_all()` or specify additional criteria (e.g. quarter, campaign, or sector) to limit your search.\n",
      "  warnings.warn(\n",
      "/home/idies/miniconda3/envs/py38/lib/python3.8/site-packages/lightkurve/search.py:346: LightkurveWarning: Warning: 2 files available to download. Only the first file has been downloaded. Please use `download_all()` or specify additional criteria (e.g. quarter, campaign, or sector) to limit your search.\n",
      "  warnings.warn(\n",
      "/home/idies/miniconda3/envs/py38/lib/python3.8/site-packages/lightkurve/search.py:346: LightkurveWarning: Warning: 13 files available to download. Only the first file has been downloaded. Please use `download_all()` or specify additional criteria (e.g. quarter, campaign, or sector) to limit your search.\n",
      "  warnings.warn(\n",
      "/home/idies/miniconda3/envs/py38/lib/python3.8/site-packages/lightkurve/search.py:346: LightkurveWarning: Warning: 9 files available to download. Only the first file has been downloaded. Please use `download_all()` or specify additional criteria (e.g. quarter, campaign, or sector) to limit your search.\n",
      "  warnings.warn(\n",
      "/home/idies/miniconda3/envs/py38/lib/python3.8/site-packages/lightkurve/search.py:346: LightkurveWarning: Warning: 5 files available to download. Only the first file has been downloaded. Please use `download_all()` or specify additional criteria (e.g. quarter, campaign, or sector) to limit your search.\n",
      "  warnings.warn(\n",
      "/home/idies/miniconda3/envs/py38/lib/python3.8/site-packages/lightkurve/search.py:346: LightkurveWarning: Warning: 6 files available to download. Only the first file has been downloaded. Please use `download_all()` or specify additional criteria (e.g. quarter, campaign, or sector) to limit your search.\n",
      "  warnings.warn(\n",
      "/home/idies/miniconda3/envs/py38/lib/python3.8/site-packages/lightkurve/search.py:346: LightkurveWarning: Warning: 5 files available to download. Only the first file has been downloaded. Please use `download_all()` or specify additional criteria (e.g. quarter, campaign, or sector) to limit your search.\n",
      "  warnings.warn(\n",
      "/home/idies/miniconda3/envs/py38/lib/python3.8/site-packages/lightkurve/search.py:346: LightkurveWarning: Warning: 4 files available to download. Only the first file has been downloaded. Please use `download_all()` or specify additional criteria (e.g. quarter, campaign, or sector) to limit your search.\n",
      "  warnings.warn(\n",
      "/home/idies/miniconda3/envs/py38/lib/python3.8/site-packages/lightkurve/search.py:346: LightkurveWarning: Warning: 6 files available to download. Only the first file has been downloaded. Please use `download_all()` or specify additional criteria (e.g. quarter, campaign, or sector) to limit your search.\n",
      "  warnings.warn(\n",
      "/home/idies/miniconda3/envs/py38/lib/python3.8/site-packages/lightkurve/search.py:346: LightkurveWarning: Warning: 3 files available to download. Only the first file has been downloaded. Please use `download_all()` or specify additional criteria (e.g. quarter, campaign, or sector) to limit your search.\n",
      "  warnings.warn(\n",
      "/home/idies/miniconda3/envs/py38/lib/python3.8/site-packages/lightkurve/search.py:346: LightkurveWarning: Warning: 2 files available to download. Only the first file has been downloaded. Please use `download_all()` or specify additional criteria (e.g. quarter, campaign, or sector) to limit your search.\n",
      "  warnings.warn(\n",
      "/home/idies/miniconda3/envs/py38/lib/python3.8/site-packages/lightkurve/search.py:346: LightkurveWarning: Warning: 6 files available to download. Only the first file has been downloaded. Please use `download_all()` or specify additional criteria (e.g. quarter, campaign, or sector) to limit your search.\n",
      "  warnings.warn(\n",
      "/home/idies/miniconda3/envs/py38/lib/python3.8/site-packages/lightkurve/search.py:346: LightkurveWarning: Warning: 13 files available to download. Only the first file has been downloaded. Please use `download_all()` or specify additional criteria (e.g. quarter, campaign, or sector) to limit your search.\n",
      "  warnings.warn(\n",
      "/home/idies/miniconda3/envs/py38/lib/python3.8/site-packages/lightkurve/search.py:346: LightkurveWarning: Warning: 2 files available to download. Only the first file has been downloaded. Please use `download_all()` or specify additional criteria (e.g. quarter, campaign, or sector) to limit your search.\n",
      "  warnings.warn(\n",
      "/home/idies/miniconda3/envs/py38/lib/python3.8/site-packages/lightkurve/search.py:346: LightkurveWarning: Warning: 3 files available to download. Only the first file has been downloaded. Please use `download_all()` or specify additional criteria (e.g. quarter, campaign, or sector) to limit your search.\n",
      "  warnings.warn(\n",
      "/home/idies/miniconda3/envs/py38/lib/python3.8/site-packages/lightkurve/search.py:346: LightkurveWarning: Warning: 5 files available to download. Only the first file has been downloaded. Please use `download_all()` or specify additional criteria (e.g. quarter, campaign, or sector) to limit your search.\n",
      "  warnings.warn(\n",
      "/home/idies/miniconda3/envs/py38/lib/python3.8/site-packages/lightkurve/search.py:346: LightkurveWarning: Warning: 3 files available to download. Only the first file has been downloaded. Please use `download_all()` or specify additional criteria (e.g. quarter, campaign, or sector) to limit your search.\n",
      "  warnings.warn(\n",
      "/home/idies/miniconda3/envs/py38/lib/python3.8/site-packages/lightkurve/search.py:346: LightkurveWarning: Warning: 24 files available to download. Only the first file has been downloaded. Please use `download_all()` or specify additional criteria (e.g. quarter, campaign, or sector) to limit your search.\n",
      "  warnings.warn(\n",
      "/home/idies/miniconda3/envs/py38/lib/python3.8/site-packages/lightkurve/search.py:346: LightkurveWarning: Warning: 6 files available to download. Only the first file has been downloaded. Please use `download_all()` or specify additional criteria (e.g. quarter, campaign, or sector) to limit your search.\n",
      "  warnings.warn(\n",
      "/home/idies/miniconda3/envs/py38/lib/python3.8/site-packages/lightkurve/search.py:346: LightkurveWarning: Warning: 20 files available to download. Only the first file has been downloaded. Please use `download_all()` or specify additional criteria (e.g. quarter, campaign, or sector) to limit your search.\n",
      "  warnings.warn(\n",
      "/home/idies/miniconda3/envs/py38/lib/python3.8/site-packages/lightkurve/search.py:346: LightkurveWarning: Warning: 23 files available to download. Only the first file has been downloaded. Please use `download_all()` or specify additional criteria (e.g. quarter, campaign, or sector) to limit your search.\n",
      "  warnings.warn(\n",
      "/home/idies/miniconda3/envs/py38/lib/python3.8/site-packages/lightkurve/search.py:346: LightkurveWarning: Warning: 3 files available to download. Only the first file has been downloaded. Please use `download_all()` or specify additional criteria (e.g. quarter, campaign, or sector) to limit your search.\n",
      "  warnings.warn(\n",
      "/home/idies/miniconda3/envs/py38/lib/python3.8/site-packages/lightkurve/search.py:346: LightkurveWarning: Warning: 6 files available to download. Only the first file has been downloaded. Please use `download_all()` or specify additional criteria (e.g. quarter, campaign, or sector) to limit your search.\n",
      "  warnings.warn(\n",
      "/home/idies/miniconda3/envs/py38/lib/python3.8/site-packages/lightkurve/search.py:346: LightkurveWarning: Warning: 36 files available to download. Only the first file has been downloaded. Please use `download_all()` or specify additional criteria (e.g. quarter, campaign, or sector) to limit your search.\n",
      "  warnings.warn(\n",
      "/home/idies/miniconda3/envs/py38/lib/python3.8/site-packages/lightkurve/search.py:346: LightkurveWarning: Warning: 2 files available to download. Only the first file has been downloaded. Please use `download_all()` or specify additional criteria (e.g. quarter, campaign, or sector) to limit your search.\n",
      "  warnings.warn(\n",
      "/home/idies/miniconda3/envs/py38/lib/python3.8/site-packages/lightkurve/search.py:346: LightkurveWarning: Warning: 15 files available to download. Only the first file has been downloaded. Please use `download_all()` or specify additional criteria (e.g. quarter, campaign, or sector) to limit your search.\n",
      "  warnings.warn(\n",
      "/home/idies/miniconda3/envs/py38/lib/python3.8/site-packages/lightkurve/search.py:346: LightkurveWarning: Warning: 2 files available to download. Only the first file has been downloaded. Please use `download_all()` or specify additional criteria (e.g. quarter, campaign, or sector) to limit your search.\n",
      "  warnings.warn(\n",
      "/home/idies/miniconda3/envs/py38/lib/python3.8/site-packages/lightkurve/search.py:346: LightkurveWarning: Warning: 2 files available to download. Only the first file has been downloaded. Please use `download_all()` or specify additional criteria (e.g. quarter, campaign, or sector) to limit your search.\n",
      "  warnings.warn(\n",
      "/home/idies/miniconda3/envs/py38/lib/python3.8/site-packages/lightkurve/search.py:346: LightkurveWarning: Warning: 36 files available to download. Only the first file has been downloaded. Please use `download_all()` or specify additional criteria (e.g. quarter, campaign, or sector) to limit your search.\n",
      "  warnings.warn(\n",
      "/home/idies/miniconda3/envs/py38/lib/python3.8/site-packages/lightkurve/search.py:346: LightkurveWarning: Warning: 34 files available to download. Only the first file has been downloaded. Please use `download_all()` or specify additional criteria (e.g. quarter, campaign, or sector) to limit your search.\n",
      "  warnings.warn(\n",
      "/home/idies/miniconda3/envs/py38/lib/python3.8/site-packages/lightkurve/search.py:346: LightkurveWarning: Warning: 2 files available to download. Only the first file has been downloaded. Please use `download_all()` or specify additional criteria (e.g. quarter, campaign, or sector) to limit your search.\n",
      "  warnings.warn(\n",
      "/home/idies/miniconda3/envs/py38/lib/python3.8/site-packages/lightkurve/search.py:346: LightkurveWarning: Warning: 4 files available to download. Only the first file has been downloaded. Please use `download_all()` or specify additional criteria (e.g. quarter, campaign, or sector) to limit your search.\n",
      "  warnings.warn(\n",
      "/home/idies/miniconda3/envs/py38/lib/python3.8/site-packages/lightkurve/search.py:346: LightkurveWarning: Warning: 4 files available to download. Only the first file has been downloaded. Please use `download_all()` or specify additional criteria (e.g. quarter, campaign, or sector) to limit your search.\n",
      "  warnings.warn(\n",
      "/home/idies/miniconda3/envs/py38/lib/python3.8/site-packages/lightkurve/search.py:346: LightkurveWarning: Warning: 34 files available to download. Only the first file has been downloaded. Please use `download_all()` or specify additional criteria (e.g. quarter, campaign, or sector) to limit your search.\n",
      "  warnings.warn(\n",
      "/home/idies/miniconda3/envs/py38/lib/python3.8/site-packages/lightkurve/search.py:346: LightkurveWarning: Warning: 18 files available to download. Only the first file has been downloaded. Please use `download_all()` or specify additional criteria (e.g. quarter, campaign, or sector) to limit your search.\n",
      "  warnings.warn(\n",
      "/home/idies/miniconda3/envs/py38/lib/python3.8/site-packages/lightkurve/search.py:346: LightkurveWarning: Warning: 4 files available to download. Only the first file has been downloaded. Please use `download_all()` or specify additional criteria (e.g. quarter, campaign, or sector) to limit your search.\n",
      "  warnings.warn(\n",
      "/home/idies/miniconda3/envs/py38/lib/python3.8/site-packages/lightkurve/search.py:346: LightkurveWarning: Warning: 2 files available to download. Only the first file has been downloaded. Please use `download_all()` or specify additional criteria (e.g. quarter, campaign, or sector) to limit your search.\n",
      "  warnings.warn(\n",
      "/home/idies/miniconda3/envs/py38/lib/python3.8/site-packages/lightkurve/search.py:346: LightkurveWarning: Warning: 5 files available to download. Only the first file has been downloaded. Please use `download_all()` or specify additional criteria (e.g. quarter, campaign, or sector) to limit your search.\n",
      "  warnings.warn(\n"
     ]
    },
    {
     "name": "stdout",
     "output_type": "stream",
     "text": [
      "761.85547\n",
      "9689.766\n"
     ]
    }
   ],
   "source": [
    "delta_f_non_conv = []\n",
    "avg_flux_non_conv = []\n",
    "std_non_conv = []\n",
    "median_non_conv = []\n",
    "tic_non_conv = [str(x) for x in tic_non_conv]\n",
    "\n",
    "for i in tic_non_conv:\n",
    "\n",
    "    TIC = i # Input TIC\n",
    "\n",
    "    # Search for the lightkurve\n",
    "\n",
    "    search_result = lk.search_lightcurve('TIC ' + TIC, mission='TESS',author='SPOC')\n",
    "\n",
    "    # Download all available TESS lightcurves (i.e. from different sectors)\n",
    "    lc = search_result.download()\n",
    "\n",
    "    # Combine the different lightkurves\n",
    "\n",
    "    #lc = lc_collection.stitch()\n",
    "\n",
    "    # Normalize the lightcurve\n",
    "\n",
    "    lc = lc.normalize()\n",
    "\n",
    "    # Get out a flux and time array\n",
    "\n",
    "    timeArray = lc['time'].value # these are numpy arrays\n",
    "    fluxArray = lc['sap_flux'].value\n",
    "    fluxArray = fluxArray[np.logical_not(np.isnan(fluxArray))]\n",
    "    \n",
    "    # Filter out the last 450 data points to avoid running into flares and other irregularities\n",
    "\n",
    "    #timeArray = timeArray[-250:-50:]\n",
    "    #fluxArray = fluxArray[-250:-50:]\n",
    "    \n",
    "    std = np.std(fluxArray)\n",
    "    mean = np.average(fluxArray)\n",
    "    median = np.median(fluxArray)\n",
    "    \n",
    "    flux = np.array(fluxArray)\n",
    "    index_to_remove = [np.where((flux >= mean + 3 * std) & (flux <= mean - 3* std))][0]        ## Removing all points that lie outside of 3 sigma\n",
    "    \n",
    "    timeArray = np.delete(timeArray, index_to_remove[0])\n",
    "    fluxArray = np.delete(fluxArray, index_to_remove[0])\n",
    "   \n",
    "\n",
    "    # Get the average, min and max values\n",
    "\n",
    "    fluxMin = np.min(fluxArray)\n",
    "    fluxMax = np.max(fluxArray)\n",
    "    fluxWidth = fluxMax - fluxMin\n",
    "    fluxAvg = np.average(fluxArray)\n",
    "    \n",
    "    # Append to the list that has data for all stars\n",
    "    \n",
    "    delta_f_non_conv.append(fluxWidth)\n",
    "    avg_flux_non_conv.append(fluxAvg)\n",
    "    std_non_conv.append(std)\n",
    "    median_non_conv.append(median)\n",
    "\n",
    "print(fluxWidth)\n",
    "print(fluxAvg)"
   ]
  },
  {
   "cell_type": "code",
   "execution_count": 62,
   "metadata": {},
   "outputs": [
    {
     "data": {
      "image/png": "[encoded data removed]",
      "text/plain": [
       "<Figure size 432x288 with 1 Axes>"
      ]
     },
     "metadata": {
      "needs_background": "light"
     },
     "output_type": "display_data"
    }
   ],
   "source": [
    "ratio_non_conv = [x / y for x,y in zip(std_non_conv, median_non_conv)]    ## Standard deviation / median ratio\n",
    "plt.plot(tmag_non_conv, ratio_non_conv, '.')\n",
    "plt.xlabel('TESS Magnitude')\n",
    "plt.ylabel('Fractional Variation (std dev / median)')\n",
    "plt.yscale(\"log\")"
   ]
  },
  {
   "cell_type": "code",
   "execution_count": 63,
   "metadata": {},
   "outputs": [
    {
     "name": "stdout",
     "output_type": "stream",
     "text": [
      "20404.266\n"
     ]
    }
   ],
   "source": [
    "print(np.max(delta_f_non_conv))"
   ]
  },
  {
   "cell_type": "code",
   "execution_count": 64,
   "metadata": {},
   "outputs": [
    {
     "data": {
      "text/plain": [
       "56"
      ]
     },
     "execution_count": 64,
     "metadata": {},
     "output_type": "execute_result"
    }
   ],
   "source": [
    "delta_f_non_conv.index(np.max(delta_f_non_conv))"
   ]
  },
  {
   "cell_type": "code",
   "execution_count": 65,
   "metadata": {},
   "outputs": [
    {
     "data": {
      "text/plain": [
       "20404.266"
      ]
     },
     "execution_count": 65,
     "metadata": {},
     "output_type": "execute_result"
    }
   ],
   "source": [
    "delta_f_non_conv[56]"
   ]
  },
  {
   "cell_type": "code",
   "execution_count": 66,
   "metadata": {},
   "outputs": [
    {
     "data": {
      "text/plain": [
       "'262039241'"
      ]
     },
     "execution_count": 66,
     "metadata": {},
     "output_type": "execute_result"
    }
   ],
   "source": [
    "tic_non_conv[56]"
   ]
  },
  {
   "cell_type": "markdown",
   "metadata": {},
   "source": [
    "### Both fractional variance plots together"
   ]
  },
  {
   "cell_type": "code",
   "execution_count": 67,
   "metadata": {},
   "outputs": [
    {
     "data": {
      "image/png": "[encoded data removed]",
      "text/plain": [
       "<Figure size 432x288 with 1 Axes>"
      ]
     },
     "metadata": {
      "needs_background": "light"
     },
     "output_type": "display_data"
    }
   ],
   "source": [
    "x = np.linspace(7, 17, 100)\n",
    "y = 1.3743 * 10 ** (-7) * 2.23149 ** (x)\n",
    "\n",
    "plt.plot(tmag_conv, ratio_conv, '.')                       ## Blue\n",
    "plt.plot(tmag_non_conv, ratio_non_conv, '.')               ## Orange\n",
    "plt.plot(x,y)\n",
    "plt.xlabel('TESS Magnitude')\n",
    "plt.ylabel('Fractional Variation (std dev / median)')\n",
    "plt.yscale(\"log\")"
   ]
  },
  {
   "cell_type": "code",
   "execution_count": 68,
   "metadata": {},
   "outputs": [
    {
     "name": "stdout",
     "output_type": "stream",
     "text": [
      "373\n",
      "82\n"
     ]
    }
   ],
   "source": [
    "delta_conv = []\n",
    "delta_non_conv = []\n",
    "\n",
    "def frac_var (tmag, ratio):\n",
    "    \n",
    "    y = 1.3743 * 10 ** (-7) * np.power(2.23149, tmag)\n",
    "    delta = np.power(np.abs(np.power(y, 2) - np.power(ratio, 2)), .5)            ## Delta = sqrt (|curve ^2 - datapoint ^ 2|)\n",
    "    return delta\n",
    "\n",
    "for (i,j) in zip(tmag_conv, ratio_conv):\n",
    "    k = frac_var(tmag_conv, ratio_conv)\n",
    "    delta_conv.append(k)\n",
    "    \n",
    "for (i,j) in zip(tmag_non_conv, ratio_non_conv):\n",
    "    k = frac_var(tmag_non_conv, ratio_non_conv)\n",
    "    delta_non_conv.append(k)\n",
    "\n",
    "delta_conv = delta_conv[1]\n",
    "delta_non_conv = delta_non_conv[1]\n",
    "print(len(delta_conv))\n",
    "print(len(delta_non_conv))"
   ]
  },
  {
   "cell_type": "code",
   "execution_count": 69,
   "metadata": {},
   "outputs": [
    {
     "name": "stdout",
     "output_type": "stream",
     "text": [
      "KstestResult(statistic=0.1047538089321912, pvalue=0.4187969521656486)\n"
     ]
    },
    {
     "data": {
      "image/png": "[encoded data removed]",
      "text/plain": [
       "<Figure size 432x288 with 1 Axes>"
      ]
     },
     "metadata": {
      "needs_background": "light"
     },
     "output_type": "display_data"
    }
   ],
   "source": [
    "plot_cdf(delta_conv)          ## Blue\n",
    "plot_cdf(delta_non_conv)      ## Orange\n",
    "plt.xlabel('Fractional Variation')\n",
    "plt.ylabel('CDF')\n",
    "\n",
    "## 2 value KS TEST\n",
    "#print(delta_conv)\n",
    "print(sc.stats.ks_2samp(delta_conv, delta_non_conv))"
   ]
  },
  {
   "cell_type": "code",
   "execution_count": 70,
   "metadata": {},
   "outputs": [
    {
     "name": "stdout",
     "output_type": "stream",
     "text": [
      "373\n",
      "82\n"
     ]
    }
   ],
   "source": [
    "## Spot Filling Factor\n",
    "\n",
    "spotff_conv = [x / y * 100 for x,y in zip(delta_conv, median_conv)]\n",
    "print(len(spotff_conv))\n",
    "spotff_non_conv = [x / y * 100 for x,y in zip(delta_non_conv, median_non_conv)]\n",
    "print(len(spotff_non_conv))"
   ]
  },
  {
   "cell_type": "code",
   "execution_count": 71,
   "metadata": {},
   "outputs": [
    {
     "name": "stdout",
     "output_type": "stream",
     "text": [
      "KstestResult(statistic=0.5367815340351795, pvalue=1.4057414097785708e-18)\n"
     ]
    },
    {
     "data": {
      "image/png": "[encoded data removed]",
      "text/plain": [
       "<Figure size 432x288 with 1 Axes>"
      ]
     },
     "metadata": {
      "needs_background": "light"
     },
     "output_type": "display_data"
    }
   ],
   "source": [
    "plot_cdf(spotff_conv)          ## Blue\n",
    "plot_cdf(spotff_non_conv)      ## Orange\n",
    "plt.xlabel('Spot Filling Factor')\n",
    "plt.ylabel('CDF')\n",
    "\n",
    "## 2 value KS TEST for spot filling factor\n",
    "\n",
    "print(sc.stats.ks_2samp(spotff_conv, spotff_non_conv))"
   ]
  },
  {
   "cell_type": "markdown",
   "metadata": {},
   "source": [
    "### Sliding the mass that separates Fully Convective and Partially Convective stars"
   ]
  },
  {
   "cell_type": "code",
   "execution_count": 97,
   "metadata": {},
   "outputs": [
    {
     "name": "stdout",
     "output_type": "stream",
     "text": [
      "41\n",
      "41\n"
     ]
    }
   ],
   "source": [
    "ks_stat = []\n",
    "ks_p = []\n",
    "\n",
    "ks_FracVar_stat = []\n",
    "ks_FracVar_p = []\n",
    "\n",
    "mass_slider = np.linspace(0.2, 0.5, 41)\n",
    "\n",
    "for i in mass_slider:\n",
    "    \n",
    "    mass_array = np.array(mass)\n",
    "    \n",
    "    index_to_remove = [np.where(mass_array >= i)][0]              ## Fully convective stars\n",
    "    new_tic_conv = np.delete(tic, index_to_remove[0])\n",
    "    new_lum_conv = np.delete(lum, index_to_remove[0])\n",
    "    new_teff_conv = np.delete(teff, index_to_remove[0])\n",
    "    new_r_conv = np.delete(r, index_to_remove[0])\n",
    "    new_ebol_conv = np.delete(ebol, index_to_remove[0])\n",
    "    new_amp_conv = np.delete(amp, index_to_remove[0])\n",
    "    new_prot_conv = np.delete(prot, index_to_remove[0])\n",
    "    new_mass_conv = np.delete(mass, index_to_remove[0])\n",
    "    new_rossby_no_conv = np.delete(rossby_no, index_to_remove[0])\n",
    "    new_tmag_conv = np.delete(tmag, index_to_remove[0])\n",
    "    \n",
    "    index_to_remove = [np.where(mass_array < i)][0]               ## Partially Convective\n",
    "    new_tic_non_conv = np.delete(tic, index_to_remove[0])\n",
    "    new_lum_non_conv = np.delete(lum, index_to_remove[0])\n",
    "    new_teff_non_conv = np.delete(teff, index_to_remove[0])\n",
    "    new_r_non_conv = np.delete(r, index_to_remove[0])\n",
    "    new_ebol_non_conv = np.delete(ebol, index_to_remove[0])\n",
    "    new_amp_non_conv = np.delete(amp, index_to_remove[0])\n",
    "    new_prot_non_conv = np.delete(prot, index_to_remove[0])\n",
    "    new_mass_non_conv = np.delete(mass, index_to_remove[0])\n",
    "    new_rossby_no_non_conv = np.delete(rossby_no, index_to_remove[0])\n",
    "    new_tmag_non_conv = np.delete(tmag, index_to_remove[0])\n",
    "    \n",
    "    new_flare_eng_conv = [x**2 for x in new_amp_conv]\n",
    "    new_flare_eng_non_conv = [x**2 for x in new_amp_non_conv]\n",
    "    \n",
    "    new_tess_conv_array = np.array(new_tmag_conv)\n",
    "    index_to_remove = [np.where((new_tess_conv_array <= 11) | (new_tess_conv_array >= 13.2))][0]\n",
    "\n",
    "    new_tmag_conv = np.delete(new_tmag_conv, index_to_remove[0])\n",
    "    new_flare_eng_conv = np.delete(new_flare_eng_conv, index_to_remove[0])\n",
    "    \n",
    "    new_tess_non_conv_array = np.array(new_tmag_non_conv)\n",
    "    index_to_remove = [np.where((new_tess_non_conv_array <= 11) | (new_tess_non_conv_array >= 13.2))][0]\n",
    "\n",
    "    new_tmag_non_conv = np.delete(new_tmag_non_conv, index_to_remove[0])\n",
    "    new_flare_eng_non_conv = np.delete(new_flare_eng_non_conv, index_to_remove[0])\n",
    "    \n",
    "    ksStat = sc.stats.ks_2samp(new_flare_eng_conv, new_flare_eng_non_conv)[0]\n",
    "    ksP = sc.stats.ks_2samp(new_flare_eng_conv, new_flare_eng_non_conv)[1]\n",
    "    \n",
    "    ks_stat.append(ksStat)\n",
    "    ks_p.append(ksP)\n",
    "    \n",
    "    \n",
    "print(len(ks_p))\n",
    "print(len(ks_stat))\n"
   ]
  },
  {
   "cell_type": "code",
   "execution_count": 98,
   "metadata": {},
   "outputs": [
    {
     "name": "stdout",
     "output_type": "stream",
     "text": [
      "[0.10171529322728323, 0.059333033863817275, 0.22439441902560497, 0.3302087773474627, 0.15816961539297603, 0.04935699036166685, 0.026844040299662808, 0.006208010107692452, 0.015933350607425067, 0.00047292049574376716, 0.00015406852281374395, 8.108256553684967e-05, 1.0619297935332561e-05, 1.3286762114317341e-05, 5.878908370227087e-06, 2.9189735981649534e-06, 1.9807383274672574e-06, 9.594936556389655e-08, 1.3025560762214283e-06, 9.097904429822279e-09, 9.801430334022143e-09, 7.42254147034771e-10, 3.493327849213301e-11, 1.606292876488169e-11, 6.139996289178384e-10, 8.103795412495174e-11, 1.7428439802458229e-09, 4.1093084490739784e-10, 1.5890828652942446e-09, 6.736706081866828e-09, 2.883264549335962e-08, 7.396660772762687e-08, 1.3256493136548642e-07, 1.3256493136548642e-07, 1.3406836906204589e-06, 5.290399981383587e-05, 1.5784721858480566e-06, 1.5784721858480566e-06, 5.161459128544266e-06, 0.00017699293841977326, 0.00017699293841977326]\n",
      "\n",
      "[0.23325670498084292, 0.24380630630630631, 0.17138364779874213, 0.14490196078431372, 0.1671082686158063, 0.1954472097171494, 0.20024420024420025, 0.22450581602797404, 0.20210409745293467, 0.26050976497848394, 0.27345206712531345, 0.28005050505050505, 0.3044776119402985, 0.3002232142857143, 0.3124687656171914, 0.32347892427999236, 0.3294871794871795, 0.36771948256615666, 0.34205582393988193, 0.40569294722750654, 0.40733604510097765, 0.443993993993994, 0.47871931039790655, 0.5046954209257875, 0.48047149894440533, 0.5072150072150072, 0.4974614235938278, 0.5255016722408027, 0.5369158878504673, 0.5400101936799184, 0.5461711711711712, 0.5455357142857142, 0.5779912663755459, 0.5779912663755459, 0.5576886881234707, 0.5492678083891784, 0.6613668061366806, 0.6613668061366806, 0.6535714285714286, 0.6251402918069585, 0.6251402918069585]\n"
     ]
    }
   ],
   "source": [
    "print(ks_p)\n",
    "print('')\n",
    "print(ks_stat)"
   ]
  },
  {
   "cell_type": "code",
   "execution_count": 99,
   "metadata": {},
   "outputs": [
    {
     "data": {
      "text/plain": [
       "Text(0, 0.5, 'KS statistic ')"
      ]
     },
     "execution_count": 99,
     "metadata": {},
     "output_type": "execute_result"
    },
    {
     "data": {
      "image/png": "[encoded data removed]",
      "text/plain": [
       "<Figure size 432x288 with 1 Axes>"
      ]
     },
     "metadata": {
      "needs_background": "light"
     },
     "output_type": "display_data"
    }
   ],
   "source": [
    "plt.plot(mass_slider, ks_stat, '.')\n",
    "plt.xlabel('Mass cutoff')\n",
    "plt.ylabel('KS statistic ')"
   ]
  },
  {
   "cell_type": "code",
   "execution_count": 90,
   "metadata": {},
   "outputs": [
    {
     "data": {
      "text/plain": [
       "Text(0, 0.5, 'KS p-value ')"
      ]
     },
     "execution_count": 90,
     "metadata": {},
     "output_type": "execute_result"
    },
    {
     "data": {
      "image/png": "[encoded data removed]",
      "text/plain": [
       "<Figure size 432x288 with 1 Axes>"
      ]
     },
     "metadata": {
      "needs_background": "light"
     },
     "output_type": "display_data"
    }
   ],
   "source": [
    "plt.plot(mass_slider, ks_p, '.')\n",
    "plt.xlabel('Mass cutoff')\n",
    "plt.ylabel('KS p-value ')"
   ]
  },
  {
   "cell_type": "markdown",
   "metadata": {},
   "source": [
    "### Assuming M = 0.23 Msun as the cutoff"
   ]
  },
  {
   "cell_type": "code",
   "execution_count": 100,
   "metadata": {},
   "outputs": [],
   "source": [
    "mass_array = np.array(mass)\n",
    "    \n",
    "index_to_remove = [np.where(mass_array >= 0.23)][0]              ## Fully convective stars\n",
    "new_tic_conv = np.delete(tic, index_to_remove[0])\n",
    "new_lum_conv = np.delete(lum, index_to_remove[0])\n",
    "new_teff_conv = np.delete(teff, index_to_remove[0])\n",
    "new_r_conv = np.delete(r, index_to_remove[0])\n",
    "new_ebol_conv = np.delete(ebol, index_to_remove[0])\n",
    "new_amp_conv = np.delete(amp, index_to_remove[0])\n",
    "new_prot_conv = np.delete(prot, index_to_remove[0])\n",
    "new_mass_conv = np.delete(mass, index_to_remove[0])\n",
    "new_rossby_no_conv = np.delete(rossby_no, index_to_remove[0])\n",
    "new_tmag_conv = np.delete(tmag, index_to_remove[0])\n",
    "    \n",
    "index_to_remove = [np.where(mass_array < 0.23)][0]               ## Partially Convective\n",
    "new_tic_non_conv = np.delete(tic, index_to_remove[0])\n",
    "new_lum_non_conv = np.delete(lum, index_to_remove[0])\n",
    "new_teff_non_conv = np.delete(teff, index_to_remove[0])\n",
    "new_r_non_conv = np.delete(r, index_to_remove[0])\n",
    "new_ebol_non_conv = np.delete(ebol, index_to_remove[0])\n",
    "new_amp_non_conv = np.delete(amp, index_to_remove[0])\n",
    "new_prot_non_conv = np.delete(prot, index_to_remove[0])\n",
    "new_mass_non_conv = np.delete(mass, index_to_remove[0])\n",
    "new_rossby_no_non_conv = np.delete(rossby_no, index_to_remove[0])\n",
    "new_tmag_non_conv = np.delete(tmag, index_to_remove[0])\n",
    "    \n",
    "new_flare_eng_conv = [x**2 for x in new_amp_conv]\n",
    "new_flare_eng_non_conv = [x**2 for x in new_amp_non_conv]\n",
    "\n",
    "new_tess_conv_array = np.array(new_tmag_conv)\n",
    "index_to_remove = [np.where((new_tess_conv_array <= 11) | (new_tess_conv_array >= 13))][0]\n",
    "\n",
    "new_tmag_conv = np.delete(new_tmag_conv, index_to_remove[0])\n",
    "new_flare_eng_conv = np.delete(new_flare_eng_conv, index_to_remove[0])\n",
    "    \n",
    "new_tess_non_conv_array = np.array(new_tmag_non_conv)\n",
    "index_to_remove = [np.where((new_tess_non_conv_array <= 11) | (new_tess_non_conv_array >= 13))][0]\n",
    "\n",
    "new_tmag_non_conv = np.delete(new_tmag_non_conv, index_to_remove[0])\n",
    "new_flare_eng_non_conv = np.delete(new_flare_eng_non_conv, index_to_remove[0])"
   ]
  },
  {
   "cell_type": "code",
   "execution_count": 101,
   "metadata": {},
   "outputs": [
    {
     "data": {
      "text/plain": [
       "Text(0, 0.5, 'CDF')"
      ]
     },
     "execution_count": 101,
     "metadata": {},
     "output_type": "execute_result"
    },
    {
     "data": {
      "image/png": "[encoded data removed]",
      "text/plain": [
       "<Figure size 432x288 with 1 Axes>"
      ]
     },
     "metadata": {
      "needs_background": "light"
     },
     "output_type": "display_data"
    }
   ],
   "source": [
    "## using basic principles to plot cdf\n",
    "\n",
    "sorted_conv = np.sort(new_flare_eng_conv)\n",
    "sorted_non_conv = np.sort(new_flare_eng_non_conv)\n",
    "\n",
    "cdf_conv = np.arange(len(new_flare_eng_conv)) / (len(new_flare_eng_conv) - 1)\n",
    "cdf_non_conv = np.arange(len(new_flare_eng_non_conv)) / (len(new_flare_eng_non_conv) - 1)\n",
    "\n",
    "plt.plot(sorted_conv, cdf_conv)                ## Blue\n",
    "plt.plot(sorted_non_conv, cdf_non_conv)        ## Orange\n",
    "plt.xlabel('Relative Flare Energy')\n",
    "plt.ylabel('CDF')"
   ]
  },
  {
   "cell_type": "code",
   "execution_count": null,
   "metadata": {},
   "outputs": [],
   "source": []
  },
  {
   "cell_type": "markdown",
   "metadata": {},
   "source": [
    "## TESTING THINGS"
   ]
  },
  {
   "cell_type": "code",
   "execution_count": 76,
   "metadata": {},
   "outputs": [
    {
     "data": {
      "text/plain": [
       "['time',\n",
       " 'flux',\n",
       " 'flux_err',\n",
       " 'timecorr',\n",
       " 'cadenceno',\n",
       " 'centroid_col',\n",
       " 'centroid_row',\n",
       " 'sap_flux',\n",
       " 'sap_flux_err',\n",
       " 'sap_bkg',\n",
       " 'sap_bkg_err',\n",
       " 'pdcsap_flux',\n",
       " 'pdcsap_flux_err',\n",
       " 'quality',\n",
       " 'psf_centr1',\n",
       " 'psf_centr1_err',\n",
       " 'psf_centr2',\n",
       " 'psf_centr2_err',\n",
       " 'mom_centr1',\n",
       " 'mom_centr1_err',\n",
       " 'mom_centr2',\n",
       " 'mom_centr2_err',\n",
       " 'pos_corr1',\n",
       " 'pos_corr2']"
      ]
     },
     "execution_count": 76,
     "metadata": {},
     "output_type": "execute_result"
    }
   ],
   "source": [
    "lc.keys()"
   ]
  },
  {
   "cell_type": "code",
   "execution_count": 77,
   "metadata": {},
   "outputs": [
    {
     "name": "stderr",
     "output_type": "stream",
     "text": [
      "/home/idies/miniconda3/envs/py38/lib/python3.8/site-packages/lightkurve/search.py:346: LightkurveWarning: Warning: 28 files available to download. Only the first file has been downloaded. Please use `download_all()` or specify additional criteria (e.g. quarter, campaign, or sector) to limit your search.\n",
      "  warnings.warn(\n"
     ]
    },
    {
     "data": {
      "image/png": "[encoded data removed]",
      "text/plain": [
       "<Figure size 432x288 with 1 Axes>"
      ]
     },
     "metadata": {
      "needs_background": "light"
     },
     "output_type": "display_data"
    }
   ],
   "source": [
    "TIC = tic_non_conv[6] # Input TIC\n",
    "\n",
    "# Search for the lightkurve\n",
    "\n",
    "search_result = lk.search_lightcurve('TIC ' + TIC, mission='TESS',author='SPOC')\n",
    "\n",
    "# Download all available TESS lightcurves (i.e. from different sectors)\n",
    "lc = search_result.download()\n",
    "\n",
    "# Combine the different lightkurves\n",
    "\n",
    "#lc = lc_collection.stitch()\n",
    "\n",
    "# Normalize the lightcurve\n",
    "\n",
    "lc = lc.normalize()\n",
    "\n",
    "# Get out a flux and time array\n",
    "\n",
    "timeArray = lc['time'].value # these are numpy arrays\n",
    "fluxArray = lc['sap_flux'].value\n",
    "\n",
    "\n",
    "#timeArray = timeArray[-5000:-50:]\n",
    "#fluxArray = fluxArray[-5000:-50:]\n",
    "# Get the min and max values\n",
    "\n",
    "fluxMin = np.min(fluxArray)\n",
    "fluxMax = np.max(fluxArray)\n",
    "fluxWidth = fluxMax - fluxMin\n",
    "\n",
    "# Plot\n",
    "\n",
    "fig = plt.figure()\n",
    "ax = fig.add_subplot(111)\n",
    "ax.scatter(timeArray,fluxArray,color='black',label=\"normalized flux\")\n",
    "ax.plot([np.min(timeArray),np.max(timeArray)],[fluxMin,fluxMin],color='blue',linestyle='--',label='flux min')\n",
    "ax.plot([np.min(timeArray),np.max(timeArray)],[fluxMax,fluxMax],color='red',linestyle='--',label='flux max')\n",
    "ax.set_xlabel('time (days)')\n",
    "ax.set_ylabel('flux')\n",
    "ax.legend()\n",
    "plt.show(block=False)"
   ]
  },
  {
   "cell_type": "code",
   "execution_count": 78,
   "metadata": {},
   "outputs": [
    {
     "name": "stdout",
     "output_type": "stream",
     "text": [
      "nan\n"
     ]
    }
   ],
   "source": [
    "print(fluxWidth)"
   ]
  },
  {
   "cell_type": "code",
   "execution_count": 79,
   "metadata": {},
   "outputs": [
    {
     "name": "stderr",
     "output_type": "stream",
     "text": [
      "/home/idies/miniconda3/envs/py38/lib/python3.8/site-packages/lightkurve/search.py:346: LightkurveWarning: Warning: 4 files available to download. Only the first file has been downloaded. Please use `download_all()` or specify additional criteria (e.g. quarter, campaign, or sector) to limit your search.\n",
      "  warnings.warn(\n"
     ]
    },
    {
     "data": {
      "image/png": "[encoded data removed]",
      "text/plain": [
       "<Figure size 432x288 with 1 Axes>"
      ]
     },
     "metadata": {
      "needs_background": "light"
     },
     "output_type": "display_data"
    }
   ],
   "source": [
    "TIC = '431479577' # Input TIC\n",
    "\n",
    "# Search for the lightkurve\n",
    "\n",
    "search_result = lk.search_lightcurve('TIC ' + TIC, mission='TESS',author='SPOC')\n",
    "\n",
    "# Download all available TESS lightcurves (i.e. from different sectors)\n",
    "lc = search_result.download()\n",
    "\n",
    "# Combine the different lightkurves\n",
    "\n",
    "#lc = lc_collection.stitch()\n",
    "\n",
    "# Normalize the lightcurve\n",
    "\n",
    "lc = lc.normalize()\n",
    "\n",
    "# Get out a flux and time array\n",
    "\n",
    "timeArray = lc['time'].value # these are numpy arrays\n",
    "fluxArray = lc['sap_flux'].value\n",
    "\n",
    "\n",
    "#timeArray = timeArray[-5000:-50:]\n",
    "#fluxArray = fluxArray[-5000:-50:]\n",
    "# Get the min and max values\n",
    "\n",
    "fluxMin = np.min(fluxArray)\n",
    "fluxMax = np.max(fluxArray)\n",
    "fluxWidth = fluxMax - fluxMin\n",
    "\n",
    "# Plot\n",
    "\n",
    "fig = plt.figure()\n",
    "ax = fig.add_subplot(111)\n",
    "ax.scatter(timeArray,fluxArray,color='black',label=\"normalized flux\")\n",
    "ax.plot([np.min(timeArray),np.max(timeArray)],[fluxMin,fluxMin],color='blue',linestyle='--',label='flux min')\n",
    "ax.plot([np.min(timeArray),np.max(timeArray)],[fluxMax,fluxMax],color='red',linestyle='--',label='flux max')\n",
    "ax.set_xlabel('time (days)')\n",
    "ax.set_ylabel('flux')\n",
    "ax.legend()\n",
    "plt.show(block=False)"
   ]
  }
 ],
 "metadata": {
  "kernelspec": {
   "display_name": "Python 3.8 (py38)",
   "language": "python",
   "name": "py38"
  },
  "language_info": {
   "codemirror_mode": {
    "name": "ipython",
    "version": 3
   },
   "file_extension": ".py",
   "mimetype": "text/x-python",
   "name": "python",
   "nbconvert_exporter": "python",
   "pygments_lexer": "ipython3",
   "version": "3.8.5"
  }
 },
 "nbformat": 4,
 "nbformat_minor": 4
}
